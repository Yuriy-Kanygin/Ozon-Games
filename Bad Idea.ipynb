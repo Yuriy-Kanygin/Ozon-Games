{
 "cells": [
  {
   "cell_type": "code",
   "execution_count": null,
   "id": "5325b338",
   "metadata": {},
   "outputs": [],
   "source": [
    "from sklearn.model_selection import train_test_split\n",
    "from sklearn.metrics import log_loss\n",
    "from sklearn.linear_model import LogisticRegression\n",
    "import numpy as np # linear algebra\n",
    "import pandas as pd # data processing, CSV file I/O (e.g. pd.read_csv)\n",
    "import os\n",
    "for dirname, _, filenames in os.walk('/kaggle/input'):\n",
    "    for filename in filenames:\n",
    "        print(os.path.join(dirname, filename))\n"
   ]
  },
  {
   "cell_type": "code",
   "execution_count": null,
   "id": "e0f0d66c",
   "metadata": {},
   "outputs": [],
   "source": [
    "train = pd.read_csv('../input/ozon-masters-ds-contest-2021/train.csv')\n",
    "test = pd.read_csv('../input/ozon-masters-ds-contest-2021/test.csv')"
   ]
  },
  {
   "cell_type": "code",
   "execution_count": null,
   "id": "a4f2165d",
   "metadata": {},
   "outputs": [],
   "source": [
    "test.head()"
   ]
  },
  {
   "cell_type": "code",
   "execution_count": null,
   "id": "dcc3c63a",
   "metadata": {},
   "outputs": [],
   "source": [
    "Xtrain=train[['X0','X2','X4','X21']]\n",
    "Ytrain=train['target']\n",
    "Xtest=test[['X0','X2','X4','X21']]"
   ]
  },
  {
   "cell_type": "code",
   "execution_count": null,
   "id": "1ebaf3cc",
   "metadata": {},
   "outputs": [],
   "source": [
    "Xtrain.describe()\n",
    "# Xtrain.head()\n",
    "# Xtest.describe()"
   ]
  },
  {
   "cell_type": "code",
   "execution_count": null,
   "id": "beb2b848",
   "metadata": {},
   "outputs": [],
   "source": [
    "dftrain=Xtrain[['X2','X4']]\n",
    "dftest=Xtest[['X2','X4']]\n",
    "Xtrain[['X4']]=dftrain.diff(axis=1)[['X4']]\n",
    "Xtrain = Xtrain[['X0','X4','X21']]\n",
    "Xtest[['X4']]=dftest.diff(axis=1)[['X4']]\n",
    "Xtest = Xtest[['X0','X4','X21']]\n",
    "# Xtest"
   ]
  },
  {
   "cell_type": "code",
   "execution_count": null,
   "id": "a790412f",
   "metadata": {},
   "outputs": [],
   "source": [
    "Xtrain.head()\n"
   ]
  },
  {
   "cell_type": "code",
   "execution_count": null,
   "id": "c7f3d245",
   "metadata": {},
   "outputs": [],
   "source": [
    "Xtrain.describe()\n",
    "# Xtest.describe()"
   ]
  },
  {
   "cell_type": "code",
   "execution_count": null,
   "id": "c9f46d4d",
   "metadata": {},
   "outputs": [],
   "source": [
    "Xtrain[['X0']].value_counts().sort_index().plot()\n",
    "Xtest[['X0']].value_counts().sort_index().plot()"
   ]
  },
  {
   "cell_type": "code",
   "execution_count": null,
   "id": "e0853676",
   "metadata": {},
   "outputs": [],
   "source": [
    "Xtrain[['X4']].value_counts().sort_index().plot()\n",
    "Xtest[['X4']].value_counts().sort_index().plot()"
   ]
  },
  {
   "cell_type": "code",
   "execution_count": null,
   "id": "26c884e5",
   "metadata": {},
   "outputs": [],
   "source": [
    "Xtrain[['X21']].value_counts().sort_index().plot()\n",
    "Xtest[['X21']].value_counts().sort_index().plot()"
   ]
  },
  {
   "cell_type": "code",
   "execution_count": null,
   "id": "3444c24c",
   "metadata": {},
   "outputs": [],
   "source": [
    "# xtrain, xvalid, ytrain, yvalid = train_test_split(Xtrain, Ytrain, test_size=0.33, random_state=42)"
   ]
  },
  {
   "cell_type": "code",
   "execution_count": null,
   "id": "9a5e21f8",
   "metadata": {},
   "outputs": [],
   "source": [
    "LR = LogisticRegression().fit(Xtrain,Ytrain)\n",
    "# from sklearn.ensemble import RandomForestClassifier\n",
    "# RF = RandomForestClassifier(n_estimators=100, max_depth=3, random_state=0)\n",
    "# RF.fit(Xtrain,Ytrain)\n",
    "# from sklearn import svm\n",
    "# SVM = svm.LinearSVC().fit(xtrain,ytrain)"
   ]
  },
  {
   "cell_type": "code",
   "execution_count": null,
   "id": "72fa7117",
   "metadata": {},
   "outputs": [],
   "source": [
    "# SVM.predict(Xtest)|\n",
    "y=Ytest[:,1]\n"
   ]
  },
  {
   "cell_type": "code",
   "execution_count": null,
   "id": "c2b038f3",
   "metadata": {},
   "outputs": [],
   "source": [
    "# df['index']=df.index\n",
    "df = pd.DataFrame(data=y, columns=[\"target\"])\n",
    "df.reset_index(level=0, inplace=True)\n",
    "df.reset_index(drop=True, inplace=True)\n",
    "df=df.rename(columns={'index':'id'})\n",
    "df"
   ]
  },
  {
   "cell_type": "code",
   "execution_count": null,
   "id": "7f47bd70",
   "metadata": {},
   "outputs": [],
   "source": [
    "df.to_csv('submission.csv',index=False)\n"
   ]
  }
 ],
 "metadata": {
  "kernelspec": {
   "display_name": "Python 3 (ipykernel)",
   "language": "python",
   "name": "python3"
  },
  "language_info": {
   "codemirror_mode": {
    "name": "ipython",
    "version": 3
   },
   "file_extension": ".py",
   "mimetype": "text/x-python",
   "name": "python",
   "nbconvert_exporter": "python",
   "pygments_lexer": "ipython3",
   "version": "3.9.2"
  }
 },
 "nbformat": 4,
 "nbformat_minor": 5
}
