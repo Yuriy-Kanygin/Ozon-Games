{
 "cells": [
  {
   "cell_type": "code",
   "execution_count": 1,
   "id": "eae1095b",
   "metadata": {},
   "outputs": [],
   "source": [
    "import pandas as pd\n",
    "import numpy as np \n",
    "# import seaborn as sns\n",
    "# import matplotlib.pyplot as plt\n",
    "from sklearn.model_selection import train_test_split\n",
    "from sklearn.metrics import log_loss\n",
    "# from sklearn.linear_model import LogisticRegression\n",
    "# from sklearn.ensemble import GradientBoostingClassifier, RandomForestClassifier\n",
    "# from category_encoders import TargetEncoder, one_hot\n",
    "from catboost import *\n",
    "%matplotlib inline"
   ]
  },
  {
   "cell_type": "code",
   "execution_count": 2,
   "id": "dad3bfab",
   "metadata": {},
   "outputs": [
    {
     "output_type": "execute_result",
     "data": {
      "text/plain": [
       "   id  X0      X1    X2      X3    X4  X5  X6  X7  X8  ...  X13  X14  X15  \\\n",
       "0   0   2  908749   954  480270   935  71  79  53  89  ...   51  100   87   \n",
       "1   1   1  438444  2162  486685  2154  32  39  48  49  ...   39   83   91   \n",
       "2   2   1  596915  2066  711059  2081  43  21  58  94  ...    7   52   37   \n",
       "3   3   1  625198  1508   66810  1474   7   1  34  73  ...   39   27   55   \n",
       "4   4   2  228654  1202  542816  1196  53  35  16  80  ...   35   95   50   \n",
       "\n",
       "   X16  X17  X18  X19  X20  X21  target  \n",
       "0    3   61   48   43   79  329       0  \n",
       "1    6   57   94   15   89  581       1  \n",
       "2   50   69   60   89   10  548       0  \n",
       "3   97   83    1   88   87  555       1  \n",
       "4   55   10   49   12   68  651       0  \n",
       "\n",
       "[5 rows x 24 columns]"
      ],
      "text/html": "<div>\n<style scoped>\n    .dataframe tbody tr th:only-of-type {\n        vertical-align: middle;\n    }\n\n    .dataframe tbody tr th {\n        vertical-align: top;\n    }\n\n    .dataframe thead th {\n        text-align: right;\n    }\n</style>\n<table border=\"1\" class=\"dataframe\">\n  <thead>\n    <tr style=\"text-align: right;\">\n      <th></th>\n      <th>id</th>\n      <th>X0</th>\n      <th>X1</th>\n      <th>X2</th>\n      <th>X3</th>\n      <th>X4</th>\n      <th>X5</th>\n      <th>X6</th>\n      <th>X7</th>\n      <th>X8</th>\n      <th>...</th>\n      <th>X13</th>\n      <th>X14</th>\n      <th>X15</th>\n      <th>X16</th>\n      <th>X17</th>\n      <th>X18</th>\n      <th>X19</th>\n      <th>X20</th>\n      <th>X21</th>\n      <th>target</th>\n    </tr>\n  </thead>\n  <tbody>\n    <tr>\n      <th>0</th>\n      <td>0</td>\n      <td>2</td>\n      <td>908749</td>\n      <td>954</td>\n      <td>480270</td>\n      <td>935</td>\n      <td>71</td>\n      <td>79</td>\n      <td>53</td>\n      <td>89</td>\n      <td>...</td>\n      <td>51</td>\n      <td>100</td>\n      <td>87</td>\n      <td>3</td>\n      <td>61</td>\n      <td>48</td>\n      <td>43</td>\n      <td>79</td>\n      <td>329</td>\n      <td>0</td>\n    </tr>\n    <tr>\n      <th>1</th>\n      <td>1</td>\n      <td>1</td>\n      <td>438444</td>\n      <td>2162</td>\n      <td>486685</td>\n      <td>2154</td>\n      <td>32</td>\n      <td>39</td>\n      <td>48</td>\n      <td>49</td>\n      <td>...</td>\n      <td>39</td>\n      <td>83</td>\n      <td>91</td>\n      <td>6</td>\n      <td>57</td>\n      <td>94</td>\n      <td>15</td>\n      <td>89</td>\n      <td>581</td>\n      <td>1</td>\n    </tr>\n    <tr>\n      <th>2</th>\n      <td>2</td>\n      <td>1</td>\n      <td>596915</td>\n      <td>2066</td>\n      <td>711059</td>\n      <td>2081</td>\n      <td>43</td>\n      <td>21</td>\n      <td>58</td>\n      <td>94</td>\n      <td>...</td>\n      <td>7</td>\n      <td>52</td>\n      <td>37</td>\n      <td>50</td>\n      <td>69</td>\n      <td>60</td>\n      <td>89</td>\n      <td>10</td>\n      <td>548</td>\n      <td>0</td>\n    </tr>\n    <tr>\n      <th>3</th>\n      <td>3</td>\n      <td>1</td>\n      <td>625198</td>\n      <td>1508</td>\n      <td>66810</td>\n      <td>1474</td>\n      <td>7</td>\n      <td>1</td>\n      <td>34</td>\n      <td>73</td>\n      <td>...</td>\n      <td>39</td>\n      <td>27</td>\n      <td>55</td>\n      <td>97</td>\n      <td>83</td>\n      <td>1</td>\n      <td>88</td>\n      <td>87</td>\n      <td>555</td>\n      <td>1</td>\n    </tr>\n    <tr>\n      <th>4</th>\n      <td>4</td>\n      <td>2</td>\n      <td>228654</td>\n      <td>1202</td>\n      <td>542816</td>\n      <td>1196</td>\n      <td>53</td>\n      <td>35</td>\n      <td>16</td>\n      <td>80</td>\n      <td>...</td>\n      <td>35</td>\n      <td>95</td>\n      <td>50</td>\n      <td>55</td>\n      <td>10</td>\n      <td>49</td>\n      <td>12</td>\n      <td>68</td>\n      <td>651</td>\n      <td>0</td>\n    </tr>\n  </tbody>\n</table>\n<p>5 rows × 24 columns</p>\n</div>"
     },
     "metadata": {},
     "execution_count": 2
    }
   ],
   "source": [
    "data = pd.read_csv('train.csv')\n",
    "data.head()"
   ]
  },
  {
   "source": [
    "# Data Prepairing"
   ],
   "cell_type": "markdown",
   "metadata": {}
  },
  {
   "cell_type": "code",
   "execution_count": 48,
   "metadata": {},
   "outputs": [],
   "source": [
    "y = data.target\n",
    "# X = data.drop(['target', 'id', 'X1', 'X3'], axis=1)\n",
    "X = data.drop(['target', 'id'], axis=1)"
   ]
  },
  {
   "cell_type": "code",
   "execution_count": 49,
   "metadata": {},
   "outputs": [],
   "source": [
    "army_count_1 = X['X5'] + X['X7'] + X['X9'] + X['X11'] + X['X13'] + X['X15'] + X['X17'] + X['X19']\n",
    "army_count_2 = X['X6'] + X['X8'] + X['X10'] + X['X12'] + X['X14'] + X['X16'] + X['X18'] + X['X20']\n",
    "# X['army_relation'] = list(map(lambda x: 1 if x > 1 else 0, army_count_1/army_count_2))\n",
    "X['army_1'] = army_count_1\n",
    "X['army_2'] = army_count_2\n",
    "X['type_time'] = X['X0'] * X['X21']\n",
    "X['pers1_time'] = X['X1'] * X['X21']\n",
    "X['pers2_time'] = X['X3'] * X['X21']\n",
    "X['rank_relation'] = list(map(lambda x: 1 if x > 1 else 0, X['X2']/(X['X4'])))"
   ]
  },
  {
   "cell_type": "code",
   "execution_count": 50,
   "metadata": {},
   "outputs": [],
   "source": [
    "# first_player_army = ['X5', 'X7', 'X9', 'X11', 'X13', 'X15', 'X17', 'X19']\n",
    "# second_player_army = ['X6', 'X8', 'X10', 'X12', 'X14', 'X16', 'X18', 'X20']\n",
    "\n",
    "# for i in range(len(first_player_army)):\n",
    "#     unit_1 = first_player_army[i]\n",
    "#     unit_2 = second_player_army[i]\n",
    "#     X[unit_1 + '-' + unit_2] = list(map(lambda x: 1 if x > 1 else 0, X[unit_1]/X[unit_2])) #round(100 * X[unit_1]/(X[unit_2] + 1)).astype(int)"
   ]
  },
  {
   "cell_type": "code",
   "execution_count": 51,
   "metadata": {},
   "outputs": [
    {
     "output_type": "execute_result",
     "data": {
      "text/plain": [
       "   X0      X1    X2      X3    X4  X5  X6  X7  X8   X9  ...  X14  X15  X16  \\\n",
       "0   2  908749   954  480270   935  71  79  53  89   15  ...  100   87    3   \n",
       "1   1  438444  2162  486685  2154  32  39  48  49  100  ...   83   91    6   \n",
       "2   1  596915  2066  711059  2081  43  21  58  94   88  ...   52   37   50   \n",
       "3   1  625198  1508   66810  1474   7   1  34  73    6  ...   27   55   97   \n",
       "4   2  228654  1202  542816  1196  53  35  16  80   72  ...   95   50   55   \n",
       "\n",
       "   X17  X18  X19  X20  X21  army_relation  rank_relation  \n",
       "0   61   48   43   79  329              0              1  \n",
       "1   57   94   15   89  581              1              1  \n",
       "2   69   60   89   10  548              0              0  \n",
       "3   83    1   88   87  555              0              1  \n",
       "4   10   49   12   68  651              0              1  \n",
       "\n",
       "[5 rows x 24 columns]"
      ],
      "text/html": "<div>\n<style scoped>\n    .dataframe tbody tr th:only-of-type {\n        vertical-align: middle;\n    }\n\n    .dataframe tbody tr th {\n        vertical-align: top;\n    }\n\n    .dataframe thead th {\n        text-align: right;\n    }\n</style>\n<table border=\"1\" class=\"dataframe\">\n  <thead>\n    <tr style=\"text-align: right;\">\n      <th></th>\n      <th>X0</th>\n      <th>X1</th>\n      <th>X2</th>\n      <th>X3</th>\n      <th>X4</th>\n      <th>X5</th>\n      <th>X6</th>\n      <th>X7</th>\n      <th>X8</th>\n      <th>X9</th>\n      <th>...</th>\n      <th>X14</th>\n      <th>X15</th>\n      <th>X16</th>\n      <th>X17</th>\n      <th>X18</th>\n      <th>X19</th>\n      <th>X20</th>\n      <th>X21</th>\n      <th>army_relation</th>\n      <th>rank_relation</th>\n    </tr>\n  </thead>\n  <tbody>\n    <tr>\n      <th>0</th>\n      <td>2</td>\n      <td>908749</td>\n      <td>954</td>\n      <td>480270</td>\n      <td>935</td>\n      <td>71</td>\n      <td>79</td>\n      <td>53</td>\n      <td>89</td>\n      <td>15</td>\n      <td>...</td>\n      <td>100</td>\n      <td>87</td>\n      <td>3</td>\n      <td>61</td>\n      <td>48</td>\n      <td>43</td>\n      <td>79</td>\n      <td>329</td>\n      <td>0</td>\n      <td>1</td>\n    </tr>\n    <tr>\n      <th>1</th>\n      <td>1</td>\n      <td>438444</td>\n      <td>2162</td>\n      <td>486685</td>\n      <td>2154</td>\n      <td>32</td>\n      <td>39</td>\n      <td>48</td>\n      <td>49</td>\n      <td>100</td>\n      <td>...</td>\n      <td>83</td>\n      <td>91</td>\n      <td>6</td>\n      <td>57</td>\n      <td>94</td>\n      <td>15</td>\n      <td>89</td>\n      <td>581</td>\n      <td>1</td>\n      <td>1</td>\n    </tr>\n    <tr>\n      <th>2</th>\n      <td>1</td>\n      <td>596915</td>\n      <td>2066</td>\n      <td>711059</td>\n      <td>2081</td>\n      <td>43</td>\n      <td>21</td>\n      <td>58</td>\n      <td>94</td>\n      <td>88</td>\n      <td>...</td>\n      <td>52</td>\n      <td>37</td>\n      <td>50</td>\n      <td>69</td>\n      <td>60</td>\n      <td>89</td>\n      <td>10</td>\n      <td>548</td>\n      <td>0</td>\n      <td>0</td>\n    </tr>\n    <tr>\n      <th>3</th>\n      <td>1</td>\n      <td>625198</td>\n      <td>1508</td>\n      <td>66810</td>\n      <td>1474</td>\n      <td>7</td>\n      <td>1</td>\n      <td>34</td>\n      <td>73</td>\n      <td>6</td>\n      <td>...</td>\n      <td>27</td>\n      <td>55</td>\n      <td>97</td>\n      <td>83</td>\n      <td>1</td>\n      <td>88</td>\n      <td>87</td>\n      <td>555</td>\n      <td>0</td>\n      <td>1</td>\n    </tr>\n    <tr>\n      <th>4</th>\n      <td>2</td>\n      <td>228654</td>\n      <td>1202</td>\n      <td>542816</td>\n      <td>1196</td>\n      <td>53</td>\n      <td>35</td>\n      <td>16</td>\n      <td>80</td>\n      <td>72</td>\n      <td>...</td>\n      <td>95</td>\n      <td>50</td>\n      <td>55</td>\n      <td>10</td>\n      <td>49</td>\n      <td>12</td>\n      <td>68</td>\n      <td>651</td>\n      <td>0</td>\n      <td>1</td>\n    </tr>\n  </tbody>\n</table>\n<p>5 rows × 24 columns</p>\n</div>"
     },
     "metadata": {},
     "execution_count": 51
    }
   ],
   "source": [
    "X.head()"
   ]
  },
  {
   "cell_type": "code",
   "execution_count": 52,
   "metadata": {},
   "outputs": [
    {
     "output_type": "stream",
     "name": "stdout",
     "text": [
      "[0, 1, 2, 3, 4, 5, 6, 7, 8, 9, 10, 11, 12, 13, 14, 15, 16, 17, 18, 19, 20, 21, 22, 23]\n"
     ]
    }
   ],
   "source": [
    "# cat_features = list(range(0, X.shape[1] - 12))\n",
    "cat_features = list(range(0, X.shape[1]))\n",
    "print(cat_features)"
   ]
  },
  {
   "cell_type": "code",
   "execution_count": 53,
   "metadata": {},
   "outputs": [
    {
     "output_type": "stream",
     "name": "stdout",
     "text": [
      "Labels: {0, 1}\nZero count = 2252162, One count = 1380843\n"
     ]
    }
   ],
   "source": [
    "print('Labels: {}'.format(set(y)))\n",
    "print('Zero count = {}, One count = {}'.format(len(y) - sum(y), sum(y)))"
   ]
  },
  {
   "cell_type": "code",
   "execution_count": 54,
   "metadata": {},
   "outputs": [],
   "source": [
    "X_train, X_validation, y_train, y_validation = train_test_split(X, y, train_size=0.8, random_state=42, shuffle=True)"
   ]
  },
  {
   "source": [
    "# Model training"
   ],
   "cell_type": "markdown",
   "metadata": {}
  },
  {
   "cell_type": "code",
   "execution_count": 55,
   "metadata": {},
   "outputs": [
    {
     "output_type": "stream",
     "name": "stdout",
     "text": [
      "0:\tlearn: 0.6711872\ttest: 0.6709816\tbest: 0.6709816 (0)\ttotal: 11.7s\tremaining: 3h 14m 11s\n",
      "10:\tlearn: 0.6585733\ttest: 0.6546949\tbest: 0.6546949 (10)\ttotal: 1h 52m 52s\tremaining: 7d 1h 8m 40s\n",
      "20:\tlearn: 0.6564254\ttest: 0.6526938\tbest: 0.6526938 (20)\ttotal: 1h 54m 38s\tremaining: 3d 17h 4m 18s\n",
      "30:\tlearn: 0.6554730\ttest: 0.6515552\tbest: 0.6515552 (30)\ttotal: 1h 56m 13s\tremaining: 2d 12h 32m 46s\n",
      "40:\tlearn: 0.6546750\ttest: 0.6501978\tbest: 0.6501978 (40)\ttotal: 1h 58m 10s\tremaining: 1d 22h 4m 4s\n",
      "50:\tlearn: 0.6536863\ttest: 0.6503496\tbest: 0.6501978 (40)\ttotal: 1h 59m 53s\tremaining: 1d 13h 10m 58s\n",
      "60:\tlearn: 0.6534526\ttest: 0.6501415\tbest: 0.6501415 (60)\ttotal: 2h 1m 18s\tremaining: 1d 7h 7m 21s\n",
      "70:\tlearn: 0.6531598\ttest: 0.6493028\tbest: 0.6493028 (70)\ttotal: 2h 3m 11s\tremaining: 1d 2h 51m 52s\n",
      "80:\tlearn: 0.6530190\ttest: 0.6492173\tbest: 0.6492173 (80)\ttotal: 2h 4m 36s\tremaining: 23h 33m 48s\n",
      "90:\tlearn: 0.6528700\ttest: 0.6491394\tbest: 0.6491394 (90)\ttotal: 2h 6m 13s\tremaining: 21h 50s\n",
      "100:\tlearn: 0.6527277\ttest: 0.6490796\tbest: 0.6490796 (100)\ttotal: 2h 7m 46s\tremaining: 18h 57m 17s\n",
      "110:\tlearn: 0.6525877\ttest: 0.6490166\tbest: 0.6490166 (110)\ttotal: 2h 9m 16s\tremaining: 17h 15m 21s\n",
      "120:\tlearn: 0.6524756\ttest: 0.6489600\tbest: 0.6489600 (120)\ttotal: 2h 10m 45s\tremaining: 15h 49m 51s\n",
      "130:\tlearn: 0.6523591\ttest: 0.6489217\tbest: 0.6489217 (130)\ttotal: 2h 12m 21s\tremaining: 14h 38m 1s\n",
      "140:\tlearn: 0.6522505\ttest: 0.6488724\tbest: 0.6488724 (140)\ttotal: 2h 13m 55s\tremaining: 13h 35m 54s\n",
      "150:\tlearn: 0.6521433\ttest: 0.6488351\tbest: 0.6488351 (150)\ttotal: 2h 15m 14s\tremaining: 12h 40m 21s\n",
      "160:\tlearn: 0.6520704\ttest: 0.6488137\tbest: 0.6488137 (160)\ttotal: 2h 16m 34s\tremaining: 11h 51m 43s\n",
      "170:\tlearn: 0.6519508\ttest: 0.6487695\tbest: 0.6487695 (170)\ttotal: 2h 17m 58s\tremaining: 11h 8m 53s\n",
      "180:\tlearn: 0.6518789\ttest: 0.6487510\tbest: 0.6487510 (180)\ttotal: 2h 19m 20s\tremaining: 10h 30m 30s\n",
      "190:\tlearn: 0.6517952\ttest: 0.6487345\tbest: 0.6487345 (190)\ttotal: 2h 20m 47s\tremaining: 9h 56m 19s\n",
      "200:\tlearn: 0.6516284\ttest: 0.6490194\tbest: 0.6487290 (191)\ttotal: 2h 22m 29s\tremaining: 9h 26m 26s\n",
      "210:\tlearn: 0.6515440\ttest: 0.6490038\tbest: 0.6487290 (191)\ttotal: 2h 23m 57s\tremaining: 8h 58m 17s\n",
      "Stopped by overfitting detector  (20 iterations wait)\n",
      "\n",
      "bestTest = 0.6487290079\n",
      "bestIteration = 191\n",
      "\n",
      "Shrink model to first 192 iterations.\n"
     ]
    },
    {
     "output_type": "execute_result",
     "data": {
      "text/plain": [
       "<catboost.core.CatBoostClassifier at 0x1e10b215370>"
      ]
     },
     "metadata": {},
     "execution_count": 55
    }
   ],
   "source": [
    "# !rm 'catboost_info/snapshot.bkp'\n",
    "from catboost import CatBoostClassifier\n",
    "model = CatBoostClassifier(\n",
    "    iterations=1000,\n",
    "    verbose=10,\n",
    "    random_seed=42,\n",
    "    learning_rate=0.5,\n",
    "    # save_snapshot=True,\n",
    "    # snapshot_file='snapshot.bkp',\n",
    "    # snapshot_interval=1,\n",
    "    l2_leaf_reg=5.0,\n",
    "    early_stopping_rounds=20,\n",
    "    one_hot_max_size=2,\n",
    "    bootstrap_type='Bernoulli',\n",
    "    subsample=0.5,\n",
    "    random_strength=2,\n",
    "    use_best_model=True,\n",
    "    best_model_min_trees=30,\n",
    "    rsm=0.5,\n",
    "    leaf_estimation_iterations=5\n",
    ")\n",
    "model.fit(\n",
    "    X_train, y_train,\n",
    "    cat_features=cat_features,\n",
    "    eval_set=(X_validation, y_validation),\n",
    "    plot=False\n",
    ")"
   ]
  },
  {
   "source": [
    "# Feature Importance"
   ],
   "cell_type": "markdown",
   "metadata": {}
  },
  {
   "cell_type": "code",
   "execution_count": 56,
   "metadata": {},
   "outputs": [
    {
     "output_type": "execute_result",
     "data": {
      "text/plain": [
       "       Feature Id  Importances\n",
       "0              X3    30.301919\n",
       "1              X1    21.007065\n",
       "2              X2     6.630050\n",
       "3              X4     4.817018\n",
       "4              X9     2.601869\n",
       "5             X13     2.517036\n",
       "6             X20     2.453401\n",
       "7              X7     2.435469\n",
       "8             X16     2.399470\n",
       "9             X12     2.273118\n",
       "10             X8     2.269015\n",
       "11            X19     2.240172\n",
       "12            X17     2.157871\n",
       "13             X5     2.083172\n",
       "14            X18     2.074197\n",
       "15             X6     2.015776\n",
       "16            X14     1.966152\n",
       "17            X11     1.965251\n",
       "18            X15     1.965249\n",
       "19            X10     1.857452\n",
       "20  rank_relation     1.021589\n",
       "21            X21     0.855674\n",
       "22             X0     0.092016\n",
       "23  army_relation     0.000000"
      ],
      "text/html": "<div>\n<style scoped>\n    .dataframe tbody tr th:only-of-type {\n        vertical-align: middle;\n    }\n\n    .dataframe tbody tr th {\n        vertical-align: top;\n    }\n\n    .dataframe thead th {\n        text-align: right;\n    }\n</style>\n<table border=\"1\" class=\"dataframe\">\n  <thead>\n    <tr style=\"text-align: right;\">\n      <th></th>\n      <th>Feature Id</th>\n      <th>Importances</th>\n    </tr>\n  </thead>\n  <tbody>\n    <tr>\n      <th>0</th>\n      <td>X3</td>\n      <td>30.301919</td>\n    </tr>\n    <tr>\n      <th>1</th>\n      <td>X1</td>\n      <td>21.007065</td>\n    </tr>\n    <tr>\n      <th>2</th>\n      <td>X2</td>\n      <td>6.630050</td>\n    </tr>\n    <tr>\n      <th>3</th>\n      <td>X4</td>\n      <td>4.817018</td>\n    </tr>\n    <tr>\n      <th>4</th>\n      <td>X9</td>\n      <td>2.601869</td>\n    </tr>\n    <tr>\n      <th>5</th>\n      <td>X13</td>\n      <td>2.517036</td>\n    </tr>\n    <tr>\n      <th>6</th>\n      <td>X20</td>\n      <td>2.453401</td>\n    </tr>\n    <tr>\n      <th>7</th>\n      <td>X7</td>\n      <td>2.435469</td>\n    </tr>\n    <tr>\n      <th>8</th>\n      <td>X16</td>\n      <td>2.399470</td>\n    </tr>\n    <tr>\n      <th>9</th>\n      <td>X12</td>\n      <td>2.273118</td>\n    </tr>\n    <tr>\n      <th>10</th>\n      <td>X8</td>\n      <td>2.269015</td>\n    </tr>\n    <tr>\n      <th>11</th>\n      <td>X19</td>\n      <td>2.240172</td>\n    </tr>\n    <tr>\n      <th>12</th>\n      <td>X17</td>\n      <td>2.157871</td>\n    </tr>\n    <tr>\n      <th>13</th>\n      <td>X5</td>\n      <td>2.083172</td>\n    </tr>\n    <tr>\n      <th>14</th>\n      <td>X18</td>\n      <td>2.074197</td>\n    </tr>\n    <tr>\n      <th>15</th>\n      <td>X6</td>\n      <td>2.015776</td>\n    </tr>\n    <tr>\n      <th>16</th>\n      <td>X14</td>\n      <td>1.966152</td>\n    </tr>\n    <tr>\n      <th>17</th>\n      <td>X11</td>\n      <td>1.965251</td>\n    </tr>\n    <tr>\n      <th>18</th>\n      <td>X15</td>\n      <td>1.965249</td>\n    </tr>\n    <tr>\n      <th>19</th>\n      <td>X10</td>\n      <td>1.857452</td>\n    </tr>\n    <tr>\n      <th>20</th>\n      <td>rank_relation</td>\n      <td>1.021589</td>\n    </tr>\n    <tr>\n      <th>21</th>\n      <td>X21</td>\n      <td>0.855674</td>\n    </tr>\n    <tr>\n      <th>22</th>\n      <td>X0</td>\n      <td>0.092016</td>\n    </tr>\n    <tr>\n      <th>23</th>\n      <td>army_relation</td>\n      <td>0.000000</td>\n    </tr>\n  </tbody>\n</table>\n</div>"
     },
     "metadata": {},
     "execution_count": 56
    }
   ],
   "source": [
    "model.get_feature_importance(prettified=True)"
   ]
  },
  {
   "source": [
    "# Hyperparameter tunning"
   ],
   "cell_type": "markdown",
   "metadata": {}
  },
  {
   "cell_type": "code",
   "execution_count": null,
   "metadata": {},
   "outputs": [],
   "source": []
  },
  {
   "source": [
    "# Saving Model"
   ],
   "cell_type": "markdown",
   "metadata": {}
  },
  {
   "cell_type": "code",
   "execution_count": null,
   "metadata": {},
   "outputs": [],
   "source": []
  },
  {
   "source": [
    "# Calculate predictions for the contest"
   ],
   "cell_type": "markdown",
   "metadata": {}
  },
  {
   "cell_type": "code",
   "execution_count": 57,
   "metadata": {},
   "outputs": [
    {
     "output_type": "execute_result",
     "data": {
      "text/plain": [
       "   id  X0       X1    X2       X3    X4  X5   X6  X7  X8  ...  X12  X13  X14  \\\n",
       "0   0   1  1032217  1187  1011523  1172  57  100   1  80  ...   79   45   18   \n",
       "1   1   2  1059033  2128   505263  2104  82   27  87  79  ...   74   96   55   \n",
       "2   2   1   207787  1017   822639  1040  82   48  43  62  ...   16   64   35   \n",
       "3   3   1  1095582  1449    32841  1424  71   43  11  98  ...    1    7   41   \n",
       "4   4   2   963764  1202   489871  1182  11   62  16  55  ...   26   60   37   \n",
       "\n",
       "   X15  X16  X17  X18  X19  X20  X21  \n",
       "0   35   10   80   81   16    0  547  \n",
       "1   54   48    3   92    5   51  656  \n",
       "2   70   99   60   30   37   45  437  \n",
       "3   94   26   52   45   81    1  589  \n",
       "4    7    1   80   48   50   52  340  \n",
       "\n",
       "[5 rows x 23 columns]"
      ],
      "text/html": "<div>\n<style scoped>\n    .dataframe tbody tr th:only-of-type {\n        vertical-align: middle;\n    }\n\n    .dataframe tbody tr th {\n        vertical-align: top;\n    }\n\n    .dataframe thead th {\n        text-align: right;\n    }\n</style>\n<table border=\"1\" class=\"dataframe\">\n  <thead>\n    <tr style=\"text-align: right;\">\n      <th></th>\n      <th>id</th>\n      <th>X0</th>\n      <th>X1</th>\n      <th>X2</th>\n      <th>X3</th>\n      <th>X4</th>\n      <th>X5</th>\n      <th>X6</th>\n      <th>X7</th>\n      <th>X8</th>\n      <th>...</th>\n      <th>X12</th>\n      <th>X13</th>\n      <th>X14</th>\n      <th>X15</th>\n      <th>X16</th>\n      <th>X17</th>\n      <th>X18</th>\n      <th>X19</th>\n      <th>X20</th>\n      <th>X21</th>\n    </tr>\n  </thead>\n  <tbody>\n    <tr>\n      <th>0</th>\n      <td>0</td>\n      <td>1</td>\n      <td>1032217</td>\n      <td>1187</td>\n      <td>1011523</td>\n      <td>1172</td>\n      <td>57</td>\n      <td>100</td>\n      <td>1</td>\n      <td>80</td>\n      <td>...</td>\n      <td>79</td>\n      <td>45</td>\n      <td>18</td>\n      <td>35</td>\n      <td>10</td>\n      <td>80</td>\n      <td>81</td>\n      <td>16</td>\n      <td>0</td>\n      <td>547</td>\n    </tr>\n    <tr>\n      <th>1</th>\n      <td>1</td>\n      <td>2</td>\n      <td>1059033</td>\n      <td>2128</td>\n      <td>505263</td>\n      <td>2104</td>\n      <td>82</td>\n      <td>27</td>\n      <td>87</td>\n      <td>79</td>\n      <td>...</td>\n      <td>74</td>\n      <td>96</td>\n      <td>55</td>\n      <td>54</td>\n      <td>48</td>\n      <td>3</td>\n      <td>92</td>\n      <td>5</td>\n      <td>51</td>\n      <td>656</td>\n    </tr>\n    <tr>\n      <th>2</th>\n      <td>2</td>\n      <td>1</td>\n      <td>207787</td>\n      <td>1017</td>\n      <td>822639</td>\n      <td>1040</td>\n      <td>82</td>\n      <td>48</td>\n      <td>43</td>\n      <td>62</td>\n      <td>...</td>\n      <td>16</td>\n      <td>64</td>\n      <td>35</td>\n      <td>70</td>\n      <td>99</td>\n      <td>60</td>\n      <td>30</td>\n      <td>37</td>\n      <td>45</td>\n      <td>437</td>\n    </tr>\n    <tr>\n      <th>3</th>\n      <td>3</td>\n      <td>1</td>\n      <td>1095582</td>\n      <td>1449</td>\n      <td>32841</td>\n      <td>1424</td>\n      <td>71</td>\n      <td>43</td>\n      <td>11</td>\n      <td>98</td>\n      <td>...</td>\n      <td>1</td>\n      <td>7</td>\n      <td>41</td>\n      <td>94</td>\n      <td>26</td>\n      <td>52</td>\n      <td>45</td>\n      <td>81</td>\n      <td>1</td>\n      <td>589</td>\n    </tr>\n    <tr>\n      <th>4</th>\n      <td>4</td>\n      <td>2</td>\n      <td>963764</td>\n      <td>1202</td>\n      <td>489871</td>\n      <td>1182</td>\n      <td>11</td>\n      <td>62</td>\n      <td>16</td>\n      <td>55</td>\n      <td>...</td>\n      <td>26</td>\n      <td>60</td>\n      <td>37</td>\n      <td>7</td>\n      <td>1</td>\n      <td>80</td>\n      <td>48</td>\n      <td>50</td>\n      <td>52</td>\n      <td>340</td>\n    </tr>\n  </tbody>\n</table>\n<p>5 rows × 23 columns</p>\n</div>"
     },
     "metadata": {},
     "execution_count": 57
    }
   ],
   "source": [
    "data_test = pd.read_csv('test.csv')\n",
    "data_test.head()"
   ]
  },
  {
   "cell_type": "code",
   "execution_count": 58,
   "metadata": {},
   "outputs": [
    {
     "output_type": "execute_result",
     "data": {
      "text/plain": [
       "   X0       X1    X2       X3    X4  X5   X6  X7  X8  X9  ...  X12  X13  X14  \\\n",
       "0   1  1032217  1187  1011523  1172  57  100   1  80  25  ...   79   45   18   \n",
       "1   2  1059033  2128   505263  2104  82   27  87  79  80  ...   74   96   55   \n",
       "2   1   207787  1017   822639  1040  82   48  43  62  18  ...   16   64   35   \n",
       "3   1  1095582  1449    32841  1424  71   43  11  98  80  ...    1    7   41   \n",
       "4   2   963764  1202   489871  1182  11   62  16  55  88  ...   26   60   37   \n",
       "\n",
       "   X15  X16  X17  X18  X19  X20  X21  \n",
       "0   35   10   80   81   16    0  547  \n",
       "1   54   48    3   92    5   51  656  \n",
       "2   70   99   60   30   37   45  437  \n",
       "3   94   26   52   45   81    1  589  \n",
       "4    7    1   80   48   50   52  340  \n",
       "\n",
       "[5 rows x 22 columns]"
      ],
      "text/html": "<div>\n<style scoped>\n    .dataframe tbody tr th:only-of-type {\n        vertical-align: middle;\n    }\n\n    .dataframe tbody tr th {\n        vertical-align: top;\n    }\n\n    .dataframe thead th {\n        text-align: right;\n    }\n</style>\n<table border=\"1\" class=\"dataframe\">\n  <thead>\n    <tr style=\"text-align: right;\">\n      <th></th>\n      <th>X0</th>\n      <th>X1</th>\n      <th>X2</th>\n      <th>X3</th>\n      <th>X4</th>\n      <th>X5</th>\n      <th>X6</th>\n      <th>X7</th>\n      <th>X8</th>\n      <th>X9</th>\n      <th>...</th>\n      <th>X12</th>\n      <th>X13</th>\n      <th>X14</th>\n      <th>X15</th>\n      <th>X16</th>\n      <th>X17</th>\n      <th>X18</th>\n      <th>X19</th>\n      <th>X20</th>\n      <th>X21</th>\n    </tr>\n  </thead>\n  <tbody>\n    <tr>\n      <th>0</th>\n      <td>1</td>\n      <td>1032217</td>\n      <td>1187</td>\n      <td>1011523</td>\n      <td>1172</td>\n      <td>57</td>\n      <td>100</td>\n      <td>1</td>\n      <td>80</td>\n      <td>25</td>\n      <td>...</td>\n      <td>79</td>\n      <td>45</td>\n      <td>18</td>\n      <td>35</td>\n      <td>10</td>\n      <td>80</td>\n      <td>81</td>\n      <td>16</td>\n      <td>0</td>\n      <td>547</td>\n    </tr>\n    <tr>\n      <th>1</th>\n      <td>2</td>\n      <td>1059033</td>\n      <td>2128</td>\n      <td>505263</td>\n      <td>2104</td>\n      <td>82</td>\n      <td>27</td>\n      <td>87</td>\n      <td>79</td>\n      <td>80</td>\n      <td>...</td>\n      <td>74</td>\n      <td>96</td>\n      <td>55</td>\n      <td>54</td>\n      <td>48</td>\n      <td>3</td>\n      <td>92</td>\n      <td>5</td>\n      <td>51</td>\n      <td>656</td>\n    </tr>\n    <tr>\n      <th>2</th>\n      <td>1</td>\n      <td>207787</td>\n      <td>1017</td>\n      <td>822639</td>\n      <td>1040</td>\n      <td>82</td>\n      <td>48</td>\n      <td>43</td>\n      <td>62</td>\n      <td>18</td>\n      <td>...</td>\n      <td>16</td>\n      <td>64</td>\n      <td>35</td>\n      <td>70</td>\n      <td>99</td>\n      <td>60</td>\n      <td>30</td>\n      <td>37</td>\n      <td>45</td>\n      <td>437</td>\n    </tr>\n    <tr>\n      <th>3</th>\n      <td>1</td>\n      <td>1095582</td>\n      <td>1449</td>\n      <td>32841</td>\n      <td>1424</td>\n      <td>71</td>\n      <td>43</td>\n      <td>11</td>\n      <td>98</td>\n      <td>80</td>\n      <td>...</td>\n      <td>1</td>\n      <td>7</td>\n      <td>41</td>\n      <td>94</td>\n      <td>26</td>\n      <td>52</td>\n      <td>45</td>\n      <td>81</td>\n      <td>1</td>\n      <td>589</td>\n    </tr>\n    <tr>\n      <th>4</th>\n      <td>2</td>\n      <td>963764</td>\n      <td>1202</td>\n      <td>489871</td>\n      <td>1182</td>\n      <td>11</td>\n      <td>62</td>\n      <td>16</td>\n      <td>55</td>\n      <td>88</td>\n      <td>...</td>\n      <td>26</td>\n      <td>60</td>\n      <td>37</td>\n      <td>7</td>\n      <td>1</td>\n      <td>80</td>\n      <td>48</td>\n      <td>50</td>\n      <td>52</td>\n      <td>340</td>\n    </tr>\n  </tbody>\n</table>\n<p>5 rows × 22 columns</p>\n</div>"
     },
     "metadata": {},
     "execution_count": 58
    }
   ],
   "source": [
    "X_test = data_test.drop(['id'], axis=1)\n",
    "X_test.head()"
   ]
  },
  {
   "cell_type": "code",
   "execution_count": 60,
   "metadata": {},
   "outputs": [],
   "source": [
    "test_army_count_1 = X_test['X5'] + X_test['X7'] + X_test['X9'] + X_test['X11'] + X_test['X13'] + X_test['X15'] + X_test['X17'] + X_test['X19']\n",
    "test_army_count_2 = X_test['X6'] + X_test['X8'] + X_test['X10'] + X_test['X12'] + X_test['X14'] + X_test['X16'] + X_test['X18'] + X_test['X20']\n",
    "X_test['army_relation'] = list(map(lambda x: 1 if x > 1 else 0, test_army_count_1/test_army_count_2))\n",
    "X_test['rank_relation'] = list(map(lambda x: 1 if x > 1 else 0, X_test['X2']/(X_test['X4'])))"
   ]
  },
  {
   "cell_type": "code",
   "execution_count": 61,
   "metadata": {},
   "outputs": [],
   "source": [
    "y_test = model.predict_proba(X_test)\n",
    "y_test = y_test[:, 1]"
   ]
  },
  {
   "source": [
    "# Prepare the submission"
   ],
   "cell_type": "markdown",
   "metadata": {}
  },
  {
   "cell_type": "code",
   "execution_count": 62,
   "metadata": {},
   "outputs": [
    {
     "output_type": "execute_result",
     "data": {
      "text/plain": [
       "   id    target\n",
       "0   0  0.405511\n",
       "1   1  0.352932\n",
       "2   2  0.314297\n",
       "3   3  0.386206\n",
       "4   4  0.335869"
      ],
      "text/html": "<div>\n<style scoped>\n    .dataframe tbody tr th:only-of-type {\n        vertical-align: middle;\n    }\n\n    .dataframe tbody tr th {\n        vertical-align: top;\n    }\n\n    .dataframe thead th {\n        text-align: right;\n    }\n</style>\n<table border=\"1\" class=\"dataframe\">\n  <thead>\n    <tr style=\"text-align: right;\">\n      <th></th>\n      <th>id</th>\n      <th>target</th>\n    </tr>\n  </thead>\n  <tbody>\n    <tr>\n      <th>0</th>\n      <td>0</td>\n      <td>0.405511</td>\n    </tr>\n    <tr>\n      <th>1</th>\n      <td>1</td>\n      <td>0.352932</td>\n    </tr>\n    <tr>\n      <th>2</th>\n      <td>2</td>\n      <td>0.314297</td>\n    </tr>\n    <tr>\n      <th>3</th>\n      <td>3</td>\n      <td>0.386206</td>\n    </tr>\n    <tr>\n      <th>4</th>\n      <td>4</td>\n      <td>0.335869</td>\n    </tr>\n  </tbody>\n</table>\n</div>"
     },
     "metadata": {},
     "execution_count": 62
    }
   ],
   "source": [
    "ans = pd.DataFrame(data=y_test, columns=[\"target\"])\n",
    "ans.reset_index(level=0, inplace=True)\n",
    "ans.reset_index(drop=True, inplace=True)\n",
    "ans = ans.rename(columns={'index':'id'})\n",
    "ans.head()"
   ]
  },
  {
   "cell_type": "code",
   "execution_count": 63,
   "metadata": {},
   "outputs": [],
   "source": [
    "ans.to_csv('submission.csv',index=False)"
   ]
  },
  {
   "cell_type": "code",
   "execution_count": null,
   "metadata": {},
   "outputs": [],
   "source": []
  }
 ],
 "metadata": {
  "kernelspec": {
   "display_name": "Python 3 (ipykernel)",
   "language": "python",
   "name": "python3"
  }
 },
 "nbformat": 4,
 "nbformat_minor": 5
}