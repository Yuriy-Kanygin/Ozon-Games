{
 "cells": [
  {
   "cell_type": "code",
   "execution_count": 1,
   "id": "eae1095b",
   "metadata": {},
   "outputs": [],
   "source": [
    "import pandas as pd\n",
    "import numpy as np \n",
    "import seaborn as sns\n",
    "import matplotlib.pyplot as plt\n",
    "from sklearn.model_selection import train_test_split\n",
    "from sklearn.metrics import log_loss\n",
    "from sklearn.linear_model import LogisticRegression\n",
    "from sklearn.ensemble import GradientBoostingClassifier, RandomForestClassifier\n",
    "from category_encoders import TargetEncoder, one_hot\n",
    "from catboost import *\n",
    "%matplotlib inline"
   ]
  },
  {
   "cell_type": "code",
   "execution_count": 3,
   "id": "dad3bfab",
   "metadata": {},
   "outputs": [
    {
     "output_type": "execute_result",
     "data": {
      "text/plain": [
       "   id  X0      X1    X2      X3    X4  X5  X6  X7  X8  ...  X13  X14  X15  \\\n",
       "0   0   2  908749   954  480270   935  71  79  53  89  ...   51  100   87   \n",
       "1   1   1  438444  2162  486685  2154  32  39  48  49  ...   39   83   91   \n",
       "2   2   1  596915  2066  711059  2081  43  21  58  94  ...    7   52   37   \n",
       "3   3   1  625198  1508   66810  1474   7   1  34  73  ...   39   27   55   \n",
       "4   4   2  228654  1202  542816  1196  53  35  16  80  ...   35   95   50   \n",
       "\n",
       "   X16  X17  X18  X19  X20  X21  target  \n",
       "0    3   61   48   43   79  329       0  \n",
       "1    6   57   94   15   89  581       1  \n",
       "2   50   69   60   89   10  548       0  \n",
       "3   97   83    1   88   87  555       1  \n",
       "4   55   10   49   12   68  651       0  \n",
       "\n",
       "[5 rows x 24 columns]"
      ],
      "text/html": "<div>\n<style scoped>\n    .dataframe tbody tr th:only-of-type {\n        vertical-align: middle;\n    }\n\n    .dataframe tbody tr th {\n        vertical-align: top;\n    }\n\n    .dataframe thead th {\n        text-align: right;\n    }\n</style>\n<table border=\"1\" class=\"dataframe\">\n  <thead>\n    <tr style=\"text-align: right;\">\n      <th></th>\n      <th>id</th>\n      <th>X0</th>\n      <th>X1</th>\n      <th>X2</th>\n      <th>X3</th>\n      <th>X4</th>\n      <th>X5</th>\n      <th>X6</th>\n      <th>X7</th>\n      <th>X8</th>\n      <th>...</th>\n      <th>X13</th>\n      <th>X14</th>\n      <th>X15</th>\n      <th>X16</th>\n      <th>X17</th>\n      <th>X18</th>\n      <th>X19</th>\n      <th>X20</th>\n      <th>X21</th>\n      <th>target</th>\n    </tr>\n  </thead>\n  <tbody>\n    <tr>\n      <th>0</th>\n      <td>0</td>\n      <td>2</td>\n      <td>908749</td>\n      <td>954</td>\n      <td>480270</td>\n      <td>935</td>\n      <td>71</td>\n      <td>79</td>\n      <td>53</td>\n      <td>89</td>\n      <td>...</td>\n      <td>51</td>\n      <td>100</td>\n      <td>87</td>\n      <td>3</td>\n      <td>61</td>\n      <td>48</td>\n      <td>43</td>\n      <td>79</td>\n      <td>329</td>\n      <td>0</td>\n    </tr>\n    <tr>\n      <th>1</th>\n      <td>1</td>\n      <td>1</td>\n      <td>438444</td>\n      <td>2162</td>\n      <td>486685</td>\n      <td>2154</td>\n      <td>32</td>\n      <td>39</td>\n      <td>48</td>\n      <td>49</td>\n      <td>...</td>\n      <td>39</td>\n      <td>83</td>\n      <td>91</td>\n      <td>6</td>\n      <td>57</td>\n      <td>94</td>\n      <td>15</td>\n      <td>89</td>\n      <td>581</td>\n      <td>1</td>\n    </tr>\n    <tr>\n      <th>2</th>\n      <td>2</td>\n      <td>1</td>\n      <td>596915</td>\n      <td>2066</td>\n      <td>711059</td>\n      <td>2081</td>\n      <td>43</td>\n      <td>21</td>\n      <td>58</td>\n      <td>94</td>\n      <td>...</td>\n      <td>7</td>\n      <td>52</td>\n      <td>37</td>\n      <td>50</td>\n      <td>69</td>\n      <td>60</td>\n      <td>89</td>\n      <td>10</td>\n      <td>548</td>\n      <td>0</td>\n    </tr>\n    <tr>\n      <th>3</th>\n      <td>3</td>\n      <td>1</td>\n      <td>625198</td>\n      <td>1508</td>\n      <td>66810</td>\n      <td>1474</td>\n      <td>7</td>\n      <td>1</td>\n      <td>34</td>\n      <td>73</td>\n      <td>...</td>\n      <td>39</td>\n      <td>27</td>\n      <td>55</td>\n      <td>97</td>\n      <td>83</td>\n      <td>1</td>\n      <td>88</td>\n      <td>87</td>\n      <td>555</td>\n      <td>1</td>\n    </tr>\n    <tr>\n      <th>4</th>\n      <td>4</td>\n      <td>2</td>\n      <td>228654</td>\n      <td>1202</td>\n      <td>542816</td>\n      <td>1196</td>\n      <td>53</td>\n      <td>35</td>\n      <td>16</td>\n      <td>80</td>\n      <td>...</td>\n      <td>35</td>\n      <td>95</td>\n      <td>50</td>\n      <td>55</td>\n      <td>10</td>\n      <td>49</td>\n      <td>12</td>\n      <td>68</td>\n      <td>651</td>\n      <td>0</td>\n    </tr>\n  </tbody>\n</table>\n<p>5 rows × 24 columns</p>\n</div>"
     },
     "metadata": {},
     "execution_count": 3
    }
   ],
   "source": [
    "data = pd.read_csv('train.csv')\n",
    "data.head()"
   ]
  },
  {
   "source": [
    "# Data Prepairing"
   ],
   "cell_type": "markdown",
   "metadata": {}
  },
  {
   "cell_type": "code",
   "execution_count": 4,
   "metadata": {},
   "outputs": [
    {
     "output_type": "execute_result",
     "data": {
      "text/plain": [
       "                 id            X0            X1            X2            X3  \\\n",
       "count  3.633005e+06  3.633005e+06  3.633005e+06  3.633005e+06  3.633005e+06   \n",
       "mean   1.816502e+06  1.650469e+00  5.638035e+05  1.449992e+03  5.637574e+05   \n",
       "std    1.048758e+06  7.179981e-01  3.248814e+05  4.848098e+02  3.247859e+05   \n",
       "min    0.000000e+00  1.000000e+00  0.000000e+00  6.000000e+00  0.000000e+00   \n",
       "25%    9.082510e+05  1.000000e+00  2.829920e+05  1.074000e+03  2.829370e+05   \n",
       "50%    1.816502e+06  2.000000e+00  5.637460e+05  1.370000e+03  5.639180e+05   \n",
       "75%    2.724753e+06  2.000000e+00  8.454180e+05  1.747000e+03  8.454590e+05   \n",
       "max    3.633004e+06  8.000000e+00  1.126077e+06  4.186000e+03  1.126076e+06   \n",
       "\n",
       "                 X4            X5            X6            X7            X8  \\\n",
       "count  3.633005e+06  3.633005e+06  3.633005e+06  3.633005e+06  3.633005e+06   \n",
       "mean   1.450097e+03  5.016512e+01  5.016514e+01  5.018091e+01  5.015996e+01   \n",
       "std    4.848208e+02  2.964439e+01  2.966132e+01  2.963772e+01  2.964519e+01   \n",
       "min    3.000000e+00  0.000000e+00  0.000000e+00  0.000000e+00  0.000000e+00   \n",
       "25%    1.074000e+03  2.400000e+01  2.400000e+01  2.400000e+01  2.400000e+01   \n",
       "50%    1.371000e+03  5.100000e+01  5.100000e+01  5.100000e+01  5.100000e+01   \n",
       "75%    1.747000e+03  7.900000e+01  7.900000e+01  7.900000e+01  7.900000e+01   \n",
       "max    4.192000e+03  1.000000e+02  1.000000e+02  1.000000e+02  1.000000e+02   \n",
       "\n",
       "       ...           X13           X14           X15           X16  \\\n",
       "count  ...  3.633005e+06  3.633005e+06  3.633005e+06  3.633005e+06   \n",
       "mean   ...  5.017506e+01  5.017908e+01  5.018681e+01  5.018890e+01   \n",
       "std    ...  2.965711e+01  2.965469e+01  2.964957e+01  2.965893e+01   \n",
       "min    ...  0.000000e+00  0.000000e+00  0.000000e+00  0.000000e+00   \n",
       "25%    ...  2.400000e+01  2.400000e+01  2.400000e+01  2.400000e+01   \n",
       "50%    ...  5.100000e+01  5.100000e+01  5.100000e+01  5.100000e+01   \n",
       "75%    ...  7.900000e+01  7.900000e+01  7.900000e+01  7.900000e+01   \n",
       "max    ...  1.000000e+02  1.000000e+02  1.000000e+02  1.000000e+02   \n",
       "\n",
       "                X17           X18           X19           X20           X21  \\\n",
       "count  3.633005e+06  3.633005e+06  3.633005e+06  3.633005e+06  3.633005e+06   \n",
       "mean   5.014741e+01  5.018218e+01  5.016238e+01  5.015347e+01  4.913625e+02   \n",
       "std    2.965769e+01  2.965730e+01  2.963982e+01  2.966294e+01  1.464528e+02   \n",
       "min    0.000000e+00  0.000000e+00  0.000000e+00  0.000000e+00  7.000000e+00   \n",
       "25%    2.400000e+01  2.400000e+01  2.400000e+01  2.400000e+01  3.840000e+02   \n",
       "50%    5.100000e+01  5.100000e+01  5.100000e+01  5.100000e+01  5.350000e+02   \n",
       "75%    7.900000e+01  7.900000e+01  7.900000e+01  7.900000e+01  6.150000e+02   \n",
       "max    1.000000e+02  1.000000e+02  1.000000e+02  1.000000e+02  6.800000e+02   \n",
       "\n",
       "             target  \n",
       "count  3.633005e+06  \n",
       "mean   3.800829e-01  \n",
       "std    4.854070e-01  \n",
       "min    0.000000e+00  \n",
       "25%    0.000000e+00  \n",
       "50%    0.000000e+00  \n",
       "75%    1.000000e+00  \n",
       "max    1.000000e+00  \n",
       "\n",
       "[8 rows x 24 columns]"
      ],
      "text/html": "<div>\n<style scoped>\n    .dataframe tbody tr th:only-of-type {\n        vertical-align: middle;\n    }\n\n    .dataframe tbody tr th {\n        vertical-align: top;\n    }\n\n    .dataframe thead th {\n        text-align: right;\n    }\n</style>\n<table border=\"1\" class=\"dataframe\">\n  <thead>\n    <tr style=\"text-align: right;\">\n      <th></th>\n      <th>id</th>\n      <th>X0</th>\n      <th>X1</th>\n      <th>X2</th>\n      <th>X3</th>\n      <th>X4</th>\n      <th>X5</th>\n      <th>X6</th>\n      <th>X7</th>\n      <th>X8</th>\n      <th>...</th>\n      <th>X13</th>\n      <th>X14</th>\n      <th>X15</th>\n      <th>X16</th>\n      <th>X17</th>\n      <th>X18</th>\n      <th>X19</th>\n      <th>X20</th>\n      <th>X21</th>\n      <th>target</th>\n    </tr>\n  </thead>\n  <tbody>\n    <tr>\n      <th>count</th>\n      <td>3.633005e+06</td>\n      <td>3.633005e+06</td>\n      <td>3.633005e+06</td>\n      <td>3.633005e+06</td>\n      <td>3.633005e+06</td>\n      <td>3.633005e+06</td>\n      <td>3.633005e+06</td>\n      <td>3.633005e+06</td>\n      <td>3.633005e+06</td>\n      <td>3.633005e+06</td>\n      <td>...</td>\n      <td>3.633005e+06</td>\n      <td>3.633005e+06</td>\n      <td>3.633005e+06</td>\n      <td>3.633005e+06</td>\n      <td>3.633005e+06</td>\n      <td>3.633005e+06</td>\n      <td>3.633005e+06</td>\n      <td>3.633005e+06</td>\n      <td>3.633005e+06</td>\n      <td>3.633005e+06</td>\n    </tr>\n    <tr>\n      <th>mean</th>\n      <td>1.816502e+06</td>\n      <td>1.650469e+00</td>\n      <td>5.638035e+05</td>\n      <td>1.449992e+03</td>\n      <td>5.637574e+05</td>\n      <td>1.450097e+03</td>\n      <td>5.016512e+01</td>\n      <td>5.016514e+01</td>\n      <td>5.018091e+01</td>\n      <td>5.015996e+01</td>\n      <td>...</td>\n      <td>5.017506e+01</td>\n      <td>5.017908e+01</td>\n      <td>5.018681e+01</td>\n      <td>5.018890e+01</td>\n      <td>5.014741e+01</td>\n      <td>5.018218e+01</td>\n      <td>5.016238e+01</td>\n      <td>5.015347e+01</td>\n      <td>4.913625e+02</td>\n      <td>3.800829e-01</td>\n    </tr>\n    <tr>\n      <th>std</th>\n      <td>1.048758e+06</td>\n      <td>7.179981e-01</td>\n      <td>3.248814e+05</td>\n      <td>4.848098e+02</td>\n      <td>3.247859e+05</td>\n      <td>4.848208e+02</td>\n      <td>2.964439e+01</td>\n      <td>2.966132e+01</td>\n      <td>2.963772e+01</td>\n      <td>2.964519e+01</td>\n      <td>...</td>\n      <td>2.965711e+01</td>\n      <td>2.965469e+01</td>\n      <td>2.964957e+01</td>\n      <td>2.965893e+01</td>\n      <td>2.965769e+01</td>\n      <td>2.965730e+01</td>\n      <td>2.963982e+01</td>\n      <td>2.966294e+01</td>\n      <td>1.464528e+02</td>\n      <td>4.854070e-01</td>\n    </tr>\n    <tr>\n      <th>min</th>\n      <td>0.000000e+00</td>\n      <td>1.000000e+00</td>\n      <td>0.000000e+00</td>\n      <td>6.000000e+00</td>\n      <td>0.000000e+00</td>\n      <td>3.000000e+00</td>\n      <td>0.000000e+00</td>\n      <td>0.000000e+00</td>\n      <td>0.000000e+00</td>\n      <td>0.000000e+00</td>\n      <td>...</td>\n      <td>0.000000e+00</td>\n      <td>0.000000e+00</td>\n      <td>0.000000e+00</td>\n      <td>0.000000e+00</td>\n      <td>0.000000e+00</td>\n      <td>0.000000e+00</td>\n      <td>0.000000e+00</td>\n      <td>0.000000e+00</td>\n      <td>7.000000e+00</td>\n      <td>0.000000e+00</td>\n    </tr>\n    <tr>\n      <th>25%</th>\n      <td>9.082510e+05</td>\n      <td>1.000000e+00</td>\n      <td>2.829920e+05</td>\n      <td>1.074000e+03</td>\n      <td>2.829370e+05</td>\n      <td>1.074000e+03</td>\n      <td>2.400000e+01</td>\n      <td>2.400000e+01</td>\n      <td>2.400000e+01</td>\n      <td>2.400000e+01</td>\n      <td>...</td>\n      <td>2.400000e+01</td>\n      <td>2.400000e+01</td>\n      <td>2.400000e+01</td>\n      <td>2.400000e+01</td>\n      <td>2.400000e+01</td>\n      <td>2.400000e+01</td>\n      <td>2.400000e+01</td>\n      <td>2.400000e+01</td>\n      <td>3.840000e+02</td>\n      <td>0.000000e+00</td>\n    </tr>\n    <tr>\n      <th>50%</th>\n      <td>1.816502e+06</td>\n      <td>2.000000e+00</td>\n      <td>5.637460e+05</td>\n      <td>1.370000e+03</td>\n      <td>5.639180e+05</td>\n      <td>1.371000e+03</td>\n      <td>5.100000e+01</td>\n      <td>5.100000e+01</td>\n      <td>5.100000e+01</td>\n      <td>5.100000e+01</td>\n      <td>...</td>\n      <td>5.100000e+01</td>\n      <td>5.100000e+01</td>\n      <td>5.100000e+01</td>\n      <td>5.100000e+01</td>\n      <td>5.100000e+01</td>\n      <td>5.100000e+01</td>\n      <td>5.100000e+01</td>\n      <td>5.100000e+01</td>\n      <td>5.350000e+02</td>\n      <td>0.000000e+00</td>\n    </tr>\n    <tr>\n      <th>75%</th>\n      <td>2.724753e+06</td>\n      <td>2.000000e+00</td>\n      <td>8.454180e+05</td>\n      <td>1.747000e+03</td>\n      <td>8.454590e+05</td>\n      <td>1.747000e+03</td>\n      <td>7.900000e+01</td>\n      <td>7.900000e+01</td>\n      <td>7.900000e+01</td>\n      <td>7.900000e+01</td>\n      <td>...</td>\n      <td>7.900000e+01</td>\n      <td>7.900000e+01</td>\n      <td>7.900000e+01</td>\n      <td>7.900000e+01</td>\n      <td>7.900000e+01</td>\n      <td>7.900000e+01</td>\n      <td>7.900000e+01</td>\n      <td>7.900000e+01</td>\n      <td>6.150000e+02</td>\n      <td>1.000000e+00</td>\n    </tr>\n    <tr>\n      <th>max</th>\n      <td>3.633004e+06</td>\n      <td>8.000000e+00</td>\n      <td>1.126077e+06</td>\n      <td>4.186000e+03</td>\n      <td>1.126076e+06</td>\n      <td>4.192000e+03</td>\n      <td>1.000000e+02</td>\n      <td>1.000000e+02</td>\n      <td>1.000000e+02</td>\n      <td>1.000000e+02</td>\n      <td>...</td>\n      <td>1.000000e+02</td>\n      <td>1.000000e+02</td>\n      <td>1.000000e+02</td>\n      <td>1.000000e+02</td>\n      <td>1.000000e+02</td>\n      <td>1.000000e+02</td>\n      <td>1.000000e+02</td>\n      <td>1.000000e+02</td>\n      <td>6.800000e+02</td>\n      <td>1.000000e+00</td>\n    </tr>\n  </tbody>\n</table>\n<p>8 rows × 24 columns</p>\n</div>"
     },
     "metadata": {},
     "execution_count": 4
    }
   ],
   "source": [
    "data.describe()"
   ]
  },
  {
   "cell_type": "code",
   "execution_count": 5,
   "metadata": {},
   "outputs": [],
   "source": [
    "y = data.target\n",
    "X = data.drop(['target', 'id'], axis=1)"
   ]
  },
  {
   "cell_type": "code",
   "execution_count": 6,
   "metadata": {},
   "outputs": [
    {
     "output_type": "stream",
     "name": "stdout",
     "text": [
      "[0, 1, 2, 3, 4, 5, 6, 7, 8, 9, 10, 11, 12, 13, 14, 15, 16, 17, 18, 19, 20]\n"
     ]
    }
   ],
   "source": [
    "cat_features = list(range(0, X.shape[1]-1))\n",
    "print(cat_features)"
   ]
  },
  {
   "cell_type": "code",
   "execution_count": 7,
   "metadata": {},
   "outputs": [
    {
     "output_type": "stream",
     "name": "stdout",
     "text": [
      "Labels: {0, 1}\nZero count = 2252162, One count = 1380843\n"
     ]
    }
   ],
   "source": [
    "print('Labels: {}'.format(set(y)))\n",
    "print('Zero count = {}, One count = {}'.format(len(y) - sum(y), sum(y)))"
   ]
  },
  {
   "cell_type": "code",
   "execution_count": 8,
   "metadata": {},
   "outputs": [],
   "source": [
    "X_train, X_validation, y_train, y_validation = train_test_split(X, y, train_size=0.8, random_state=42, shuffle=True)"
   ]
  },
  {
   "source": [
    "# Model training"
   ],
   "cell_type": "markdown",
   "metadata": {}
  },
  {
   "cell_type": "code",
   "execution_count": 10,
   "metadata": {},
   "outputs": [
    {
     "output_type": "stream",
     "name": "stderr",
     "text": [
      "Custom logger is already specified. Specify more than one logger at same time is not thread safe.Stopped by overfitting detector  (20 iterations wait)\n",
      "\n",
      "bestTest = 0.650908725\n",
      "bestIteration = 224\n",
      "\n",
      "Shrink model to first 225 iterations.\n"
     ]
    },
    {
     "output_type": "execute_result",
     "data": {
      "text/plain": [
       "<catboost.core.CatBoostClassifier at 0x1e555bced00>"
      ]
     },
     "metadata": {},
     "execution_count": 10
    }
   ],
   "source": [
    "# !rm 'catboost_info/snapshot.bkp'\n",
    "from catboost import CatBoostClassifier\n",
    "model = CatBoostClassifier(\n",
    "    iterations=1000,\n",
    "    verbose=10,\n",
    "    random_seed=42,\n",
    "    learning_rate=0.3,\n",
    "    save_snapshot=True,\n",
    "    snapshot_file='snapshot.bkp',\n",
    "    snapshot_interval=1,\n",
    "    l2_leaf_reg=5.0,\n",
    "    early_stopping_rounds=20,\n",
    "    one_hot_max_size=5,\n",
    "    bootstrap_type='Bernoulli',\n",
    "    subsample=0.5,\n",
    "    random_strength=2,\n",
    "    use_best_model=True,\n",
    "    best_model_min_trees=30,\n",
    "    rsm=0.5,\n",
    "    leaf_estimation_iterations=5\n",
    ")\n",
    "model.fit(\n",
    "    X_train, y_train,\n",
    "    cat_features=cat_features,\n",
    "    eval_set=(X_validation, y_validation),\n",
    "    plot=False\n",
    ")"
   ]
  },
  {
   "cell_type": "code",
   "execution_count": 11,
   "metadata": {},
   "outputs": [
    {
     "output_type": "execute_result",
     "data": {
      "text/plain": [
       "225"
      ]
     },
     "metadata": {},
     "execution_count": 11
    }
   ],
   "source": [
    "model.tree_count_"
   ]
  },
  {
   "source": [
    "# Feature Importance"
   ],
   "cell_type": "markdown",
   "metadata": {}
  },
  {
   "cell_type": "code",
   "execution_count": 12,
   "metadata": {},
   "outputs": [
    {
     "output_type": "execute_result",
     "data": {
      "text/plain": [
       "   Feature Id  Importances\n",
       "0          X1    30.616309\n",
       "1          X3    29.539410\n",
       "2          X2     6.444459\n",
       "3          X4     2.453371\n",
       "4         X18     2.429361\n",
       "5          X6     2.065132\n",
       "6          X9     1.984663\n",
       "7         X12     1.947628\n",
       "8          X5     1.930384\n",
       "9          X8     1.904168\n",
       "10        X19     1.898126\n",
       "11        X16     1.858241\n",
       "12        X11     1.823915\n",
       "13        X13     1.822466\n",
       "14        X10     1.818217\n",
       "15        X20     1.809112\n",
       "16        X15     1.755675\n",
       "17         X7     1.749113\n",
       "18        X14     1.725558\n",
       "19        X17     1.719084\n",
       "20         X0     0.458462\n",
       "21        X21     0.247148"
      ],
      "text/html": "<div>\n<style scoped>\n    .dataframe tbody tr th:only-of-type {\n        vertical-align: middle;\n    }\n\n    .dataframe tbody tr th {\n        vertical-align: top;\n    }\n\n    .dataframe thead th {\n        text-align: right;\n    }\n</style>\n<table border=\"1\" class=\"dataframe\">\n  <thead>\n    <tr style=\"text-align: right;\">\n      <th></th>\n      <th>Feature Id</th>\n      <th>Importances</th>\n    </tr>\n  </thead>\n  <tbody>\n    <tr>\n      <th>0</th>\n      <td>X1</td>\n      <td>30.616309</td>\n    </tr>\n    <tr>\n      <th>1</th>\n      <td>X3</td>\n      <td>29.539410</td>\n    </tr>\n    <tr>\n      <th>2</th>\n      <td>X2</td>\n      <td>6.444459</td>\n    </tr>\n    <tr>\n      <th>3</th>\n      <td>X4</td>\n      <td>2.453371</td>\n    </tr>\n    <tr>\n      <th>4</th>\n      <td>X18</td>\n      <td>2.429361</td>\n    </tr>\n    <tr>\n      <th>5</th>\n      <td>X6</td>\n      <td>2.065132</td>\n    </tr>\n    <tr>\n      <th>6</th>\n      <td>X9</td>\n      <td>1.984663</td>\n    </tr>\n    <tr>\n      <th>7</th>\n      <td>X12</td>\n      <td>1.947628</td>\n    </tr>\n    <tr>\n      <th>8</th>\n      <td>X5</td>\n      <td>1.930384</td>\n    </tr>\n    <tr>\n      <th>9</th>\n      <td>X8</td>\n      <td>1.904168</td>\n    </tr>\n    <tr>\n      <th>10</th>\n      <td>X19</td>\n      <td>1.898126</td>\n    </tr>\n    <tr>\n      <th>11</th>\n      <td>X16</td>\n      <td>1.858241</td>\n    </tr>\n    <tr>\n      <th>12</th>\n      <td>X11</td>\n      <td>1.823915</td>\n    </tr>\n    <tr>\n      <th>13</th>\n      <td>X13</td>\n      <td>1.822466</td>\n    </tr>\n    <tr>\n      <th>14</th>\n      <td>X10</td>\n      <td>1.818217</td>\n    </tr>\n    <tr>\n      <th>15</th>\n      <td>X20</td>\n      <td>1.809112</td>\n    </tr>\n    <tr>\n      <th>16</th>\n      <td>X15</td>\n      <td>1.755675</td>\n    </tr>\n    <tr>\n      <th>17</th>\n      <td>X7</td>\n      <td>1.749113</td>\n    </tr>\n    <tr>\n      <th>18</th>\n      <td>X14</td>\n      <td>1.725558</td>\n    </tr>\n    <tr>\n      <th>19</th>\n      <td>X17</td>\n      <td>1.719084</td>\n    </tr>\n    <tr>\n      <th>20</th>\n      <td>X0</td>\n      <td>0.458462</td>\n    </tr>\n    <tr>\n      <th>21</th>\n      <td>X21</td>\n      <td>0.247148</td>\n    </tr>\n  </tbody>\n</table>\n</div>"
     },
     "metadata": {},
     "execution_count": 12
    }
   ],
   "source": [
    "model.get_feature_importance(prettified=True)"
   ]
  },
  {
   "source": [
    "# Hyperparameter tunning"
   ],
   "cell_type": "markdown",
   "metadata": {}
  },
  {
   "cell_type": "code",
   "execution_count": null,
   "metadata": {},
   "outputs": [],
   "source": []
  },
  {
   "source": [
    "# Saving Model"
   ],
   "cell_type": "markdown",
   "metadata": {}
  },
  {
   "cell_type": "code",
   "execution_count": null,
   "metadata": {},
   "outputs": [],
   "source": []
  },
  {
   "source": [
    "# Calculate predictions for the contest"
   ],
   "cell_type": "markdown",
   "metadata": {}
  },
  {
   "cell_type": "code",
   "execution_count": 13,
   "metadata": {},
   "outputs": [
    {
     "output_type": "execute_result",
     "data": {
      "text/plain": [
       "   id  X0       X1    X2       X3    X4  X5   X6  X7  X8  ...  X12  X13  X14  \\\n",
       "0   0   1  1032217  1187  1011523  1172  57  100   1  80  ...   79   45   18   \n",
       "1   1   2  1059033  2128   505263  2104  82   27  87  79  ...   74   96   55   \n",
       "2   2   1   207787  1017   822639  1040  82   48  43  62  ...   16   64   35   \n",
       "3   3   1  1095582  1449    32841  1424  71   43  11  98  ...    1    7   41   \n",
       "4   4   2   963764  1202   489871  1182  11   62  16  55  ...   26   60   37   \n",
       "\n",
       "   X15  X16  X17  X18  X19  X20  X21  \n",
       "0   35   10   80   81   16    0  547  \n",
       "1   54   48    3   92    5   51  656  \n",
       "2   70   99   60   30   37   45  437  \n",
       "3   94   26   52   45   81    1  589  \n",
       "4    7    1   80   48   50   52  340  \n",
       "\n",
       "[5 rows x 23 columns]"
      ],
      "text/html": "<div>\n<style scoped>\n    .dataframe tbody tr th:only-of-type {\n        vertical-align: middle;\n    }\n\n    .dataframe tbody tr th {\n        vertical-align: top;\n    }\n\n    .dataframe thead th {\n        text-align: right;\n    }\n</style>\n<table border=\"1\" class=\"dataframe\">\n  <thead>\n    <tr style=\"text-align: right;\">\n      <th></th>\n      <th>id</th>\n      <th>X0</th>\n      <th>X1</th>\n      <th>X2</th>\n      <th>X3</th>\n      <th>X4</th>\n      <th>X5</th>\n      <th>X6</th>\n      <th>X7</th>\n      <th>X8</th>\n      <th>...</th>\n      <th>X12</th>\n      <th>X13</th>\n      <th>X14</th>\n      <th>X15</th>\n      <th>X16</th>\n      <th>X17</th>\n      <th>X18</th>\n      <th>X19</th>\n      <th>X20</th>\n      <th>X21</th>\n    </tr>\n  </thead>\n  <tbody>\n    <tr>\n      <th>0</th>\n      <td>0</td>\n      <td>1</td>\n      <td>1032217</td>\n      <td>1187</td>\n      <td>1011523</td>\n      <td>1172</td>\n      <td>57</td>\n      <td>100</td>\n      <td>1</td>\n      <td>80</td>\n      <td>...</td>\n      <td>79</td>\n      <td>45</td>\n      <td>18</td>\n      <td>35</td>\n      <td>10</td>\n      <td>80</td>\n      <td>81</td>\n      <td>16</td>\n      <td>0</td>\n      <td>547</td>\n    </tr>\n    <tr>\n      <th>1</th>\n      <td>1</td>\n      <td>2</td>\n      <td>1059033</td>\n      <td>2128</td>\n      <td>505263</td>\n      <td>2104</td>\n      <td>82</td>\n      <td>27</td>\n      <td>87</td>\n      <td>79</td>\n      <td>...</td>\n      <td>74</td>\n      <td>96</td>\n      <td>55</td>\n      <td>54</td>\n      <td>48</td>\n      <td>3</td>\n      <td>92</td>\n      <td>5</td>\n      <td>51</td>\n      <td>656</td>\n    </tr>\n    <tr>\n      <th>2</th>\n      <td>2</td>\n      <td>1</td>\n      <td>207787</td>\n      <td>1017</td>\n      <td>822639</td>\n      <td>1040</td>\n      <td>82</td>\n      <td>48</td>\n      <td>43</td>\n      <td>62</td>\n      <td>...</td>\n      <td>16</td>\n      <td>64</td>\n      <td>35</td>\n      <td>70</td>\n      <td>99</td>\n      <td>60</td>\n      <td>30</td>\n      <td>37</td>\n      <td>45</td>\n      <td>437</td>\n    </tr>\n    <tr>\n      <th>3</th>\n      <td>3</td>\n      <td>1</td>\n      <td>1095582</td>\n      <td>1449</td>\n      <td>32841</td>\n      <td>1424</td>\n      <td>71</td>\n      <td>43</td>\n      <td>11</td>\n      <td>98</td>\n      <td>...</td>\n      <td>1</td>\n      <td>7</td>\n      <td>41</td>\n      <td>94</td>\n      <td>26</td>\n      <td>52</td>\n      <td>45</td>\n      <td>81</td>\n      <td>1</td>\n      <td>589</td>\n    </tr>\n    <tr>\n      <th>4</th>\n      <td>4</td>\n      <td>2</td>\n      <td>963764</td>\n      <td>1202</td>\n      <td>489871</td>\n      <td>1182</td>\n      <td>11</td>\n      <td>62</td>\n      <td>16</td>\n      <td>55</td>\n      <td>...</td>\n      <td>26</td>\n      <td>60</td>\n      <td>37</td>\n      <td>7</td>\n      <td>1</td>\n      <td>80</td>\n      <td>48</td>\n      <td>50</td>\n      <td>52</td>\n      <td>340</td>\n    </tr>\n  </tbody>\n</table>\n<p>5 rows × 23 columns</p>\n</div>"
     },
     "metadata": {},
     "execution_count": 13
    }
   ],
   "source": [
    "data_test = pd.read_csv('test.csv')\n",
    "data_test.head()"
   ]
  },
  {
   "cell_type": "code",
   "execution_count": 14,
   "metadata": {},
   "outputs": [
    {
     "output_type": "execute_result",
     "data": {
      "text/plain": [
       "   X0       X1    X2       X3    X4  X5   X6  X7  X8  X9  ...  X12  X13  X14  \\\n",
       "0   1  1032217  1187  1011523  1172  57  100   1  80  25  ...   79   45   18   \n",
       "1   2  1059033  2128   505263  2104  82   27  87  79  80  ...   74   96   55   \n",
       "2   1   207787  1017   822639  1040  82   48  43  62  18  ...   16   64   35   \n",
       "3   1  1095582  1449    32841  1424  71   43  11  98  80  ...    1    7   41   \n",
       "4   2   963764  1202   489871  1182  11   62  16  55  88  ...   26   60   37   \n",
       "\n",
       "   X15  X16  X17  X18  X19  X20  X21  \n",
       "0   35   10   80   81   16    0  547  \n",
       "1   54   48    3   92    5   51  656  \n",
       "2   70   99   60   30   37   45  437  \n",
       "3   94   26   52   45   81    1  589  \n",
       "4    7    1   80   48   50   52  340  \n",
       "\n",
       "[5 rows x 22 columns]"
      ],
      "text/html": "<div>\n<style scoped>\n    .dataframe tbody tr th:only-of-type {\n        vertical-align: middle;\n    }\n\n    .dataframe tbody tr th {\n        vertical-align: top;\n    }\n\n    .dataframe thead th {\n        text-align: right;\n    }\n</style>\n<table border=\"1\" class=\"dataframe\">\n  <thead>\n    <tr style=\"text-align: right;\">\n      <th></th>\n      <th>X0</th>\n      <th>X1</th>\n      <th>X2</th>\n      <th>X3</th>\n      <th>X4</th>\n      <th>X5</th>\n      <th>X6</th>\n      <th>X7</th>\n      <th>X8</th>\n      <th>X9</th>\n      <th>...</th>\n      <th>X12</th>\n      <th>X13</th>\n      <th>X14</th>\n      <th>X15</th>\n      <th>X16</th>\n      <th>X17</th>\n      <th>X18</th>\n      <th>X19</th>\n      <th>X20</th>\n      <th>X21</th>\n    </tr>\n  </thead>\n  <tbody>\n    <tr>\n      <th>0</th>\n      <td>1</td>\n      <td>1032217</td>\n      <td>1187</td>\n      <td>1011523</td>\n      <td>1172</td>\n      <td>57</td>\n      <td>100</td>\n      <td>1</td>\n      <td>80</td>\n      <td>25</td>\n      <td>...</td>\n      <td>79</td>\n      <td>45</td>\n      <td>18</td>\n      <td>35</td>\n      <td>10</td>\n      <td>80</td>\n      <td>81</td>\n      <td>16</td>\n      <td>0</td>\n      <td>547</td>\n    </tr>\n    <tr>\n      <th>1</th>\n      <td>2</td>\n      <td>1059033</td>\n      <td>2128</td>\n      <td>505263</td>\n      <td>2104</td>\n      <td>82</td>\n      <td>27</td>\n      <td>87</td>\n      <td>79</td>\n      <td>80</td>\n      <td>...</td>\n      <td>74</td>\n      <td>96</td>\n      <td>55</td>\n      <td>54</td>\n      <td>48</td>\n      <td>3</td>\n      <td>92</td>\n      <td>5</td>\n      <td>51</td>\n      <td>656</td>\n    </tr>\n    <tr>\n      <th>2</th>\n      <td>1</td>\n      <td>207787</td>\n      <td>1017</td>\n      <td>822639</td>\n      <td>1040</td>\n      <td>82</td>\n      <td>48</td>\n      <td>43</td>\n      <td>62</td>\n      <td>18</td>\n      <td>...</td>\n      <td>16</td>\n      <td>64</td>\n      <td>35</td>\n      <td>70</td>\n      <td>99</td>\n      <td>60</td>\n      <td>30</td>\n      <td>37</td>\n      <td>45</td>\n      <td>437</td>\n    </tr>\n    <tr>\n      <th>3</th>\n      <td>1</td>\n      <td>1095582</td>\n      <td>1449</td>\n      <td>32841</td>\n      <td>1424</td>\n      <td>71</td>\n      <td>43</td>\n      <td>11</td>\n      <td>98</td>\n      <td>80</td>\n      <td>...</td>\n      <td>1</td>\n      <td>7</td>\n      <td>41</td>\n      <td>94</td>\n      <td>26</td>\n      <td>52</td>\n      <td>45</td>\n      <td>81</td>\n      <td>1</td>\n      <td>589</td>\n    </tr>\n    <tr>\n      <th>4</th>\n      <td>2</td>\n      <td>963764</td>\n      <td>1202</td>\n      <td>489871</td>\n      <td>1182</td>\n      <td>11</td>\n      <td>62</td>\n      <td>16</td>\n      <td>55</td>\n      <td>88</td>\n      <td>...</td>\n      <td>26</td>\n      <td>60</td>\n      <td>37</td>\n      <td>7</td>\n      <td>1</td>\n      <td>80</td>\n      <td>48</td>\n      <td>50</td>\n      <td>52</td>\n      <td>340</td>\n    </tr>\n  </tbody>\n</table>\n<p>5 rows × 22 columns</p>\n</div>"
     },
     "metadata": {},
     "execution_count": 14
    }
   ],
   "source": [
    "X_test = data_test.loc[:, 'X0':'X21']\n",
    "X_test.head()"
   ]
  },
  {
   "cell_type": "code",
   "execution_count": 15,
   "metadata": {},
   "outputs": [],
   "source": [
    "y_test = model.predict_proba(X_test)\n",
    "y_test = y_test[:, 1]"
   ]
  },
  {
   "source": [
    "# Prepare the submission"
   ],
   "cell_type": "markdown",
   "metadata": {}
  },
  {
   "cell_type": "code",
   "execution_count": 17,
   "metadata": {},
   "outputs": [
    {
     "output_type": "execute_result",
     "data": {
      "text/plain": [
       "   id    target\n",
       "0   0  0.395078\n",
       "1   1  0.364833\n",
       "2   2  0.318545\n",
       "3   3  0.375087\n",
       "4   4  0.318014"
      ],
      "text/html": "<div>\n<style scoped>\n    .dataframe tbody tr th:only-of-type {\n        vertical-align: middle;\n    }\n\n    .dataframe tbody tr th {\n        vertical-align: top;\n    }\n\n    .dataframe thead th {\n        text-align: right;\n    }\n</style>\n<table border=\"1\" class=\"dataframe\">\n  <thead>\n    <tr style=\"text-align: right;\">\n      <th></th>\n      <th>id</th>\n      <th>target</th>\n    </tr>\n  </thead>\n  <tbody>\n    <tr>\n      <th>0</th>\n      <td>0</td>\n      <td>0.395078</td>\n    </tr>\n    <tr>\n      <th>1</th>\n      <td>1</td>\n      <td>0.364833</td>\n    </tr>\n    <tr>\n      <th>2</th>\n      <td>2</td>\n      <td>0.318545</td>\n    </tr>\n    <tr>\n      <th>3</th>\n      <td>3</td>\n      <td>0.375087</td>\n    </tr>\n    <tr>\n      <th>4</th>\n      <td>4</td>\n      <td>0.318014</td>\n    </tr>\n  </tbody>\n</table>\n</div>"
     },
     "metadata": {},
     "execution_count": 17
    }
   ],
   "source": [
    "ans = pd.DataFrame(data=y_test, columns=[\"target\"])\n",
    "ans.reset_index(level=0, inplace=True)\n",
    "ans.reset_index(drop=True, inplace=True)\n",
    "ans = ans.rename(columns={'index':'id'})\n",
    "ans.head()"
   ]
  },
  {
   "cell_type": "code",
   "execution_count": 18,
   "metadata": {},
   "outputs": [],
   "source": [
    "ans.to_csv('submission.csv',index=False)"
   ]
  },
  {
   "cell_type": "code",
   "execution_count": null,
   "metadata": {},
   "outputs": [],
   "source": []
  }
 ],
 "metadata": {
  "kernelspec": {
   "display_name": "Python 3 (ipykernel)",
   "language": "python",
   "name": "python3"
  }
 },
 "nbformat": 4,
 "nbformat_minor": 5
}