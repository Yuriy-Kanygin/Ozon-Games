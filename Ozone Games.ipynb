{
 "cells": [
  {
   "cell_type": "code",
   "execution_count": 1,
   "id": "eae1095b",
   "metadata": {},
   "outputs": [],
   "source": [
    "import pandas as pd\n",
    "import numpy as np \n",
    "import seaborn as sns\n",
    "import matplotlib.pyplot as plt\n",
    "from sklearn.model_selection import train_test_split\n",
    "from sklearn.metrics import log_loss\n",
    "from sklearn.linear_model import LogisticRegression\n",
    "from sklearn.ensemble import GradientBoostingClassifier, RandomForestClassifier\n",
    "from category_encoders import TargetEncoder, one_hot\n",
    "from catboost import *\n",
    "%matplotlib inline"
   ]
  },
  {
   "cell_type": "code",
   "execution_count": 2,
   "id": "dad3bfab",
   "metadata": {},
   "outputs": [
    {
     "output_type": "execute_result",
     "data": {
      "text/plain": [
       "   id  X0      X1    X2      X3    X4  X5  X6  X7  X8  ...  X13  X14  X15  \\\n",
       "0   0   2  908749   954  480270   935  71  79  53  89  ...   51  100   87   \n",
       "1   1   1  438444  2162  486685  2154  32  39  48  49  ...   39   83   91   \n",
       "2   2   1  596915  2066  711059  2081  43  21  58  94  ...    7   52   37   \n",
       "3   3   1  625198  1508   66810  1474   7   1  34  73  ...   39   27   55   \n",
       "4   4   2  228654  1202  542816  1196  53  35  16  80  ...   35   95   50   \n",
       "\n",
       "   X16  X17  X18  X19  X20  X21  target  \n",
       "0    3   61   48   43   79  329       0  \n",
       "1    6   57   94   15   89  581       1  \n",
       "2   50   69   60   89   10  548       0  \n",
       "3   97   83    1   88   87  555       1  \n",
       "4   55   10   49   12   68  651       0  \n",
       "\n",
       "[5 rows x 24 columns]"
      ],
      "text/html": "<div>\n<style scoped>\n    .dataframe tbody tr th:only-of-type {\n        vertical-align: middle;\n    }\n\n    .dataframe tbody tr th {\n        vertical-align: top;\n    }\n\n    .dataframe thead th {\n        text-align: right;\n    }\n</style>\n<table border=\"1\" class=\"dataframe\">\n  <thead>\n    <tr style=\"text-align: right;\">\n      <th></th>\n      <th>id</th>\n      <th>X0</th>\n      <th>X1</th>\n      <th>X2</th>\n      <th>X3</th>\n      <th>X4</th>\n      <th>X5</th>\n      <th>X6</th>\n      <th>X7</th>\n      <th>X8</th>\n      <th>...</th>\n      <th>X13</th>\n      <th>X14</th>\n      <th>X15</th>\n      <th>X16</th>\n      <th>X17</th>\n      <th>X18</th>\n      <th>X19</th>\n      <th>X20</th>\n      <th>X21</th>\n      <th>target</th>\n    </tr>\n  </thead>\n  <tbody>\n    <tr>\n      <th>0</th>\n      <td>0</td>\n      <td>2</td>\n      <td>908749</td>\n      <td>954</td>\n      <td>480270</td>\n      <td>935</td>\n      <td>71</td>\n      <td>79</td>\n      <td>53</td>\n      <td>89</td>\n      <td>...</td>\n      <td>51</td>\n      <td>100</td>\n      <td>87</td>\n      <td>3</td>\n      <td>61</td>\n      <td>48</td>\n      <td>43</td>\n      <td>79</td>\n      <td>329</td>\n      <td>0</td>\n    </tr>\n    <tr>\n      <th>1</th>\n      <td>1</td>\n      <td>1</td>\n      <td>438444</td>\n      <td>2162</td>\n      <td>486685</td>\n      <td>2154</td>\n      <td>32</td>\n      <td>39</td>\n      <td>48</td>\n      <td>49</td>\n      <td>...</td>\n      <td>39</td>\n      <td>83</td>\n      <td>91</td>\n      <td>6</td>\n      <td>57</td>\n      <td>94</td>\n      <td>15</td>\n      <td>89</td>\n      <td>581</td>\n      <td>1</td>\n    </tr>\n    <tr>\n      <th>2</th>\n      <td>2</td>\n      <td>1</td>\n      <td>596915</td>\n      <td>2066</td>\n      <td>711059</td>\n      <td>2081</td>\n      <td>43</td>\n      <td>21</td>\n      <td>58</td>\n      <td>94</td>\n      <td>...</td>\n      <td>7</td>\n      <td>52</td>\n      <td>37</td>\n      <td>50</td>\n      <td>69</td>\n      <td>60</td>\n      <td>89</td>\n      <td>10</td>\n      <td>548</td>\n      <td>0</td>\n    </tr>\n    <tr>\n      <th>3</th>\n      <td>3</td>\n      <td>1</td>\n      <td>625198</td>\n      <td>1508</td>\n      <td>66810</td>\n      <td>1474</td>\n      <td>7</td>\n      <td>1</td>\n      <td>34</td>\n      <td>73</td>\n      <td>...</td>\n      <td>39</td>\n      <td>27</td>\n      <td>55</td>\n      <td>97</td>\n      <td>83</td>\n      <td>1</td>\n      <td>88</td>\n      <td>87</td>\n      <td>555</td>\n      <td>1</td>\n    </tr>\n    <tr>\n      <th>4</th>\n      <td>4</td>\n      <td>2</td>\n      <td>228654</td>\n      <td>1202</td>\n      <td>542816</td>\n      <td>1196</td>\n      <td>53</td>\n      <td>35</td>\n      <td>16</td>\n      <td>80</td>\n      <td>...</td>\n      <td>35</td>\n      <td>95</td>\n      <td>50</td>\n      <td>55</td>\n      <td>10</td>\n      <td>49</td>\n      <td>12</td>\n      <td>68</td>\n      <td>651</td>\n      <td>0</td>\n    </tr>\n  </tbody>\n</table>\n<p>5 rows × 24 columns</p>\n</div>"
     },
     "metadata": {},
     "execution_count": 2
    }
   ],
   "source": [
    "data = pd.read_csv('train.csv')\n",
    "data.head()"
   ]
  },
  {
   "source": [
    "# Data Prepairing"
   ],
   "cell_type": "markdown",
   "metadata": {}
  },
  {
   "cell_type": "code",
   "execution_count": 3,
   "metadata": {},
   "outputs": [
    {
     "output_type": "execute_result",
     "data": {
      "text/plain": [
       "                 id            X0            X1            X2            X3  \\\n",
       "count  3.633005e+06  3.633005e+06  3.633005e+06  3.633005e+06  3.633005e+06   \n",
       "mean   1.816502e+06  1.650469e+00  5.638035e+05  1.449992e+03  5.637574e+05   \n",
       "std    1.048758e+06  7.179981e-01  3.248814e+05  4.848098e+02  3.247859e+05   \n",
       "min    0.000000e+00  1.000000e+00  0.000000e+00  6.000000e+00  0.000000e+00   \n",
       "25%    9.082510e+05  1.000000e+00  2.829920e+05  1.074000e+03  2.829370e+05   \n",
       "50%    1.816502e+06  2.000000e+00  5.637460e+05  1.370000e+03  5.639180e+05   \n",
       "75%    2.724753e+06  2.000000e+00  8.454180e+05  1.747000e+03  8.454590e+05   \n",
       "max    3.633004e+06  8.000000e+00  1.126077e+06  4.186000e+03  1.126076e+06   \n",
       "\n",
       "                 X4            X5            X6            X7            X8  \\\n",
       "count  3.633005e+06  3.633005e+06  3.633005e+06  3.633005e+06  3.633005e+06   \n",
       "mean   1.450097e+03  5.016512e+01  5.016514e+01  5.018091e+01  5.015996e+01   \n",
       "std    4.848208e+02  2.964439e+01  2.966132e+01  2.963772e+01  2.964519e+01   \n",
       "min    3.000000e+00  0.000000e+00  0.000000e+00  0.000000e+00  0.000000e+00   \n",
       "25%    1.074000e+03  2.400000e+01  2.400000e+01  2.400000e+01  2.400000e+01   \n",
       "50%    1.371000e+03  5.100000e+01  5.100000e+01  5.100000e+01  5.100000e+01   \n",
       "75%    1.747000e+03  7.900000e+01  7.900000e+01  7.900000e+01  7.900000e+01   \n",
       "max    4.192000e+03  1.000000e+02  1.000000e+02  1.000000e+02  1.000000e+02   \n",
       "\n",
       "       ...           X13           X14           X15           X16  \\\n",
       "count  ...  3.633005e+06  3.633005e+06  3.633005e+06  3.633005e+06   \n",
       "mean   ...  5.017506e+01  5.017908e+01  5.018681e+01  5.018890e+01   \n",
       "std    ...  2.965711e+01  2.965469e+01  2.964957e+01  2.965893e+01   \n",
       "min    ...  0.000000e+00  0.000000e+00  0.000000e+00  0.000000e+00   \n",
       "25%    ...  2.400000e+01  2.400000e+01  2.400000e+01  2.400000e+01   \n",
       "50%    ...  5.100000e+01  5.100000e+01  5.100000e+01  5.100000e+01   \n",
       "75%    ...  7.900000e+01  7.900000e+01  7.900000e+01  7.900000e+01   \n",
       "max    ...  1.000000e+02  1.000000e+02  1.000000e+02  1.000000e+02   \n",
       "\n",
       "                X17           X18           X19           X20           X21  \\\n",
       "count  3.633005e+06  3.633005e+06  3.633005e+06  3.633005e+06  3.633005e+06   \n",
       "mean   5.014741e+01  5.018218e+01  5.016238e+01  5.015347e+01  4.913625e+02   \n",
       "std    2.965769e+01  2.965730e+01  2.963982e+01  2.966294e+01  1.464528e+02   \n",
       "min    0.000000e+00  0.000000e+00  0.000000e+00  0.000000e+00  7.000000e+00   \n",
       "25%    2.400000e+01  2.400000e+01  2.400000e+01  2.400000e+01  3.840000e+02   \n",
       "50%    5.100000e+01  5.100000e+01  5.100000e+01  5.100000e+01  5.350000e+02   \n",
       "75%    7.900000e+01  7.900000e+01  7.900000e+01  7.900000e+01  6.150000e+02   \n",
       "max    1.000000e+02  1.000000e+02  1.000000e+02  1.000000e+02  6.800000e+02   \n",
       "\n",
       "             target  \n",
       "count  3.633005e+06  \n",
       "mean   3.800829e-01  \n",
       "std    4.854070e-01  \n",
       "min    0.000000e+00  \n",
       "25%    0.000000e+00  \n",
       "50%    0.000000e+00  \n",
       "75%    1.000000e+00  \n",
       "max    1.000000e+00  \n",
       "\n",
       "[8 rows x 24 columns]"
      ],
      "text/html": "<div>\n<style scoped>\n    .dataframe tbody tr th:only-of-type {\n        vertical-align: middle;\n    }\n\n    .dataframe tbody tr th {\n        vertical-align: top;\n    }\n\n    .dataframe thead th {\n        text-align: right;\n    }\n</style>\n<table border=\"1\" class=\"dataframe\">\n  <thead>\n    <tr style=\"text-align: right;\">\n      <th></th>\n      <th>id</th>\n      <th>X0</th>\n      <th>X1</th>\n      <th>X2</th>\n      <th>X3</th>\n      <th>X4</th>\n      <th>X5</th>\n      <th>X6</th>\n      <th>X7</th>\n      <th>X8</th>\n      <th>...</th>\n      <th>X13</th>\n      <th>X14</th>\n      <th>X15</th>\n      <th>X16</th>\n      <th>X17</th>\n      <th>X18</th>\n      <th>X19</th>\n      <th>X20</th>\n      <th>X21</th>\n      <th>target</th>\n    </tr>\n  </thead>\n  <tbody>\n    <tr>\n      <th>count</th>\n      <td>3.633005e+06</td>\n      <td>3.633005e+06</td>\n      <td>3.633005e+06</td>\n      <td>3.633005e+06</td>\n      <td>3.633005e+06</td>\n      <td>3.633005e+06</td>\n      <td>3.633005e+06</td>\n      <td>3.633005e+06</td>\n      <td>3.633005e+06</td>\n      <td>3.633005e+06</td>\n      <td>...</td>\n      <td>3.633005e+06</td>\n      <td>3.633005e+06</td>\n      <td>3.633005e+06</td>\n      <td>3.633005e+06</td>\n      <td>3.633005e+06</td>\n      <td>3.633005e+06</td>\n      <td>3.633005e+06</td>\n      <td>3.633005e+06</td>\n      <td>3.633005e+06</td>\n      <td>3.633005e+06</td>\n    </tr>\n    <tr>\n      <th>mean</th>\n      <td>1.816502e+06</td>\n      <td>1.650469e+00</td>\n      <td>5.638035e+05</td>\n      <td>1.449992e+03</td>\n      <td>5.637574e+05</td>\n      <td>1.450097e+03</td>\n      <td>5.016512e+01</td>\n      <td>5.016514e+01</td>\n      <td>5.018091e+01</td>\n      <td>5.015996e+01</td>\n      <td>...</td>\n      <td>5.017506e+01</td>\n      <td>5.017908e+01</td>\n      <td>5.018681e+01</td>\n      <td>5.018890e+01</td>\n      <td>5.014741e+01</td>\n      <td>5.018218e+01</td>\n      <td>5.016238e+01</td>\n      <td>5.015347e+01</td>\n      <td>4.913625e+02</td>\n      <td>3.800829e-01</td>\n    </tr>\n    <tr>\n      <th>std</th>\n      <td>1.048758e+06</td>\n      <td>7.179981e-01</td>\n      <td>3.248814e+05</td>\n      <td>4.848098e+02</td>\n      <td>3.247859e+05</td>\n      <td>4.848208e+02</td>\n      <td>2.964439e+01</td>\n      <td>2.966132e+01</td>\n      <td>2.963772e+01</td>\n      <td>2.964519e+01</td>\n      <td>...</td>\n      <td>2.965711e+01</td>\n      <td>2.965469e+01</td>\n      <td>2.964957e+01</td>\n      <td>2.965893e+01</td>\n      <td>2.965769e+01</td>\n      <td>2.965730e+01</td>\n      <td>2.963982e+01</td>\n      <td>2.966294e+01</td>\n      <td>1.464528e+02</td>\n      <td>4.854070e-01</td>\n    </tr>\n    <tr>\n      <th>min</th>\n      <td>0.000000e+00</td>\n      <td>1.000000e+00</td>\n      <td>0.000000e+00</td>\n      <td>6.000000e+00</td>\n      <td>0.000000e+00</td>\n      <td>3.000000e+00</td>\n      <td>0.000000e+00</td>\n      <td>0.000000e+00</td>\n      <td>0.000000e+00</td>\n      <td>0.000000e+00</td>\n      <td>...</td>\n      <td>0.000000e+00</td>\n      <td>0.000000e+00</td>\n      <td>0.000000e+00</td>\n      <td>0.000000e+00</td>\n      <td>0.000000e+00</td>\n      <td>0.000000e+00</td>\n      <td>0.000000e+00</td>\n      <td>0.000000e+00</td>\n      <td>7.000000e+00</td>\n      <td>0.000000e+00</td>\n    </tr>\n    <tr>\n      <th>25%</th>\n      <td>9.082510e+05</td>\n      <td>1.000000e+00</td>\n      <td>2.829920e+05</td>\n      <td>1.074000e+03</td>\n      <td>2.829370e+05</td>\n      <td>1.074000e+03</td>\n      <td>2.400000e+01</td>\n      <td>2.400000e+01</td>\n      <td>2.400000e+01</td>\n      <td>2.400000e+01</td>\n      <td>...</td>\n      <td>2.400000e+01</td>\n      <td>2.400000e+01</td>\n      <td>2.400000e+01</td>\n      <td>2.400000e+01</td>\n      <td>2.400000e+01</td>\n      <td>2.400000e+01</td>\n      <td>2.400000e+01</td>\n      <td>2.400000e+01</td>\n      <td>3.840000e+02</td>\n      <td>0.000000e+00</td>\n    </tr>\n    <tr>\n      <th>50%</th>\n      <td>1.816502e+06</td>\n      <td>2.000000e+00</td>\n      <td>5.637460e+05</td>\n      <td>1.370000e+03</td>\n      <td>5.639180e+05</td>\n      <td>1.371000e+03</td>\n      <td>5.100000e+01</td>\n      <td>5.100000e+01</td>\n      <td>5.100000e+01</td>\n      <td>5.100000e+01</td>\n      <td>...</td>\n      <td>5.100000e+01</td>\n      <td>5.100000e+01</td>\n      <td>5.100000e+01</td>\n      <td>5.100000e+01</td>\n      <td>5.100000e+01</td>\n      <td>5.100000e+01</td>\n      <td>5.100000e+01</td>\n      <td>5.100000e+01</td>\n      <td>5.350000e+02</td>\n      <td>0.000000e+00</td>\n    </tr>\n    <tr>\n      <th>75%</th>\n      <td>2.724753e+06</td>\n      <td>2.000000e+00</td>\n      <td>8.454180e+05</td>\n      <td>1.747000e+03</td>\n      <td>8.454590e+05</td>\n      <td>1.747000e+03</td>\n      <td>7.900000e+01</td>\n      <td>7.900000e+01</td>\n      <td>7.900000e+01</td>\n      <td>7.900000e+01</td>\n      <td>...</td>\n      <td>7.900000e+01</td>\n      <td>7.900000e+01</td>\n      <td>7.900000e+01</td>\n      <td>7.900000e+01</td>\n      <td>7.900000e+01</td>\n      <td>7.900000e+01</td>\n      <td>7.900000e+01</td>\n      <td>7.900000e+01</td>\n      <td>6.150000e+02</td>\n      <td>1.000000e+00</td>\n    </tr>\n    <tr>\n      <th>max</th>\n      <td>3.633004e+06</td>\n      <td>8.000000e+00</td>\n      <td>1.126077e+06</td>\n      <td>4.186000e+03</td>\n      <td>1.126076e+06</td>\n      <td>4.192000e+03</td>\n      <td>1.000000e+02</td>\n      <td>1.000000e+02</td>\n      <td>1.000000e+02</td>\n      <td>1.000000e+02</td>\n      <td>...</td>\n      <td>1.000000e+02</td>\n      <td>1.000000e+02</td>\n      <td>1.000000e+02</td>\n      <td>1.000000e+02</td>\n      <td>1.000000e+02</td>\n      <td>1.000000e+02</td>\n      <td>1.000000e+02</td>\n      <td>1.000000e+02</td>\n      <td>6.800000e+02</td>\n      <td>1.000000e+00</td>\n    </tr>\n  </tbody>\n</table>\n<p>8 rows × 24 columns</p>\n</div>"
     },
     "metadata": {},
     "execution_count": 3
    }
   ],
   "source": [
    "data.describe()"
   ]
  },
  {
   "cell_type": "code",
   "execution_count": 72,
   "metadata": {},
   "outputs": [],
   "source": [
    "y = data.target\n",
    "# X = data.drop(['target', 'id', 'X1', 'X3'], axis=1)\n",
    "X = data.drop(['target', 'id'], axis=1)"
   ]
  },
  {
   "cell_type": "code",
   "execution_count": 84,
   "metadata": {},
   "outputs": [],
   "source": [
    "army_count_1 = X['X5'] + X['X7'] + X['X9'] + X['X11'] + X['X13'] + X['X15'] + X['X17'] + X['X19']\n",
    "army_count_2 = X['X6'] + X['X8'] + X['X10'] + X['X12'] + X['X14'] + X['X16'] + X['X18'] + X['X20']\n",
    "X['army_relation'] = army_count_1 - army_count_2\n",
    "X['rank_relation'] = X['X2'] - (X['X4'])"
   ]
  },
  {
   "cell_type": "code",
   "execution_count": 85,
   "metadata": {},
   "outputs": [],
   "source": [
    "first_player_army = ['X5', 'X7', 'X9', 'X11', 'X13', 'X15', 'X17', 'X19']\n",
    "second_player_army = ['X6', 'X8', 'X10', 'X12', 'X14', 'X16', 'X18', 'X20']\n",
    "\n",
    "for i in range(len(first_player_army)):\n",
    "    unit_1 = first_player_army[i]\n",
    "    unit_2 = second_player_army[i]\n",
    "    X[unit_1 + '-' + unit_2] = X[unit_1] - (X[unit_2])"
   ]
  },
  {
   "cell_type": "code",
   "execution_count": 86,
   "metadata": {},
   "outputs": [
    {
     "output_type": "execute_result",
     "data": {
      "text/plain": [
       "   X0      X1    X2      X3    X4  X5  X6  X7  X8   X9  ...  army_relation  \\\n",
       "0   2  908749   954  480270   935  71  79  53  89   15  ...            -23   \n",
       "1   1  438444  2162  486685  2154  32  39  48  49  100  ...             35   \n",
       "2   1  596915  2066  711059  2081  43  21  58  94   88  ...            -34   \n",
       "3   1  625198  1508   66810  1474   7   1  34  73    6  ...            -81   \n",
       "4   2  228654  1202  542816  1196  53  35  16  80   72  ...           -214   \n",
       "\n",
       "   rank_relation  X5-X6  X7-X8  X9-X10  X11-X12  X13-X14  X15-X16  X17-X18  \\\n",
       "0             19     -8    -36      14       -5      -49       84       13   \n",
       "1              8     -7     -1      82       31      -44       85      -37   \n",
       "2            -15     22    -36      -5      -45      -45      -13        9   \n",
       "3             34      6    -39     -82      -19       12      -42       82   \n",
       "4              6     18    -64      -9        1      -60       -5      -39   \n",
       "\n",
       "   X19-X20  \n",
       "0      -36  \n",
       "1      -74  \n",
       "2       79  \n",
       "3        1  \n",
       "4      -56  \n",
       "\n",
       "[5 rows x 32 columns]"
      ],
      "text/html": "<div>\n<style scoped>\n    .dataframe tbody tr th:only-of-type {\n        vertical-align: middle;\n    }\n\n    .dataframe tbody tr th {\n        vertical-align: top;\n    }\n\n    .dataframe thead th {\n        text-align: right;\n    }\n</style>\n<table border=\"1\" class=\"dataframe\">\n  <thead>\n    <tr style=\"text-align: right;\">\n      <th></th>\n      <th>X0</th>\n      <th>X1</th>\n      <th>X2</th>\n      <th>X3</th>\n      <th>X4</th>\n      <th>X5</th>\n      <th>X6</th>\n      <th>X7</th>\n      <th>X8</th>\n      <th>X9</th>\n      <th>...</th>\n      <th>army_relation</th>\n      <th>rank_relation</th>\n      <th>X5-X6</th>\n      <th>X7-X8</th>\n      <th>X9-X10</th>\n      <th>X11-X12</th>\n      <th>X13-X14</th>\n      <th>X15-X16</th>\n      <th>X17-X18</th>\n      <th>X19-X20</th>\n    </tr>\n  </thead>\n  <tbody>\n    <tr>\n      <th>0</th>\n      <td>2</td>\n      <td>908749</td>\n      <td>954</td>\n      <td>480270</td>\n      <td>935</td>\n      <td>71</td>\n      <td>79</td>\n      <td>53</td>\n      <td>89</td>\n      <td>15</td>\n      <td>...</td>\n      <td>-23</td>\n      <td>19</td>\n      <td>-8</td>\n      <td>-36</td>\n      <td>14</td>\n      <td>-5</td>\n      <td>-49</td>\n      <td>84</td>\n      <td>13</td>\n      <td>-36</td>\n    </tr>\n    <tr>\n      <th>1</th>\n      <td>1</td>\n      <td>438444</td>\n      <td>2162</td>\n      <td>486685</td>\n      <td>2154</td>\n      <td>32</td>\n      <td>39</td>\n      <td>48</td>\n      <td>49</td>\n      <td>100</td>\n      <td>...</td>\n      <td>35</td>\n      <td>8</td>\n      <td>-7</td>\n      <td>-1</td>\n      <td>82</td>\n      <td>31</td>\n      <td>-44</td>\n      <td>85</td>\n      <td>-37</td>\n      <td>-74</td>\n    </tr>\n    <tr>\n      <th>2</th>\n      <td>1</td>\n      <td>596915</td>\n      <td>2066</td>\n      <td>711059</td>\n      <td>2081</td>\n      <td>43</td>\n      <td>21</td>\n      <td>58</td>\n      <td>94</td>\n      <td>88</td>\n      <td>...</td>\n      <td>-34</td>\n      <td>-15</td>\n      <td>22</td>\n      <td>-36</td>\n      <td>-5</td>\n      <td>-45</td>\n      <td>-45</td>\n      <td>-13</td>\n      <td>9</td>\n      <td>79</td>\n    </tr>\n    <tr>\n      <th>3</th>\n      <td>1</td>\n      <td>625198</td>\n      <td>1508</td>\n      <td>66810</td>\n      <td>1474</td>\n      <td>7</td>\n      <td>1</td>\n      <td>34</td>\n      <td>73</td>\n      <td>6</td>\n      <td>...</td>\n      <td>-81</td>\n      <td>34</td>\n      <td>6</td>\n      <td>-39</td>\n      <td>-82</td>\n      <td>-19</td>\n      <td>12</td>\n      <td>-42</td>\n      <td>82</td>\n      <td>1</td>\n    </tr>\n    <tr>\n      <th>4</th>\n      <td>2</td>\n      <td>228654</td>\n      <td>1202</td>\n      <td>542816</td>\n      <td>1196</td>\n      <td>53</td>\n      <td>35</td>\n      <td>16</td>\n      <td>80</td>\n      <td>72</td>\n      <td>...</td>\n      <td>-214</td>\n      <td>6</td>\n      <td>18</td>\n      <td>-64</td>\n      <td>-9</td>\n      <td>1</td>\n      <td>-60</td>\n      <td>-5</td>\n      <td>-39</td>\n      <td>-56</td>\n    </tr>\n  </tbody>\n</table>\n<p>5 rows × 32 columns</p>\n</div>"
     },
     "metadata": {},
     "execution_count": 86
    }
   ],
   "source": [
    "X.head()"
   ]
  },
  {
   "cell_type": "code",
   "execution_count": 88,
   "metadata": {},
   "outputs": [
    {
     "output_type": "stream",
     "name": "stdout",
     "text": [
      "[0, 1, 2, 3, 4, 5, 6, 7, 8, 9, 10, 11, 12, 13, 14, 15, 16, 17, 18, 19, 20, 21, 22, 23, 24, 25, 26, 27, 28, 29, 30, 31]\n"
     ]
    }
   ],
   "source": [
    "# cat_features = list(range(0, X.shape[1] - 12))\n",
    "cat_features = list(range(0, X.shape[1]) )\n",
    "print(cat_features)"
   ]
  },
  {
   "cell_type": "code",
   "execution_count": 89,
   "metadata": {},
   "outputs": [
    {
     "output_type": "stream",
     "name": "stdout",
     "text": [
      "Labels: {0, 1}\nZero count = 2252162, One count = 1380843\n"
     ]
    }
   ],
   "source": [
    "print('Labels: {}'.format(set(y)))\n",
    "print('Zero count = {}, One count = {}'.format(len(y) - sum(y), sum(y)))"
   ]
  },
  {
   "cell_type": "code",
   "execution_count": 90,
   "metadata": {},
   "outputs": [],
   "source": [
    "X_train, X_validation, y_train, y_validation = train_test_split(X, y, train_size=0.8, random_state=42, shuffle=True)"
   ]
  },
  {
   "source": [
    "# Model training"
   ],
   "cell_type": "markdown",
   "metadata": {}
  },
  {
   "cell_type": "code",
   "execution_count": 79,
   "metadata": {},
   "outputs": [
    {
     "output_type": "stream",
     "name": "stdout",
     "text": [
      "0:\tlearn: 0.6712609\ttest: 0.6712265\tbest: 0.6712265 (0)\ttotal: 6.56s\tremaining: 1h 49m 9s\n",
      "10:\tlearn: 0.6580620\ttest: 0.6560370\tbest: 0.6560370 (10)\ttotal: 1m 40s\tremaining: 2h 30m 12s\n",
      "20:\tlearn: 0.6560526\ttest: 0.6544962\tbest: 0.6544962 (20)\ttotal: 3m 12s\tremaining: 2h 29m 20s\n",
      "30:\tlearn: 0.6552551\ttest: 0.6535943\tbest: 0.6535943 (30)\ttotal: 4m 40s\tremaining: 2h 26m 15s\n",
      "40:\tlearn: 0.6544921\ttest: 0.6529765\tbest: 0.6528328 (39)\ttotal: 6m 13s\tremaining: 2h 25m 39s\n",
      "50:\tlearn: 0.6541264\ttest: 0.6526041\tbest: 0.6526041 (50)\ttotal: 7m 35s\tremaining: 2h 21m 14s\n",
      "60:\tlearn: 0.6538168\ttest: 0.6522986\tbest: 0.6522986 (60)\ttotal: 9m 4s\tremaining: 2h 19m 36s\n",
      "70:\tlearn: 0.6536462\ttest: 0.6521964\tbest: 0.6521964 (70)\ttotal: 10m 15s\tremaining: 2h 14m 8s\n",
      "80:\tlearn: 0.6534664\ttest: 0.6520941\tbest: 0.6520879 (77)\ttotal: 11m 23s\tremaining: 2h 9m 18s\n",
      "90:\tlearn: 0.6532980\ttest: 0.6520265\tbest: 0.6520265 (90)\ttotal: 12m 34s\tremaining: 2h 5m 39s\n",
      "100:\tlearn: 0.6531473\ttest: 0.6519592\tbest: 0.6519592 (100)\ttotal: 13m 58s\tremaining: 2h 4m 24s\n",
      "110:\tlearn: 0.6530311\ttest: 0.6518953\tbest: 0.6518927 (108)\ttotal: 15m 16s\tremaining: 2h 2m 21s\n",
      "120:\tlearn: 0.6528971\ttest: 0.6518287\tbest: 0.6518287 (120)\ttotal: 16m 41s\tremaining: 2h 1m 12s\n",
      "130:\tlearn: 0.6527826\ttest: 0.6517884\tbest: 0.6517884 (130)\ttotal: 17m 51s\tremaining: 1h 58m 25s\n",
      "140:\tlearn: 0.6526975\ttest: 0.6517701\tbest: 0.6517701 (140)\ttotal: 19m\tremaining: 1h 55m 49s\n",
      "150:\tlearn: 0.6525915\ttest: 0.6517285\tbest: 0.6517245 (147)\ttotal: 20m 13s\tremaining: 1h 53m 43s\n",
      "160:\tlearn: 0.6524700\ttest: 0.6516597\tbest: 0.6516597 (160)\ttotal: 21m 29s\tremaining: 1h 51m 59s\n",
      "170:\tlearn: 0.6523634\ttest: 0.6516399\tbest: 0.6516380 (169)\ttotal: 22m 49s\tremaining: 1h 50m 39s\n",
      "180:\tlearn: 0.6522591\ttest: 0.6516254\tbest: 0.6516224 (178)\ttotal: 24m 5s\tremaining: 1h 49m 1s\n",
      "190:\tlearn: 0.6521571\ttest: 0.6515926\tbest: 0.6515926 (190)\ttotal: 25m 15s\tremaining: 1h 46m 57s\n",
      "200:\tlearn: 0.6520507\ttest: 0.6515425\tbest: 0.6515425 (200)\ttotal: 26m 37s\tremaining: 1h 45m 50s\n",
      "210:\tlearn: 0.6519439\ttest: 0.6515230\tbest: 0.6515221 (208)\ttotal: 27m 58s\tremaining: 1h 44m 36s\n",
      "220:\tlearn: 0.6518642\ttest: 0.6515081\tbest: 0.6515062 (218)\ttotal: 29m 4s\tremaining: 1h 42m 28s\n",
      "230:\tlearn: 0.6517885\ttest: 0.6515033\tbest: 0.6515033 (230)\ttotal: 30m 20s\tremaining: 1h 40m 59s\n",
      "240:\tlearn: 0.6516802\ttest: 0.6515932\tbest: 0.6515031 (231)\ttotal: 31m 37s\tremaining: 1h 39m 36s\n",
      "250:\tlearn: 0.6516003\ttest: 0.6515799\tbest: 0.6515031 (231)\ttotal: 32m 56s\tremaining: 1h 38m 17s\n",
      "Stopped by overfitting detector  (20 iterations wait)\n",
      "\n",
      "bestTest = 0.6515030677\n",
      "bestIteration = 231\n",
      "\n",
      "Shrink model to first 232 iterations.\n"
     ]
    },
    {
     "output_type": "execute_result",
     "data": {
      "text/plain": [
       "<catboost.core.CatBoostClassifier at 0x1b02801daf0>"
      ]
     },
     "metadata": {},
     "execution_count": 79
    }
   ],
   "source": [
    "# !rm 'catboost_info/snapshot.bkp'\n",
    "from catboost import CatBoostClassifier\n",
    "model = CatBoostClassifier(\n",
    "    iterations=1000,\n",
    "    verbose=10,\n",
    "    random_seed=42,\n",
    "    learning_rate=0.5,\n",
    "    # save_snapshot=True,\n",
    "    # snapshot_file='snapshot.bkp',\n",
    "    # snapshot_interval=1,\n",
    "    l2_leaf_reg=3.0,\n",
    "    early_stopping_rounds=20,\n",
    "    one_hot_max_size=5,\n",
    "    bootstrap_type='Bernoulli',\n",
    "    subsample=0.5,\n",
    "    random_strength=2,\n",
    "    use_best_model=True,\n",
    "    best_model_min_trees=30,\n",
    "    rsm=0.5,\n",
    "    leaf_estimation_iterations=5\n",
    ")\n",
    "model.fit(\n",
    "    X_train, y_train,\n",
    "    cat_features=cat_features,\n",
    "    eval_set=(X_validation, y_validation),\n",
    "    plot=False\n",
    ")"
   ]
  },
  {
   "cell_type": "code",
   "execution_count": 69,
   "metadata": {},
   "outputs": [
    {
     "output_type": "execute_result",
     "data": {
      "text/plain": [
       "153"
      ]
     },
     "metadata": {},
     "execution_count": 69
    }
   ],
   "source": [
    "model.tree_count_"
   ]
  },
  {
   "source": [
    "# Feature Importance"
   ],
   "cell_type": "markdown",
   "metadata": {}
  },
  {
   "cell_type": "code",
   "execution_count": 80,
   "metadata": {},
   "outputs": [
    {
     "output_type": "execute_result",
     "data": {
      "text/plain": [
       "       Feature Id  Importances\n",
       "0              X3    27.197863\n",
       "1              X1    26.821290\n",
       "2              X4     7.131163\n",
       "3              X5     2.486621\n",
       "4   rank_relation     2.409170\n",
       "5             X18     2.405036\n",
       "6             X10     2.287759\n",
       "7              X9     2.126740\n",
       "8             X16     2.123085\n",
       "9             X19     2.121300\n",
       "10            X14     2.068303\n",
       "11            X13     2.064997\n",
       "12            X15     2.025740\n",
       "13             X7     1.992029\n",
       "14             X8     1.986300\n",
       "15            X11     1.774832\n",
       "16            X12     1.765999\n",
       "17            X17     1.692647\n",
       "18             X6     1.611145\n",
       "19            X20     0.710867\n",
       "20          X7-X8     0.534794\n",
       "21        X15-X16     0.534355\n",
       "22        X17-X18     0.532034\n",
       "23        X19-X20     0.513126\n",
       "24          X5-X6     0.496940\n",
       "25            X21     0.491473\n",
       "26        X11-X12     0.470178\n",
       "27             X0     0.397775\n",
       "28             X2     0.382017\n",
       "29        X13-X14     0.306832\n",
       "30         X9-X10     0.302707\n",
       "31  army_relation     0.234885"
      ],
      "text/html": "<div>\n<style scoped>\n    .dataframe tbody tr th:only-of-type {\n        vertical-align: middle;\n    }\n\n    .dataframe tbody tr th {\n        vertical-align: top;\n    }\n\n    .dataframe thead th {\n        text-align: right;\n    }\n</style>\n<table border=\"1\" class=\"dataframe\">\n  <thead>\n    <tr style=\"text-align: right;\">\n      <th></th>\n      <th>Feature Id</th>\n      <th>Importances</th>\n    </tr>\n  </thead>\n  <tbody>\n    <tr>\n      <th>0</th>\n      <td>X3</td>\n      <td>27.197863</td>\n    </tr>\n    <tr>\n      <th>1</th>\n      <td>X1</td>\n      <td>26.821290</td>\n    </tr>\n    <tr>\n      <th>2</th>\n      <td>X4</td>\n      <td>7.131163</td>\n    </tr>\n    <tr>\n      <th>3</th>\n      <td>X5</td>\n      <td>2.486621</td>\n    </tr>\n    <tr>\n      <th>4</th>\n      <td>rank_relation</td>\n      <td>2.409170</td>\n    </tr>\n    <tr>\n      <th>5</th>\n      <td>X18</td>\n      <td>2.405036</td>\n    </tr>\n    <tr>\n      <th>6</th>\n      <td>X10</td>\n      <td>2.287759</td>\n    </tr>\n    <tr>\n      <th>7</th>\n      <td>X9</td>\n      <td>2.126740</td>\n    </tr>\n    <tr>\n      <th>8</th>\n      <td>X16</td>\n      <td>2.123085</td>\n    </tr>\n    <tr>\n      <th>9</th>\n      <td>X19</td>\n      <td>2.121300</td>\n    </tr>\n    <tr>\n      <th>10</th>\n      <td>X14</td>\n      <td>2.068303</td>\n    </tr>\n    <tr>\n      <th>11</th>\n      <td>X13</td>\n      <td>2.064997</td>\n    </tr>\n    <tr>\n      <th>12</th>\n      <td>X15</td>\n      <td>2.025740</td>\n    </tr>\n    <tr>\n      <th>13</th>\n      <td>X7</td>\n      <td>1.992029</td>\n    </tr>\n    <tr>\n      <th>14</th>\n      <td>X8</td>\n      <td>1.986300</td>\n    </tr>\n    <tr>\n      <th>15</th>\n      <td>X11</td>\n      <td>1.774832</td>\n    </tr>\n    <tr>\n      <th>16</th>\n      <td>X12</td>\n      <td>1.765999</td>\n    </tr>\n    <tr>\n      <th>17</th>\n      <td>X17</td>\n      <td>1.692647</td>\n    </tr>\n    <tr>\n      <th>18</th>\n      <td>X6</td>\n      <td>1.611145</td>\n    </tr>\n    <tr>\n      <th>19</th>\n      <td>X20</td>\n      <td>0.710867</td>\n    </tr>\n    <tr>\n      <th>20</th>\n      <td>X7-X8</td>\n      <td>0.534794</td>\n    </tr>\n    <tr>\n      <th>21</th>\n      <td>X15-X16</td>\n      <td>0.534355</td>\n    </tr>\n    <tr>\n      <th>22</th>\n      <td>X17-X18</td>\n      <td>0.532034</td>\n    </tr>\n    <tr>\n      <th>23</th>\n      <td>X19-X20</td>\n      <td>0.513126</td>\n    </tr>\n    <tr>\n      <th>24</th>\n      <td>X5-X6</td>\n      <td>0.496940</td>\n    </tr>\n    <tr>\n      <th>25</th>\n      <td>X21</td>\n      <td>0.491473</td>\n    </tr>\n    <tr>\n      <th>26</th>\n      <td>X11-X12</td>\n      <td>0.470178</td>\n    </tr>\n    <tr>\n      <th>27</th>\n      <td>X0</td>\n      <td>0.397775</td>\n    </tr>\n    <tr>\n      <th>28</th>\n      <td>X2</td>\n      <td>0.382017</td>\n    </tr>\n    <tr>\n      <th>29</th>\n      <td>X13-X14</td>\n      <td>0.306832</td>\n    </tr>\n    <tr>\n      <th>30</th>\n      <td>X9-X10</td>\n      <td>0.302707</td>\n    </tr>\n    <tr>\n      <th>31</th>\n      <td>army_relation</td>\n      <td>0.234885</td>\n    </tr>\n  </tbody>\n</table>\n</div>"
     },
     "metadata": {},
     "execution_count": 80
    }
   ],
   "source": [
    "model.get_feature_importance(prettified=True)"
   ]
  },
  {
   "source": [
    "# Hyperparameter tunning"
   ],
   "cell_type": "markdown",
   "metadata": {}
  },
  {
   "cell_type": "code",
   "execution_count": null,
   "metadata": {},
   "outputs": [],
   "source": []
  },
  {
   "source": [
    "# Saving Model"
   ],
   "cell_type": "markdown",
   "metadata": {}
  },
  {
   "cell_type": "code",
   "execution_count": null,
   "metadata": {},
   "outputs": [],
   "source": []
  },
  {
   "source": [
    "# Calculate predictions for the contest"
   ],
   "cell_type": "markdown",
   "metadata": {}
  },
  {
   "cell_type": "code",
   "execution_count": 21,
   "metadata": {},
   "outputs": [
    {
     "output_type": "execute_result",
     "data": {
      "text/plain": [
       "   id  X0       X1    X2       X3    X4  X5   X6  X7  X8  ...  X12  X13  X14  \\\n",
       "0   0   1  1032217  1187  1011523  1172  57  100   1  80  ...   79   45   18   \n",
       "1   1   2  1059033  2128   505263  2104  82   27  87  79  ...   74   96   55   \n",
       "2   2   1   207787  1017   822639  1040  82   48  43  62  ...   16   64   35   \n",
       "3   3   1  1095582  1449    32841  1424  71   43  11  98  ...    1    7   41   \n",
       "4   4   2   963764  1202   489871  1182  11   62  16  55  ...   26   60   37   \n",
       "\n",
       "   X15  X16  X17  X18  X19  X20  X21  \n",
       "0   35   10   80   81   16    0  547  \n",
       "1   54   48    3   92    5   51  656  \n",
       "2   70   99   60   30   37   45  437  \n",
       "3   94   26   52   45   81    1  589  \n",
       "4    7    1   80   48   50   52  340  \n",
       "\n",
       "[5 rows x 23 columns]"
      ],
      "text/html": "<div>\n<style scoped>\n    .dataframe tbody tr th:only-of-type {\n        vertical-align: middle;\n    }\n\n    .dataframe tbody tr th {\n        vertical-align: top;\n    }\n\n    .dataframe thead th {\n        text-align: right;\n    }\n</style>\n<table border=\"1\" class=\"dataframe\">\n  <thead>\n    <tr style=\"text-align: right;\">\n      <th></th>\n      <th>id</th>\n      <th>X0</th>\n      <th>X1</th>\n      <th>X2</th>\n      <th>X3</th>\n      <th>X4</th>\n      <th>X5</th>\n      <th>X6</th>\n      <th>X7</th>\n      <th>X8</th>\n      <th>...</th>\n      <th>X12</th>\n      <th>X13</th>\n      <th>X14</th>\n      <th>X15</th>\n      <th>X16</th>\n      <th>X17</th>\n      <th>X18</th>\n      <th>X19</th>\n      <th>X20</th>\n      <th>X21</th>\n    </tr>\n  </thead>\n  <tbody>\n    <tr>\n      <th>0</th>\n      <td>0</td>\n      <td>1</td>\n      <td>1032217</td>\n      <td>1187</td>\n      <td>1011523</td>\n      <td>1172</td>\n      <td>57</td>\n      <td>100</td>\n      <td>1</td>\n      <td>80</td>\n      <td>...</td>\n      <td>79</td>\n      <td>45</td>\n      <td>18</td>\n      <td>35</td>\n      <td>10</td>\n      <td>80</td>\n      <td>81</td>\n      <td>16</td>\n      <td>0</td>\n      <td>547</td>\n    </tr>\n    <tr>\n      <th>1</th>\n      <td>1</td>\n      <td>2</td>\n      <td>1059033</td>\n      <td>2128</td>\n      <td>505263</td>\n      <td>2104</td>\n      <td>82</td>\n      <td>27</td>\n      <td>87</td>\n      <td>79</td>\n      <td>...</td>\n      <td>74</td>\n      <td>96</td>\n      <td>55</td>\n      <td>54</td>\n      <td>48</td>\n      <td>3</td>\n      <td>92</td>\n      <td>5</td>\n      <td>51</td>\n      <td>656</td>\n    </tr>\n    <tr>\n      <th>2</th>\n      <td>2</td>\n      <td>1</td>\n      <td>207787</td>\n      <td>1017</td>\n      <td>822639</td>\n      <td>1040</td>\n      <td>82</td>\n      <td>48</td>\n      <td>43</td>\n      <td>62</td>\n      <td>...</td>\n      <td>16</td>\n      <td>64</td>\n      <td>35</td>\n      <td>70</td>\n      <td>99</td>\n      <td>60</td>\n      <td>30</td>\n      <td>37</td>\n      <td>45</td>\n      <td>437</td>\n    </tr>\n    <tr>\n      <th>3</th>\n      <td>3</td>\n      <td>1</td>\n      <td>1095582</td>\n      <td>1449</td>\n      <td>32841</td>\n      <td>1424</td>\n      <td>71</td>\n      <td>43</td>\n      <td>11</td>\n      <td>98</td>\n      <td>...</td>\n      <td>1</td>\n      <td>7</td>\n      <td>41</td>\n      <td>94</td>\n      <td>26</td>\n      <td>52</td>\n      <td>45</td>\n      <td>81</td>\n      <td>1</td>\n      <td>589</td>\n    </tr>\n    <tr>\n      <th>4</th>\n      <td>4</td>\n      <td>2</td>\n      <td>963764</td>\n      <td>1202</td>\n      <td>489871</td>\n      <td>1182</td>\n      <td>11</td>\n      <td>62</td>\n      <td>16</td>\n      <td>55</td>\n      <td>...</td>\n      <td>26</td>\n      <td>60</td>\n      <td>37</td>\n      <td>7</td>\n      <td>1</td>\n      <td>80</td>\n      <td>48</td>\n      <td>50</td>\n      <td>52</td>\n      <td>340</td>\n    </tr>\n  </tbody>\n</table>\n<p>5 rows × 23 columns</p>\n</div>"
     },
     "metadata": {},
     "execution_count": 21
    }
   ],
   "source": [
    "data_test = pd.read_csv('test.csv')\n",
    "data_test.head()"
   ]
  },
  {
   "cell_type": "code",
   "execution_count": 22,
   "metadata": {},
   "outputs": [
    {
     "output_type": "execute_result",
     "data": {
      "text/plain": [
       "   X0    X2    X4  X5   X6  X7  X8  X9  X10  X11  X12  X13  X14  X15  X16  \\\n",
       "0   1  1187  1172  57  100   1  80  25   87   43   79   45   18   35   10   \n",
       "1   2  2128  2104  82   27  87  79  80   71   88   74   96   55   54   48   \n",
       "2   1  1017  1040  82   48  43  62  18   60   83   16   64   35   70   99   \n",
       "3   1  1449  1424  71   43  11  98  80   33   35    1    7   41   94   26   \n",
       "4   2  1202  1182  11   62  16  55  88   92   76   26   60   37    7    1   \n",
       "\n",
       "   X17  X18  X19  X20  X21  \n",
       "0   80   81   16    0  547  \n",
       "1    3   92    5   51  656  \n",
       "2   60   30   37   45  437  \n",
       "3   52   45   81    1  589  \n",
       "4   80   48   50   52  340  "
      ],
      "text/html": "<div>\n<style scoped>\n    .dataframe tbody tr th:only-of-type {\n        vertical-align: middle;\n    }\n\n    .dataframe tbody tr th {\n        vertical-align: top;\n    }\n\n    .dataframe thead th {\n        text-align: right;\n    }\n</style>\n<table border=\"1\" class=\"dataframe\">\n  <thead>\n    <tr style=\"text-align: right;\">\n      <th></th>\n      <th>X0</th>\n      <th>X2</th>\n      <th>X4</th>\n      <th>X5</th>\n      <th>X6</th>\n      <th>X7</th>\n      <th>X8</th>\n      <th>X9</th>\n      <th>X10</th>\n      <th>X11</th>\n      <th>X12</th>\n      <th>X13</th>\n      <th>X14</th>\n      <th>X15</th>\n      <th>X16</th>\n      <th>X17</th>\n      <th>X18</th>\n      <th>X19</th>\n      <th>X20</th>\n      <th>X21</th>\n    </tr>\n  </thead>\n  <tbody>\n    <tr>\n      <th>0</th>\n      <td>1</td>\n      <td>1187</td>\n      <td>1172</td>\n      <td>57</td>\n      <td>100</td>\n      <td>1</td>\n      <td>80</td>\n      <td>25</td>\n      <td>87</td>\n      <td>43</td>\n      <td>79</td>\n      <td>45</td>\n      <td>18</td>\n      <td>35</td>\n      <td>10</td>\n      <td>80</td>\n      <td>81</td>\n      <td>16</td>\n      <td>0</td>\n      <td>547</td>\n    </tr>\n    <tr>\n      <th>1</th>\n      <td>2</td>\n      <td>2128</td>\n      <td>2104</td>\n      <td>82</td>\n      <td>27</td>\n      <td>87</td>\n      <td>79</td>\n      <td>80</td>\n      <td>71</td>\n      <td>88</td>\n      <td>74</td>\n      <td>96</td>\n      <td>55</td>\n      <td>54</td>\n      <td>48</td>\n      <td>3</td>\n      <td>92</td>\n      <td>5</td>\n      <td>51</td>\n      <td>656</td>\n    </tr>\n    <tr>\n      <th>2</th>\n      <td>1</td>\n      <td>1017</td>\n      <td>1040</td>\n      <td>82</td>\n      <td>48</td>\n      <td>43</td>\n      <td>62</td>\n      <td>18</td>\n      <td>60</td>\n      <td>83</td>\n      <td>16</td>\n      <td>64</td>\n      <td>35</td>\n      <td>70</td>\n      <td>99</td>\n      <td>60</td>\n      <td>30</td>\n      <td>37</td>\n      <td>45</td>\n      <td>437</td>\n    </tr>\n    <tr>\n      <th>3</th>\n      <td>1</td>\n      <td>1449</td>\n      <td>1424</td>\n      <td>71</td>\n      <td>43</td>\n      <td>11</td>\n      <td>98</td>\n      <td>80</td>\n      <td>33</td>\n      <td>35</td>\n      <td>1</td>\n      <td>7</td>\n      <td>41</td>\n      <td>94</td>\n      <td>26</td>\n      <td>52</td>\n      <td>45</td>\n      <td>81</td>\n      <td>1</td>\n      <td>589</td>\n    </tr>\n    <tr>\n      <th>4</th>\n      <td>2</td>\n      <td>1202</td>\n      <td>1182</td>\n      <td>11</td>\n      <td>62</td>\n      <td>16</td>\n      <td>55</td>\n      <td>88</td>\n      <td>92</td>\n      <td>76</td>\n      <td>26</td>\n      <td>60</td>\n      <td>37</td>\n      <td>7</td>\n      <td>1</td>\n      <td>80</td>\n      <td>48</td>\n      <td>50</td>\n      <td>52</td>\n      <td>340</td>\n    </tr>\n  </tbody>\n</table>\n</div>"
     },
     "metadata": {},
     "execution_count": 22
    }
   ],
   "source": [
    "X_test = data_test.drop(['id', 'X1', 'X3'], axis=1)\n",
    "X_test.head()"
   ]
  },
  {
   "cell_type": "code",
   "execution_count": 23,
   "metadata": {},
   "outputs": [],
   "source": [
    "y_test = model.predict_proba(X_test)\n",
    "y_test = y_test[:, 1]"
   ]
  },
  {
   "source": [
    "# Prepare the submission"
   ],
   "cell_type": "markdown",
   "metadata": {}
  },
  {
   "cell_type": "code",
   "execution_count": 24,
   "metadata": {},
   "outputs": [
    {
     "output_type": "execute_result",
     "data": {
      "text/plain": [
       "   id    target\n",
       "0   0  0.392236\n",
       "1   1  0.363315\n",
       "2   2  0.371697\n",
       "3   3  0.346989\n",
       "4   4  0.307991"
      ],
      "text/html": "<div>\n<style scoped>\n    .dataframe tbody tr th:only-of-type {\n        vertical-align: middle;\n    }\n\n    .dataframe tbody tr th {\n        vertical-align: top;\n    }\n\n    .dataframe thead th {\n        text-align: right;\n    }\n</style>\n<table border=\"1\" class=\"dataframe\">\n  <thead>\n    <tr style=\"text-align: right;\">\n      <th></th>\n      <th>id</th>\n      <th>target</th>\n    </tr>\n  </thead>\n  <tbody>\n    <tr>\n      <th>0</th>\n      <td>0</td>\n      <td>0.392236</td>\n    </tr>\n    <tr>\n      <th>1</th>\n      <td>1</td>\n      <td>0.363315</td>\n    </tr>\n    <tr>\n      <th>2</th>\n      <td>2</td>\n      <td>0.371697</td>\n    </tr>\n    <tr>\n      <th>3</th>\n      <td>3</td>\n      <td>0.346989</td>\n    </tr>\n    <tr>\n      <th>4</th>\n      <td>4</td>\n      <td>0.307991</td>\n    </tr>\n  </tbody>\n</table>\n</div>"
     },
     "metadata": {},
     "execution_count": 24
    }
   ],
   "source": [
    "ans = pd.DataFrame(data=y_test, columns=[\"target\"])\n",
    "ans.reset_index(level=0, inplace=True)\n",
    "ans.reset_index(drop=True, inplace=True)\n",
    "ans = ans.rename(columns={'index':'id'})\n",
    "ans.head()"
   ]
  },
  {
   "cell_type": "code",
   "execution_count": 25,
   "metadata": {},
   "outputs": [],
   "source": [
    "ans.to_csv('submission.csv',index=False)"
   ]
  },
  {
   "cell_type": "code",
   "execution_count": null,
   "metadata": {},
   "outputs": [],
   "source": []
  }
 ],
 "metadata": {
  "kernelspec": {
   "display_name": "Python 3 (ipykernel)",
   "language": "python",
   "name": "python3"
  }
 },
 "nbformat": 4,
 "nbformat_minor": 5
}