{
 "cells": [
  {
   "cell_type": "code",
   "execution_count": 1,
   "id": "eae1095b",
   "metadata": {},
   "outputs": [],
   "source": [
    "import pandas as pd\n",
    "import numpy as np \n",
    "import seaborn as sns\n",
    "import matplotlib.pyplot as plt\n",
    "from sklearn.model_selection import train_test_split\n",
    "from sklearn.metrics import log_loss\n",
    "from sklearn.linear_model import LogisticRegression\n",
    "from sklearn.ensemble import GradientBoostingClassifier, RandomForestClassifier\n",
    "%matplotlib inline"
   ]
  },
  {
   "cell_type": "code",
   "execution_count": 3,
   "id": "dad3bfab",
   "metadata": {},
   "outputs": [
    {
     "output_type": "execute_result",
     "data": {
      "text/plain": [
       "   id  X0      X1    X2      X3    X4  X5  X6  X7  X8  ...  X13  X14  X15  \\\n",
       "0   0   2  908749   954  480270   935  71  79  53  89  ...   51  100   87   \n",
       "1   1   1  438444  2162  486685  2154  32  39  48  49  ...   39   83   91   \n",
       "2   2   1  596915  2066  711059  2081  43  21  58  94  ...    7   52   37   \n",
       "3   3   1  625198  1508   66810  1474   7   1  34  73  ...   39   27   55   \n",
       "4   4   2  228654  1202  542816  1196  53  35  16  80  ...   35   95   50   \n",
       "\n",
       "   X16  X17  X18  X19  X20  X21  target  \n",
       "0    3   61   48   43   79  329       0  \n",
       "1    6   57   94   15   89  581       1  \n",
       "2   50   69   60   89   10  548       0  \n",
       "3   97   83    1   88   87  555       1  \n",
       "4   55   10   49   12   68  651       0  \n",
       "\n",
       "[5 rows x 24 columns]"
      ],
      "text/html": "<div>\n<style scoped>\n    .dataframe tbody tr th:only-of-type {\n        vertical-align: middle;\n    }\n\n    .dataframe tbody tr th {\n        vertical-align: top;\n    }\n\n    .dataframe thead th {\n        text-align: right;\n    }\n</style>\n<table border=\"1\" class=\"dataframe\">\n  <thead>\n    <tr style=\"text-align: right;\">\n      <th></th>\n      <th>id</th>\n      <th>X0</th>\n      <th>X1</th>\n      <th>X2</th>\n      <th>X3</th>\n      <th>X4</th>\n      <th>X5</th>\n      <th>X6</th>\n      <th>X7</th>\n      <th>X8</th>\n      <th>...</th>\n      <th>X13</th>\n      <th>X14</th>\n      <th>X15</th>\n      <th>X16</th>\n      <th>X17</th>\n      <th>X18</th>\n      <th>X19</th>\n      <th>X20</th>\n      <th>X21</th>\n      <th>target</th>\n    </tr>\n  </thead>\n  <tbody>\n    <tr>\n      <th>0</th>\n      <td>0</td>\n      <td>2</td>\n      <td>908749</td>\n      <td>954</td>\n      <td>480270</td>\n      <td>935</td>\n      <td>71</td>\n      <td>79</td>\n      <td>53</td>\n      <td>89</td>\n      <td>...</td>\n      <td>51</td>\n      <td>100</td>\n      <td>87</td>\n      <td>3</td>\n      <td>61</td>\n      <td>48</td>\n      <td>43</td>\n      <td>79</td>\n      <td>329</td>\n      <td>0</td>\n    </tr>\n    <tr>\n      <th>1</th>\n      <td>1</td>\n      <td>1</td>\n      <td>438444</td>\n      <td>2162</td>\n      <td>486685</td>\n      <td>2154</td>\n      <td>32</td>\n      <td>39</td>\n      <td>48</td>\n      <td>49</td>\n      <td>...</td>\n      <td>39</td>\n      <td>83</td>\n      <td>91</td>\n      <td>6</td>\n      <td>57</td>\n      <td>94</td>\n      <td>15</td>\n      <td>89</td>\n      <td>581</td>\n      <td>1</td>\n    </tr>\n    <tr>\n      <th>2</th>\n      <td>2</td>\n      <td>1</td>\n      <td>596915</td>\n      <td>2066</td>\n      <td>711059</td>\n      <td>2081</td>\n      <td>43</td>\n      <td>21</td>\n      <td>58</td>\n      <td>94</td>\n      <td>...</td>\n      <td>7</td>\n      <td>52</td>\n      <td>37</td>\n      <td>50</td>\n      <td>69</td>\n      <td>60</td>\n      <td>89</td>\n      <td>10</td>\n      <td>548</td>\n      <td>0</td>\n    </tr>\n    <tr>\n      <th>3</th>\n      <td>3</td>\n      <td>1</td>\n      <td>625198</td>\n      <td>1508</td>\n      <td>66810</td>\n      <td>1474</td>\n      <td>7</td>\n      <td>1</td>\n      <td>34</td>\n      <td>73</td>\n      <td>...</td>\n      <td>39</td>\n      <td>27</td>\n      <td>55</td>\n      <td>97</td>\n      <td>83</td>\n      <td>1</td>\n      <td>88</td>\n      <td>87</td>\n      <td>555</td>\n      <td>1</td>\n    </tr>\n    <tr>\n      <th>4</th>\n      <td>4</td>\n      <td>2</td>\n      <td>228654</td>\n      <td>1202</td>\n      <td>542816</td>\n      <td>1196</td>\n      <td>53</td>\n      <td>35</td>\n      <td>16</td>\n      <td>80</td>\n      <td>...</td>\n      <td>35</td>\n      <td>95</td>\n      <td>50</td>\n      <td>55</td>\n      <td>10</td>\n      <td>49</td>\n      <td>12</td>\n      <td>68</td>\n      <td>651</td>\n      <td>0</td>\n    </tr>\n  </tbody>\n</table>\n<p>5 rows × 24 columns</p>\n</div>"
     },
     "metadata": {},
     "execution_count": 3
    }
   ],
   "source": [
    "data = pd.read_csv('train.csv')\n",
    "data.head()"
   ]
  },
  {
   "cell_type": "code",
   "execution_count": 4,
   "id": "84a4411e",
   "metadata": {},
   "outputs": [],
   "source": [
    "data.dropna(inplace=True)"
   ]
  },
  {
   "cell_type": "code",
   "execution_count": 5,
   "metadata": {},
   "outputs": [
    {
     "output_type": "execute_result",
     "data": {
      "text/plain": [
       "                 id            X0            X1            X2            X3  \\\n",
       "count  3.633005e+06  3.633005e+06  3.633005e+06  3.633005e+06  3.633005e+06   \n",
       "mean   1.816502e+06  1.650469e+00  5.638035e+05  1.449992e+03  5.637574e+05   \n",
       "std    1.048758e+06  7.179981e-01  3.248814e+05  4.848098e+02  3.247859e+05   \n",
       "min    0.000000e+00  1.000000e+00  0.000000e+00  6.000000e+00  0.000000e+00   \n",
       "25%    9.082510e+05  1.000000e+00  2.829920e+05  1.074000e+03  2.829370e+05   \n",
       "50%    1.816502e+06  2.000000e+00  5.637460e+05  1.370000e+03  5.639180e+05   \n",
       "75%    2.724753e+06  2.000000e+00  8.454180e+05  1.747000e+03  8.454590e+05   \n",
       "max    3.633004e+06  8.000000e+00  1.126077e+06  4.186000e+03  1.126076e+06   \n",
       "\n",
       "                 X4            X5            X6            X7            X8  \\\n",
       "count  3.633005e+06  3.633005e+06  3.633005e+06  3.633005e+06  3.633005e+06   \n",
       "mean   1.450097e+03  5.016512e+01  5.016514e+01  5.018091e+01  5.015996e+01   \n",
       "std    4.848208e+02  2.964439e+01  2.966132e+01  2.963772e+01  2.964519e+01   \n",
       "min    3.000000e+00  0.000000e+00  0.000000e+00  0.000000e+00  0.000000e+00   \n",
       "25%    1.074000e+03  2.400000e+01  2.400000e+01  2.400000e+01  2.400000e+01   \n",
       "50%    1.371000e+03  5.100000e+01  5.100000e+01  5.100000e+01  5.100000e+01   \n",
       "75%    1.747000e+03  7.900000e+01  7.900000e+01  7.900000e+01  7.900000e+01   \n",
       "max    4.192000e+03  1.000000e+02  1.000000e+02  1.000000e+02  1.000000e+02   \n",
       "\n",
       "       ...           X13           X14           X15           X16  \\\n",
       "count  ...  3.633005e+06  3.633005e+06  3.633005e+06  3.633005e+06   \n",
       "mean   ...  5.017506e+01  5.017908e+01  5.018681e+01  5.018890e+01   \n",
       "std    ...  2.965711e+01  2.965469e+01  2.964957e+01  2.965893e+01   \n",
       "min    ...  0.000000e+00  0.000000e+00  0.000000e+00  0.000000e+00   \n",
       "25%    ...  2.400000e+01  2.400000e+01  2.400000e+01  2.400000e+01   \n",
       "50%    ...  5.100000e+01  5.100000e+01  5.100000e+01  5.100000e+01   \n",
       "75%    ...  7.900000e+01  7.900000e+01  7.900000e+01  7.900000e+01   \n",
       "max    ...  1.000000e+02  1.000000e+02  1.000000e+02  1.000000e+02   \n",
       "\n",
       "                X17           X18           X19           X20           X21  \\\n",
       "count  3.633005e+06  3.633005e+06  3.633005e+06  3.633005e+06  3.633005e+06   \n",
       "mean   5.014741e+01  5.018218e+01  5.016238e+01  5.015347e+01  4.913625e+02   \n",
       "std    2.965769e+01  2.965730e+01  2.963982e+01  2.966294e+01  1.464528e+02   \n",
       "min    0.000000e+00  0.000000e+00  0.000000e+00  0.000000e+00  7.000000e+00   \n",
       "25%    2.400000e+01  2.400000e+01  2.400000e+01  2.400000e+01  3.840000e+02   \n",
       "50%    5.100000e+01  5.100000e+01  5.100000e+01  5.100000e+01  5.350000e+02   \n",
       "75%    7.900000e+01  7.900000e+01  7.900000e+01  7.900000e+01  6.150000e+02   \n",
       "max    1.000000e+02  1.000000e+02  1.000000e+02  1.000000e+02  6.800000e+02   \n",
       "\n",
       "             target  \n",
       "count  3.633005e+06  \n",
       "mean   3.800829e-01  \n",
       "std    4.854070e-01  \n",
       "min    0.000000e+00  \n",
       "25%    0.000000e+00  \n",
       "50%    0.000000e+00  \n",
       "75%    1.000000e+00  \n",
       "max    1.000000e+00  \n",
       "\n",
       "[8 rows x 24 columns]"
      ],
      "text/html": "<div>\n<style scoped>\n    .dataframe tbody tr th:only-of-type {\n        vertical-align: middle;\n    }\n\n    .dataframe tbody tr th {\n        vertical-align: top;\n    }\n\n    .dataframe thead th {\n        text-align: right;\n    }\n</style>\n<table border=\"1\" class=\"dataframe\">\n  <thead>\n    <tr style=\"text-align: right;\">\n      <th></th>\n      <th>id</th>\n      <th>X0</th>\n      <th>X1</th>\n      <th>X2</th>\n      <th>X3</th>\n      <th>X4</th>\n      <th>X5</th>\n      <th>X6</th>\n      <th>X7</th>\n      <th>X8</th>\n      <th>...</th>\n      <th>X13</th>\n      <th>X14</th>\n      <th>X15</th>\n      <th>X16</th>\n      <th>X17</th>\n      <th>X18</th>\n      <th>X19</th>\n      <th>X20</th>\n      <th>X21</th>\n      <th>target</th>\n    </tr>\n  </thead>\n  <tbody>\n    <tr>\n      <th>count</th>\n      <td>3.633005e+06</td>\n      <td>3.633005e+06</td>\n      <td>3.633005e+06</td>\n      <td>3.633005e+06</td>\n      <td>3.633005e+06</td>\n      <td>3.633005e+06</td>\n      <td>3.633005e+06</td>\n      <td>3.633005e+06</td>\n      <td>3.633005e+06</td>\n      <td>3.633005e+06</td>\n      <td>...</td>\n      <td>3.633005e+06</td>\n      <td>3.633005e+06</td>\n      <td>3.633005e+06</td>\n      <td>3.633005e+06</td>\n      <td>3.633005e+06</td>\n      <td>3.633005e+06</td>\n      <td>3.633005e+06</td>\n      <td>3.633005e+06</td>\n      <td>3.633005e+06</td>\n      <td>3.633005e+06</td>\n    </tr>\n    <tr>\n      <th>mean</th>\n      <td>1.816502e+06</td>\n      <td>1.650469e+00</td>\n      <td>5.638035e+05</td>\n      <td>1.449992e+03</td>\n      <td>5.637574e+05</td>\n      <td>1.450097e+03</td>\n      <td>5.016512e+01</td>\n      <td>5.016514e+01</td>\n      <td>5.018091e+01</td>\n      <td>5.015996e+01</td>\n      <td>...</td>\n      <td>5.017506e+01</td>\n      <td>5.017908e+01</td>\n      <td>5.018681e+01</td>\n      <td>5.018890e+01</td>\n      <td>5.014741e+01</td>\n      <td>5.018218e+01</td>\n      <td>5.016238e+01</td>\n      <td>5.015347e+01</td>\n      <td>4.913625e+02</td>\n      <td>3.800829e-01</td>\n    </tr>\n    <tr>\n      <th>std</th>\n      <td>1.048758e+06</td>\n      <td>7.179981e-01</td>\n      <td>3.248814e+05</td>\n      <td>4.848098e+02</td>\n      <td>3.247859e+05</td>\n      <td>4.848208e+02</td>\n      <td>2.964439e+01</td>\n      <td>2.966132e+01</td>\n      <td>2.963772e+01</td>\n      <td>2.964519e+01</td>\n      <td>...</td>\n      <td>2.965711e+01</td>\n      <td>2.965469e+01</td>\n      <td>2.964957e+01</td>\n      <td>2.965893e+01</td>\n      <td>2.965769e+01</td>\n      <td>2.965730e+01</td>\n      <td>2.963982e+01</td>\n      <td>2.966294e+01</td>\n      <td>1.464528e+02</td>\n      <td>4.854070e-01</td>\n    </tr>\n    <tr>\n      <th>min</th>\n      <td>0.000000e+00</td>\n      <td>1.000000e+00</td>\n      <td>0.000000e+00</td>\n      <td>6.000000e+00</td>\n      <td>0.000000e+00</td>\n      <td>3.000000e+00</td>\n      <td>0.000000e+00</td>\n      <td>0.000000e+00</td>\n      <td>0.000000e+00</td>\n      <td>0.000000e+00</td>\n      <td>...</td>\n      <td>0.000000e+00</td>\n      <td>0.000000e+00</td>\n      <td>0.000000e+00</td>\n      <td>0.000000e+00</td>\n      <td>0.000000e+00</td>\n      <td>0.000000e+00</td>\n      <td>0.000000e+00</td>\n      <td>0.000000e+00</td>\n      <td>7.000000e+00</td>\n      <td>0.000000e+00</td>\n    </tr>\n    <tr>\n      <th>25%</th>\n      <td>9.082510e+05</td>\n      <td>1.000000e+00</td>\n      <td>2.829920e+05</td>\n      <td>1.074000e+03</td>\n      <td>2.829370e+05</td>\n      <td>1.074000e+03</td>\n      <td>2.400000e+01</td>\n      <td>2.400000e+01</td>\n      <td>2.400000e+01</td>\n      <td>2.400000e+01</td>\n      <td>...</td>\n      <td>2.400000e+01</td>\n      <td>2.400000e+01</td>\n      <td>2.400000e+01</td>\n      <td>2.400000e+01</td>\n      <td>2.400000e+01</td>\n      <td>2.400000e+01</td>\n      <td>2.400000e+01</td>\n      <td>2.400000e+01</td>\n      <td>3.840000e+02</td>\n      <td>0.000000e+00</td>\n    </tr>\n    <tr>\n      <th>50%</th>\n      <td>1.816502e+06</td>\n      <td>2.000000e+00</td>\n      <td>5.637460e+05</td>\n      <td>1.370000e+03</td>\n      <td>5.639180e+05</td>\n      <td>1.371000e+03</td>\n      <td>5.100000e+01</td>\n      <td>5.100000e+01</td>\n      <td>5.100000e+01</td>\n      <td>5.100000e+01</td>\n      <td>...</td>\n      <td>5.100000e+01</td>\n      <td>5.100000e+01</td>\n      <td>5.100000e+01</td>\n      <td>5.100000e+01</td>\n      <td>5.100000e+01</td>\n      <td>5.100000e+01</td>\n      <td>5.100000e+01</td>\n      <td>5.100000e+01</td>\n      <td>5.350000e+02</td>\n      <td>0.000000e+00</td>\n    </tr>\n    <tr>\n      <th>75%</th>\n      <td>2.724753e+06</td>\n      <td>2.000000e+00</td>\n      <td>8.454180e+05</td>\n      <td>1.747000e+03</td>\n      <td>8.454590e+05</td>\n      <td>1.747000e+03</td>\n      <td>7.900000e+01</td>\n      <td>7.900000e+01</td>\n      <td>7.900000e+01</td>\n      <td>7.900000e+01</td>\n      <td>...</td>\n      <td>7.900000e+01</td>\n      <td>7.900000e+01</td>\n      <td>7.900000e+01</td>\n      <td>7.900000e+01</td>\n      <td>7.900000e+01</td>\n      <td>7.900000e+01</td>\n      <td>7.900000e+01</td>\n      <td>7.900000e+01</td>\n      <td>6.150000e+02</td>\n      <td>1.000000e+00</td>\n    </tr>\n    <tr>\n      <th>max</th>\n      <td>3.633004e+06</td>\n      <td>8.000000e+00</td>\n      <td>1.126077e+06</td>\n      <td>4.186000e+03</td>\n      <td>1.126076e+06</td>\n      <td>4.192000e+03</td>\n      <td>1.000000e+02</td>\n      <td>1.000000e+02</td>\n      <td>1.000000e+02</td>\n      <td>1.000000e+02</td>\n      <td>...</td>\n      <td>1.000000e+02</td>\n      <td>1.000000e+02</td>\n      <td>1.000000e+02</td>\n      <td>1.000000e+02</td>\n      <td>1.000000e+02</td>\n      <td>1.000000e+02</td>\n      <td>1.000000e+02</td>\n      <td>1.000000e+02</td>\n      <td>6.800000e+02</td>\n      <td>1.000000e+00</td>\n    </tr>\n  </tbody>\n</table>\n<p>8 rows × 24 columns</p>\n</div>"
     },
     "metadata": {},
     "execution_count": 5
    }
   ],
   "source": [
    "data.describe()"
   ]
  },
  {
   "cell_type": "code",
   "execution_count": 10,
   "id": "24b19b9d",
   "metadata": {},
   "outputs": [],
   "source": [
    "X, y = data.loc[:, 'X0':'X21'], data.loc[:, 'target']"
   ]
  },
  {
   "cell_type": "code",
   "execution_count": 11,
   "id": "44284563",
   "metadata": {},
   "outputs": [
    {
     "name": "stdout",
     "output_type": "stream",
     "text": [
      "X shape = (3633005, 22) \n",
      " y shape = (3633005,)\n"
     ]
    }
   ],
   "source": [
    "print(f'X shape = {X.shape}','\\n', f'y shape = {y.shape}')"
   ]
  },
  {
   "cell_type": "code",
   "execution_count": 13,
   "id": "d4901b1f",
   "metadata": {},
   "outputs": [],
   "source": [
    "X_train, X_test, y_train, y_test = train_test_split(X, y, test_size=0.8, random_state=241)"
   ]
  },
  {
   "cell_type": "code",
   "execution_count": 14,
   "id": "2702a5c1",
   "metadata": {},
   "outputs": [
    {
     "data": {
      "text/html": [
       "<div>\n",
       "<style scoped>\n",
       "    .dataframe tbody tr th:only-of-type {\n",
       "        vertical-align: middle;\n",
       "    }\n",
       "\n",
       "    .dataframe tbody tr th {\n",
       "        vertical-align: top;\n",
       "    }\n",
       "\n",
       "    .dataframe thead th {\n",
       "        text-align: right;\n",
       "    }\n",
       "</style>\n",
       "<table border=\"1\" class=\"dataframe\">\n",
       "  <thead>\n",
       "    <tr style=\"text-align: right;\">\n",
       "      <th></th>\n",
       "      <th>X0</th>\n",
       "      <th>X1</th>\n",
       "      <th>X2</th>\n",
       "      <th>X3</th>\n",
       "      <th>X4</th>\n",
       "      <th>X5</th>\n",
       "      <th>X6</th>\n",
       "      <th>X7</th>\n",
       "      <th>X8</th>\n",
       "      <th>X9</th>\n",
       "      <th>...</th>\n",
       "      <th>X12</th>\n",
       "      <th>X13</th>\n",
       "      <th>X14</th>\n",
       "      <th>X15</th>\n",
       "      <th>X16</th>\n",
       "      <th>X17</th>\n",
       "      <th>X18</th>\n",
       "      <th>X19</th>\n",
       "      <th>X20</th>\n",
       "      <th>X21</th>\n",
       "    </tr>\n",
       "  </thead>\n",
       "  <tbody>\n",
       "    <tr>\n",
       "      <th>count</th>\n",
       "      <td>726601.000000</td>\n",
       "      <td>7.266010e+05</td>\n",
       "      <td>726601.000000</td>\n",
       "      <td>7.266010e+05</td>\n",
       "      <td>726601.000000</td>\n",
       "      <td>726601.000000</td>\n",
       "      <td>726601.000000</td>\n",
       "      <td>726601.000000</td>\n",
       "      <td>726601.000000</td>\n",
       "      <td>726601.000000</td>\n",
       "      <td>...</td>\n",
       "      <td>726601.000000</td>\n",
       "      <td>726601.000000</td>\n",
       "      <td>726601.000000</td>\n",
       "      <td>726601.000000</td>\n",
       "      <td>726601.000000</td>\n",
       "      <td>726601.000000</td>\n",
       "      <td>726601.000000</td>\n",
       "      <td>726601.000000</td>\n",
       "      <td>726601.000000</td>\n",
       "      <td>726601.000000</td>\n",
       "    </tr>\n",
       "    <tr>\n",
       "      <th>mean</th>\n",
       "      <td>1.651289</td>\n",
       "      <td>5.636884e+05</td>\n",
       "      <td>1450.083789</td>\n",
       "      <td>5.639051e+05</td>\n",
       "      <td>1450.174866</td>\n",
       "      <td>50.177736</td>\n",
       "      <td>50.193720</td>\n",
       "      <td>50.192873</td>\n",
       "      <td>50.157305</td>\n",
       "      <td>50.193312</td>\n",
       "      <td>...</td>\n",
       "      <td>50.168234</td>\n",
       "      <td>50.192495</td>\n",
       "      <td>50.197491</td>\n",
       "      <td>50.133286</td>\n",
       "      <td>50.218756</td>\n",
       "      <td>50.163930</td>\n",
       "      <td>50.178666</td>\n",
       "      <td>50.157637</td>\n",
       "      <td>50.099503</td>\n",
       "      <td>491.311586</td>\n",
       "    </tr>\n",
       "    <tr>\n",
       "      <th>std</th>\n",
       "      <td>0.719346</td>\n",
       "      <td>3.245758e+05</td>\n",
       "      <td>485.118065</td>\n",
       "      <td>3.248450e+05</td>\n",
       "      <td>485.169263</td>\n",
       "      <td>29.656662</td>\n",
       "      <td>29.645922</td>\n",
       "      <td>29.627549</td>\n",
       "      <td>29.642458</td>\n",
       "      <td>29.655106</td>\n",
       "      <td>...</td>\n",
       "      <td>29.648492</td>\n",
       "      <td>29.664732</td>\n",
       "      <td>29.644344</td>\n",
       "      <td>29.672622</td>\n",
       "      <td>29.664099</td>\n",
       "      <td>29.680502</td>\n",
       "      <td>29.662907</td>\n",
       "      <td>29.632655</td>\n",
       "      <td>29.673745</td>\n",
       "      <td>146.493060</td>\n",
       "    </tr>\n",
       "    <tr>\n",
       "      <th>min</th>\n",
       "      <td>1.000000</td>\n",
       "      <td>0.000000e+00</td>\n",
       "      <td>9.000000</td>\n",
       "      <td>3.000000e+00</td>\n",
       "      <td>7.000000</td>\n",
       "      <td>0.000000</td>\n",
       "      <td>0.000000</td>\n",
       "      <td>0.000000</td>\n",
       "      <td>0.000000</td>\n",
       "      <td>0.000000</td>\n",
       "      <td>...</td>\n",
       "      <td>0.000000</td>\n",
       "      <td>0.000000</td>\n",
       "      <td>0.000000</td>\n",
       "      <td>0.000000</td>\n",
       "      <td>0.000000</td>\n",
       "      <td>0.000000</td>\n",
       "      <td>0.000000</td>\n",
       "      <td>0.000000</td>\n",
       "      <td>0.000000</td>\n",
       "      <td>7.000000</td>\n",
       "    </tr>\n",
       "    <tr>\n",
       "      <th>25%</th>\n",
       "      <td>1.000000</td>\n",
       "      <td>2.833200e+05</td>\n",
       "      <td>1074.000000</td>\n",
       "      <td>2.833200e+05</td>\n",
       "      <td>1075.000000</td>\n",
       "      <td>24.000000</td>\n",
       "      <td>24.000000</td>\n",
       "      <td>24.000000</td>\n",
       "      <td>24.000000</td>\n",
       "      <td>24.000000</td>\n",
       "      <td>...</td>\n",
       "      <td>24.000000</td>\n",
       "      <td>24.000000</td>\n",
       "      <td>24.000000</td>\n",
       "      <td>24.000000</td>\n",
       "      <td>24.000000</td>\n",
       "      <td>24.000000</td>\n",
       "      <td>24.000000</td>\n",
       "      <td>24.000000</td>\n",
       "      <td>24.000000</td>\n",
       "      <td>383.000000</td>\n",
       "    </tr>\n",
       "    <tr>\n",
       "      <th>50%</th>\n",
       "      <td>2.000000</td>\n",
       "      <td>5.637020e+05</td>\n",
       "      <td>1370.000000</td>\n",
       "      <td>5.636150e+05</td>\n",
       "      <td>1371.000000</td>\n",
       "      <td>51.000000</td>\n",
       "      <td>51.000000</td>\n",
       "      <td>51.000000</td>\n",
       "      <td>51.000000</td>\n",
       "      <td>51.000000</td>\n",
       "      <td>...</td>\n",
       "      <td>51.000000</td>\n",
       "      <td>51.000000</td>\n",
       "      <td>51.000000</td>\n",
       "      <td>51.000000</td>\n",
       "      <td>51.000000</td>\n",
       "      <td>51.000000</td>\n",
       "      <td>51.000000</td>\n",
       "      <td>51.000000</td>\n",
       "      <td>51.000000</td>\n",
       "      <td>535.000000</td>\n",
       "    </tr>\n",
       "    <tr>\n",
       "      <th>75%</th>\n",
       "      <td>2.000000</td>\n",
       "      <td>8.446530e+05</td>\n",
       "      <td>1747.000000</td>\n",
       "      <td>8.456490e+05</td>\n",
       "      <td>1747.000000</td>\n",
       "      <td>79.000000</td>\n",
       "      <td>79.000000</td>\n",
       "      <td>79.000000</td>\n",
       "      <td>79.000000</td>\n",
       "      <td>79.000000</td>\n",
       "      <td>...</td>\n",
       "      <td>79.000000</td>\n",
       "      <td>79.000000</td>\n",
       "      <td>79.000000</td>\n",
       "      <td>79.000000</td>\n",
       "      <td>79.000000</td>\n",
       "      <td>79.000000</td>\n",
       "      <td>79.000000</td>\n",
       "      <td>79.000000</td>\n",
       "      <td>79.000000</td>\n",
       "      <td>615.000000</td>\n",
       "    </tr>\n",
       "    <tr>\n",
       "      <th>max</th>\n",
       "      <td>8.000000</td>\n",
       "      <td>1.126076e+06</td>\n",
       "      <td>4186.000000</td>\n",
       "      <td>1.126073e+06</td>\n",
       "      <td>4180.000000</td>\n",
       "      <td>100.000000</td>\n",
       "      <td>100.000000</td>\n",
       "      <td>100.000000</td>\n",
       "      <td>100.000000</td>\n",
       "      <td>100.000000</td>\n",
       "      <td>...</td>\n",
       "      <td>100.000000</td>\n",
       "      <td>100.000000</td>\n",
       "      <td>100.000000</td>\n",
       "      <td>100.000000</td>\n",
       "      <td>100.000000</td>\n",
       "      <td>100.000000</td>\n",
       "      <td>100.000000</td>\n",
       "      <td>100.000000</td>\n",
       "      <td>100.000000</td>\n",
       "      <td>680.000000</td>\n",
       "    </tr>\n",
       "  </tbody>\n",
       "</table>\n",
       "<p>8 rows × 22 columns</p>\n",
       "</div>"
      ],
      "text/plain": [
       "                  X0            X1             X2            X3  \\\n",
       "count  726601.000000  7.266010e+05  726601.000000  7.266010e+05   \n",
       "mean        1.651289  5.636884e+05    1450.083789  5.639051e+05   \n",
       "std         0.719346  3.245758e+05     485.118065  3.248450e+05   \n",
       "min         1.000000  0.000000e+00       9.000000  3.000000e+00   \n",
       "25%         1.000000  2.833200e+05    1074.000000  2.833200e+05   \n",
       "50%         2.000000  5.637020e+05    1370.000000  5.636150e+05   \n",
       "75%         2.000000  8.446530e+05    1747.000000  8.456490e+05   \n",
       "max         8.000000  1.126076e+06    4186.000000  1.126073e+06   \n",
       "\n",
       "                  X4             X5             X6             X7  \\\n",
       "count  726601.000000  726601.000000  726601.000000  726601.000000   \n",
       "mean     1450.174866      50.177736      50.193720      50.192873   \n",
       "std       485.169263      29.656662      29.645922      29.627549   \n",
       "min         7.000000       0.000000       0.000000       0.000000   \n",
       "25%      1075.000000      24.000000      24.000000      24.000000   \n",
       "50%      1371.000000      51.000000      51.000000      51.000000   \n",
       "75%      1747.000000      79.000000      79.000000      79.000000   \n",
       "max      4180.000000     100.000000     100.000000     100.000000   \n",
       "\n",
       "                  X8             X9  ...            X12            X13  \\\n",
       "count  726601.000000  726601.000000  ...  726601.000000  726601.000000   \n",
       "mean       50.157305      50.193312  ...      50.168234      50.192495   \n",
       "std        29.642458      29.655106  ...      29.648492      29.664732   \n",
       "min         0.000000       0.000000  ...       0.000000       0.000000   \n",
       "25%        24.000000      24.000000  ...      24.000000      24.000000   \n",
       "50%        51.000000      51.000000  ...      51.000000      51.000000   \n",
       "75%        79.000000      79.000000  ...      79.000000      79.000000   \n",
       "max       100.000000     100.000000  ...     100.000000     100.000000   \n",
       "\n",
       "                 X14            X15            X16            X17  \\\n",
       "count  726601.000000  726601.000000  726601.000000  726601.000000   \n",
       "mean       50.197491      50.133286      50.218756      50.163930   \n",
       "std        29.644344      29.672622      29.664099      29.680502   \n",
       "min         0.000000       0.000000       0.000000       0.000000   \n",
       "25%        24.000000      24.000000      24.000000      24.000000   \n",
       "50%        51.000000      51.000000      51.000000      51.000000   \n",
       "75%        79.000000      79.000000      79.000000      79.000000   \n",
       "max       100.000000     100.000000     100.000000     100.000000   \n",
       "\n",
       "                 X18            X19            X20            X21  \n",
       "count  726601.000000  726601.000000  726601.000000  726601.000000  \n",
       "mean       50.178666      50.157637      50.099503     491.311586  \n",
       "std        29.662907      29.632655      29.673745     146.493060  \n",
       "min         0.000000       0.000000       0.000000       7.000000  \n",
       "25%        24.000000      24.000000      24.000000     383.000000  \n",
       "50%        51.000000      51.000000      51.000000     535.000000  \n",
       "75%        79.000000      79.000000      79.000000     615.000000  \n",
       "max       100.000000     100.000000     100.000000     680.000000  \n",
       "\n",
       "[8 rows x 22 columns]"
      ]
     },
     "execution_count": 14,
     "metadata": {},
     "output_type": "execute_result"
    }
   ],
   "source": [
    "X_train.describe()"
   ]
  },
  {
   "source": [
    "### Тупо запихнем все в случайный лес и посмотрим что будет "
   ],
   "cell_type": "markdown",
   "metadata": {}
  },
  {
   "cell_type": "code",
   "execution_count": 16,
   "id": "9bf09035",
   "metadata": {},
   "outputs": [
    {
     "data": {
      "text/plain": [
       "RandomForestClassifier(random_state=241)"
      ]
     },
     "execution_count": 16,
     "metadata": {},
     "output_type": "execute_result"
    }
   ],
   "source": [
    "cls_rf = RandomForestClassifier(random_state=241, n_estimators=100)\n",
    "cls_rf.fit(X_train, y_train)"
   ]
  },
  {
   "cell_type": "code",
   "execution_count": 17,
   "id": "8f60f85f",
   "metadata": {},
   "outputs": [
    {
     "data": {
      "text/plain": [
       "0.6697443202640879"
      ]
     },
     "execution_count": 17,
     "metadata": {},
     "output_type": "execute_result"
    }
   ],
   "source": [
    "log_loss(y_test, cls_rf.predict_proba(X_test))"
   ]
  },
  {
   "cell_type": "code",
   "execution_count": 19,
   "id": "503fec00",
   "metadata": {},
   "outputs": [
    {
     "data": {
      "text/html": [
       "<div>\n",
       "<style scoped>\n",
       "    .dataframe tbody tr th:only-of-type {\n",
       "        vertical-align: middle;\n",
       "    }\n",
       "\n",
       "    .dataframe tbody tr th {\n",
       "        vertical-align: top;\n",
       "    }\n",
       "\n",
       "    .dataframe thead th {\n",
       "        text-align: right;\n",
       "    }\n",
       "</style>\n",
       "<table border=\"1\" class=\"dataframe\">\n",
       "  <thead>\n",
       "    <tr style=\"text-align: right;\">\n",
       "      <th></th>\n",
       "      <th>id</th>\n",
       "      <th>X0</th>\n",
       "      <th>X1</th>\n",
       "      <th>X2</th>\n",
       "      <th>X3</th>\n",
       "      <th>X4</th>\n",
       "      <th>X5</th>\n",
       "      <th>X6</th>\n",
       "      <th>X7</th>\n",
       "      <th>X8</th>\n",
       "      <th>...</th>\n",
       "      <th>X12</th>\n",
       "      <th>X13</th>\n",
       "      <th>X14</th>\n",
       "      <th>X15</th>\n",
       "      <th>X16</th>\n",
       "      <th>X17</th>\n",
       "      <th>X18</th>\n",
       "      <th>X19</th>\n",
       "      <th>X20</th>\n",
       "      <th>X21</th>\n",
       "    </tr>\n",
       "  </thead>\n",
       "  <tbody>\n",
       "    <tr>\n",
       "      <th>0</th>\n",
       "      <td>0</td>\n",
       "      <td>1</td>\n",
       "      <td>1032217</td>\n",
       "      <td>1187</td>\n",
       "      <td>1011523</td>\n",
       "      <td>1172</td>\n",
       "      <td>57</td>\n",
       "      <td>100</td>\n",
       "      <td>1</td>\n",
       "      <td>80</td>\n",
       "      <td>...</td>\n",
       "      <td>79</td>\n",
       "      <td>45</td>\n",
       "      <td>18</td>\n",
       "      <td>35</td>\n",
       "      <td>10</td>\n",
       "      <td>80</td>\n",
       "      <td>81</td>\n",
       "      <td>16</td>\n",
       "      <td>0</td>\n",
       "      <td>547</td>\n",
       "    </tr>\n",
       "    <tr>\n",
       "      <th>1</th>\n",
       "      <td>1</td>\n",
       "      <td>2</td>\n",
       "      <td>1059033</td>\n",
       "      <td>2128</td>\n",
       "      <td>505263</td>\n",
       "      <td>2104</td>\n",
       "      <td>82</td>\n",
       "      <td>27</td>\n",
       "      <td>87</td>\n",
       "      <td>79</td>\n",
       "      <td>...</td>\n",
       "      <td>74</td>\n",
       "      <td>96</td>\n",
       "      <td>55</td>\n",
       "      <td>54</td>\n",
       "      <td>48</td>\n",
       "      <td>3</td>\n",
       "      <td>92</td>\n",
       "      <td>5</td>\n",
       "      <td>51</td>\n",
       "      <td>656</td>\n",
       "    </tr>\n",
       "    <tr>\n",
       "      <th>2</th>\n",
       "      <td>2</td>\n",
       "      <td>1</td>\n",
       "      <td>207787</td>\n",
       "      <td>1017</td>\n",
       "      <td>822639</td>\n",
       "      <td>1040</td>\n",
       "      <td>82</td>\n",
       "      <td>48</td>\n",
       "      <td>43</td>\n",
       "      <td>62</td>\n",
       "      <td>...</td>\n",
       "      <td>16</td>\n",
       "      <td>64</td>\n",
       "      <td>35</td>\n",
       "      <td>70</td>\n",
       "      <td>99</td>\n",
       "      <td>60</td>\n",
       "      <td>30</td>\n",
       "      <td>37</td>\n",
       "      <td>45</td>\n",
       "      <td>437</td>\n",
       "    </tr>\n",
       "    <tr>\n",
       "      <th>3</th>\n",
       "      <td>3</td>\n",
       "      <td>1</td>\n",
       "      <td>1095582</td>\n",
       "      <td>1449</td>\n",
       "      <td>32841</td>\n",
       "      <td>1424</td>\n",
       "      <td>71</td>\n",
       "      <td>43</td>\n",
       "      <td>11</td>\n",
       "      <td>98</td>\n",
       "      <td>...</td>\n",
       "      <td>1</td>\n",
       "      <td>7</td>\n",
       "      <td>41</td>\n",
       "      <td>94</td>\n",
       "      <td>26</td>\n",
       "      <td>52</td>\n",
       "      <td>45</td>\n",
       "      <td>81</td>\n",
       "      <td>1</td>\n",
       "      <td>589</td>\n",
       "    </tr>\n",
       "    <tr>\n",
       "      <th>4</th>\n",
       "      <td>4</td>\n",
       "      <td>2</td>\n",
       "      <td>963764</td>\n",
       "      <td>1202</td>\n",
       "      <td>489871</td>\n",
       "      <td>1182</td>\n",
       "      <td>11</td>\n",
       "      <td>62</td>\n",
       "      <td>16</td>\n",
       "      <td>55</td>\n",
       "      <td>...</td>\n",
       "      <td>26</td>\n",
       "      <td>60</td>\n",
       "      <td>37</td>\n",
       "      <td>7</td>\n",
       "      <td>1</td>\n",
       "      <td>80</td>\n",
       "      <td>48</td>\n",
       "      <td>50</td>\n",
       "      <td>52</td>\n",
       "      <td>340</td>\n",
       "    </tr>\n",
       "  </tbody>\n",
       "</table>\n",
       "<p>5 rows × 23 columns</p>\n",
       "</div>"
      ],
      "text/plain": [
       "   id  X0       X1    X2       X3    X4  X5   X6  X7  X8  ...  X12  X13  X14  \\\n",
       "0   0   1  1032217  1187  1011523  1172  57  100   1  80  ...   79   45   18   \n",
       "1   1   2  1059033  2128   505263  2104  82   27  87  79  ...   74   96   55   \n",
       "2   2   1   207787  1017   822639  1040  82   48  43  62  ...   16   64   35   \n",
       "3   3   1  1095582  1449    32841  1424  71   43  11  98  ...    1    7   41   \n",
       "4   4   2   963764  1202   489871  1182  11   62  16  55  ...   26   60   37   \n",
       "\n",
       "   X15  X16  X17  X18  X19  X20  X21  \n",
       "0   35   10   80   81   16    0  547  \n",
       "1   54   48    3   92    5   51  656  \n",
       "2   70   99   60   30   37   45  437  \n",
       "3   94   26   52   45   81    1  589  \n",
       "4    7    1   80   48   50   52  340  \n",
       "\n",
       "[5 rows x 23 columns]"
      ]
     },
     "execution_count": 19,
     "metadata": {},
     "output_type": "execute_result"
    }
   ],
   "source": [
    "data_test = pd.read_csv('test.csv')\n",
    "data_test.head()"
   ]
  },
  {
   "cell_type": "code",
   "execution_count": 20,
   "id": "24efe0de",
   "metadata": {},
   "outputs": [],
   "source": [
    "X_final_test = data_test.loc[:, 'X0':'X21']"
   ]
  },
  {
   "cell_type": "code",
   "execution_count": 25,
   "id": "f4300020",
   "metadata": {},
   "outputs": [],
   "source": [
    "y_final_test = cls_rf.predict_proba(X_final_test)\n",
    "y_final_test = y_final_test[:, 1]"
   ]
  },
  {
   "cell_type": "code",
   "execution_count": 26,
   "id": "ae504f74",
   "metadata": {},
   "outputs": [
    {
     "data": {
      "text/html": [
       "<div>\n",
       "<style scoped>\n",
       "    .dataframe tbody tr th:only-of-type {\n",
       "        vertical-align: middle;\n",
       "    }\n",
       "\n",
       "    .dataframe tbody tr th {\n",
       "        vertical-align: top;\n",
       "    }\n",
       "\n",
       "    .dataframe thead th {\n",
       "        text-align: right;\n",
       "    }\n",
       "</style>\n",
       "<table border=\"1\" class=\"dataframe\">\n",
       "  <thead>\n",
       "    <tr style=\"text-align: right;\">\n",
       "      <th></th>\n",
       "      <th>id</th>\n",
       "      <th>target</th>\n",
       "    </tr>\n",
       "  </thead>\n",
       "  <tbody>\n",
       "    <tr>\n",
       "      <th>0</th>\n",
       "      <td>0</td>\n",
       "      <td>0.38</td>\n",
       "    </tr>\n",
       "    <tr>\n",
       "      <th>1</th>\n",
       "      <td>1</td>\n",
       "      <td>0.42</td>\n",
       "    </tr>\n",
       "    <tr>\n",
       "      <th>2</th>\n",
       "      <td>2</td>\n",
       "      <td>0.38</td>\n",
       "    </tr>\n",
       "    <tr>\n",
       "      <th>3</th>\n",
       "      <td>3</td>\n",
       "      <td>0.40</td>\n",
       "    </tr>\n",
       "    <tr>\n",
       "      <th>4</th>\n",
       "      <td>4</td>\n",
       "      <td>0.37</td>\n",
       "    </tr>\n",
       "    <tr>\n",
       "      <th>...</th>\n",
       "      <td>...</td>\n",
       "      <td>...</td>\n",
       "    </tr>\n",
       "    <tr>\n",
       "      <th>908247</th>\n",
       "      <td>908247</td>\n",
       "      <td>0.29</td>\n",
       "    </tr>\n",
       "    <tr>\n",
       "      <th>908248</th>\n",
       "      <td>908248</td>\n",
       "      <td>0.34</td>\n",
       "    </tr>\n",
       "    <tr>\n",
       "      <th>908249</th>\n",
       "      <td>908249</td>\n",
       "      <td>0.34</td>\n",
       "    </tr>\n",
       "    <tr>\n",
       "      <th>908250</th>\n",
       "      <td>908250</td>\n",
       "      <td>0.31</td>\n",
       "    </tr>\n",
       "    <tr>\n",
       "      <th>908251</th>\n",
       "      <td>908251</td>\n",
       "      <td>0.33</td>\n",
       "    </tr>\n",
       "  </tbody>\n",
       "</table>\n",
       "<p>908252 rows × 2 columns</p>\n",
       "</div>"
      ],
      "text/plain": [
       "            id  target\n",
       "0            0    0.38\n",
       "1            1    0.42\n",
       "2            2    0.38\n",
       "3            3    0.40\n",
       "4            4    0.37\n",
       "...        ...     ...\n",
       "908247  908247    0.29\n",
       "908248  908248    0.34\n",
       "908249  908249    0.34\n",
       "908250  908250    0.31\n",
       "908251  908251    0.33\n",
       "\n",
       "[908252 rows x 2 columns]"
      ]
     },
     "execution_count": 26,
     "metadata": {},
     "output_type": "execute_result"
    }
   ],
   "source": [
    "ans = pd.DataFrame(data=y_final_test, columns=[\"target\"])\n",
    "ans.reset_index(level=0, inplace=True)\n",
    "ans.reset_index(drop=True, inplace=True)\n",
    "ans = ans.rename(columns={'index':'id'})"
   ]
  },
  {
   "cell_type": "code",
   "execution_count": 27,
   "id": "28cbf8a3",
   "metadata": {},
   "outputs": [],
   "source": [
    "ans.to_csv('submission.csv',index=False)"
   ]
  },
  {
   "source": [
    "### Попробуем перекодировать рейтинг игроков до игры по таргету"
   ],
   "cell_type": "markdown",
   "metadata": {}
  },
  {
   "cell_type": "code",
   "execution_count": 24,
   "metadata": {},
   "outputs": [
    {
     "output_type": "execute_result",
     "data": {
      "text/plain": [
       "   id  X0      X1    X2      X3    X4  X5  X6  X7  X8  ...  X13  X14  X15  \\\n",
       "0   0   2  908749   954  480270   935  71  79  53  89  ...   51  100   87   \n",
       "1   1   1  438444  2162  486685  2154  32  39  48  49  ...   39   83   91   \n",
       "2   2   1  596915  2066  711059  2081  43  21  58  94  ...    7   52   37   \n",
       "3   3   1  625198  1508   66810  1474   7   1  34  73  ...   39   27   55   \n",
       "4   4   2  228654  1202  542816  1196  53  35  16  80  ...   35   95   50   \n",
       "\n",
       "   X16  X17  X18  X19  X20  X21  target  \n",
       "0    3   61   48   43   79  329       0  \n",
       "1    6   57   94   15   89  581       1  \n",
       "2   50   69   60   89   10  548       0  \n",
       "3   97   83    1   88   87  555       1  \n",
       "4   55   10   49   12   68  651       0  \n",
       "\n",
       "[5 rows x 24 columns]"
      ],
      "text/html": "<div>\n<style scoped>\n    .dataframe tbody tr th:only-of-type {\n        vertical-align: middle;\n    }\n\n    .dataframe tbody tr th {\n        vertical-align: top;\n    }\n\n    .dataframe thead th {\n        text-align: right;\n    }\n</style>\n<table border=\"1\" class=\"dataframe\">\n  <thead>\n    <tr style=\"text-align: right;\">\n      <th></th>\n      <th>id</th>\n      <th>X0</th>\n      <th>X1</th>\n      <th>X2</th>\n      <th>X3</th>\n      <th>X4</th>\n      <th>X5</th>\n      <th>X6</th>\n      <th>X7</th>\n      <th>X8</th>\n      <th>...</th>\n      <th>X13</th>\n      <th>X14</th>\n      <th>X15</th>\n      <th>X16</th>\n      <th>X17</th>\n      <th>X18</th>\n      <th>X19</th>\n      <th>X20</th>\n      <th>X21</th>\n      <th>target</th>\n    </tr>\n  </thead>\n  <tbody>\n    <tr>\n      <th>0</th>\n      <td>0</td>\n      <td>2</td>\n      <td>908749</td>\n      <td>954</td>\n      <td>480270</td>\n      <td>935</td>\n      <td>71</td>\n      <td>79</td>\n      <td>53</td>\n      <td>89</td>\n      <td>...</td>\n      <td>51</td>\n      <td>100</td>\n      <td>87</td>\n      <td>3</td>\n      <td>61</td>\n      <td>48</td>\n      <td>43</td>\n      <td>79</td>\n      <td>329</td>\n      <td>0</td>\n    </tr>\n    <tr>\n      <th>1</th>\n      <td>1</td>\n      <td>1</td>\n      <td>438444</td>\n      <td>2162</td>\n      <td>486685</td>\n      <td>2154</td>\n      <td>32</td>\n      <td>39</td>\n      <td>48</td>\n      <td>49</td>\n      <td>...</td>\n      <td>39</td>\n      <td>83</td>\n      <td>91</td>\n      <td>6</td>\n      <td>57</td>\n      <td>94</td>\n      <td>15</td>\n      <td>89</td>\n      <td>581</td>\n      <td>1</td>\n    </tr>\n    <tr>\n      <th>2</th>\n      <td>2</td>\n      <td>1</td>\n      <td>596915</td>\n      <td>2066</td>\n      <td>711059</td>\n      <td>2081</td>\n      <td>43</td>\n      <td>21</td>\n      <td>58</td>\n      <td>94</td>\n      <td>...</td>\n      <td>7</td>\n      <td>52</td>\n      <td>37</td>\n      <td>50</td>\n      <td>69</td>\n      <td>60</td>\n      <td>89</td>\n      <td>10</td>\n      <td>548</td>\n      <td>0</td>\n    </tr>\n    <tr>\n      <th>3</th>\n      <td>3</td>\n      <td>1</td>\n      <td>625198</td>\n      <td>1508</td>\n      <td>66810</td>\n      <td>1474</td>\n      <td>7</td>\n      <td>1</td>\n      <td>34</td>\n      <td>73</td>\n      <td>...</td>\n      <td>39</td>\n      <td>27</td>\n      <td>55</td>\n      <td>97</td>\n      <td>83</td>\n      <td>1</td>\n      <td>88</td>\n      <td>87</td>\n      <td>555</td>\n      <td>1</td>\n    </tr>\n    <tr>\n      <th>4</th>\n      <td>4</td>\n      <td>2</td>\n      <td>228654</td>\n      <td>1202</td>\n      <td>542816</td>\n      <td>1196</td>\n      <td>53</td>\n      <td>35</td>\n      <td>16</td>\n      <td>80</td>\n      <td>...</td>\n      <td>35</td>\n      <td>95</td>\n      <td>50</td>\n      <td>55</td>\n      <td>10</td>\n      <td>49</td>\n      <td>12</td>\n      <td>68</td>\n      <td>651</td>\n      <td>0</td>\n    </tr>\n  </tbody>\n</table>\n<p>5 rows × 24 columns</p>\n</div>"
     },
     "metadata": {},
     "execution_count": 24
    }
   ],
   "source": [
    "data = pd.read_csv('train.csv')\n",
    "data.dropna()\n",
    "data.head()"
   ]
  },
  {
   "cell_type": "code",
   "execution_count": 25,
   "metadata": {},
   "outputs": [],
   "source": [
    "from category_encoders import TargetEncoder, one_hot"
   ]
  },
  {
   "cell_type": "code",
   "execution_count": 26,
   "metadata": {},
   "outputs": [
    {
     "output_type": "stream",
     "name": "stderr",
     "text": [
      "d:\\ozone-games\\.venv\\lib\\site-packages\\category_encoders\\utils.py:21: FutureWarning: is_categorical is deprecated and will be removed in a future version.  Use is_categorical_dtype instead\n  elif pd.api.types.is_categorical(cols):\n"
     ]
    }
   ],
   "source": [
    "target_encoder_X2 = TargetEncoder(smoothing=0.2)\n",
    "target_encoder_X2.fit(data['X2'], data['target'])\n",
    "\n",
    "target_encoder_X4 = TargetEncoder(smoothing=0.2)\n",
    "target_encoder_X4.fit(data['X4'], data['target'])\n",
    "\n",
    "data['X2'] = target_encoder_X2.transform(data['X2'])\n",
    "data['X4'] = target_encoder_X4.transform(data['X4'])"
   ]
  },
  {
   "cell_type": "code",
   "execution_count": 33,
   "metadata": {},
   "outputs": [],
   "source": [
    "dummies_X0 = pd.get_dummies(data['X0'])\n",
    "data_train = pd.concat([data, dummies_X0], axis=1) "
   ]
  },
  {
   "cell_type": "code",
   "execution_count": 34,
   "metadata": {},
   "outputs": [],
   "source": [
    "y = data_train.loc[:, 'target']\n",
    "data_train.drop('target' ,axis=1, inplace=True)"
   ]
  },
  {
   "cell_type": "code",
   "execution_count": 37,
   "metadata": {},
   "outputs": [],
   "source": [
    "X = data_train.loc[:, 'X1':8]"
   ]
  },
  {
   "cell_type": "code",
   "execution_count": 39,
   "metadata": {},
   "outputs": [],
   "source": [
    "X_train, X_test, y_train, y_test = train_test_split(X, y, test_size=0.8, random_state=241)"
   ]
  },
  {
   "cell_type": "code",
   "execution_count": 40,
   "metadata": {},
   "outputs": [
    {
     "output_type": "execute_result",
     "data": {
      "text/plain": [
       "RandomForestClassifier(n_estimators=150, random_state=241)"
      ]
     },
     "metadata": {},
     "execution_count": 40
    }
   ],
   "source": [
    "cls_rf2 = RandomForestClassifier(random_state=241, n_estimators=150)\n",
    "cls_rf2.fit(X_train, y_train)"
   ]
  },
  {
   "cell_type": "code",
   "execution_count": 42,
   "metadata": {},
   "outputs": [
    {
     "output_type": "execute_result",
     "data": {
      "text/plain": [
       "0.6678785193540708"
      ]
     },
     "metadata": {},
     "execution_count": 42
    }
   ],
   "source": [
    "log_loss(y_test, cls_rf2.predict_proba(X_test))"
   ]
  },
  {
   "cell_type": "code",
   "execution_count": 47,
   "metadata": {},
   "outputs": [
    {
     "output_type": "execute_result",
     "data": {
      "text/plain": [
       "   id  X0       X1    X2       X3    X4  X5   X6  X7  X8  ...  X12  X13  X14  \\\n",
       "0   0   1  1032217  1187  1011523  1172  57  100   1  80  ...   79   45   18   \n",
       "1   1   2  1059033  2128   505263  2104  82   27  87  79  ...   74   96   55   \n",
       "2   2   1   207787  1017   822639  1040  82   48  43  62  ...   16   64   35   \n",
       "3   3   1  1095582  1449    32841  1424  71   43  11  98  ...    1    7   41   \n",
       "4   4   2   963764  1202   489871  1182  11   62  16  55  ...   26   60   37   \n",
       "\n",
       "   X15  X16  X17  X18  X19  X20  X21  \n",
       "0   35   10   80   81   16    0  547  \n",
       "1   54   48    3   92    5   51  656  \n",
       "2   70   99   60   30   37   45  437  \n",
       "3   94   26   52   45   81    1  589  \n",
       "4    7    1   80   48   50   52  340  \n",
       "\n",
       "[5 rows x 23 columns]"
      ],
      "text/html": "<div>\n<style scoped>\n    .dataframe tbody tr th:only-of-type {\n        vertical-align: middle;\n    }\n\n    .dataframe tbody tr th {\n        vertical-align: top;\n    }\n\n    .dataframe thead th {\n        text-align: right;\n    }\n</style>\n<table border=\"1\" class=\"dataframe\">\n  <thead>\n    <tr style=\"text-align: right;\">\n      <th></th>\n      <th>id</th>\n      <th>X0</th>\n      <th>X1</th>\n      <th>X2</th>\n      <th>X3</th>\n      <th>X4</th>\n      <th>X5</th>\n      <th>X6</th>\n      <th>X7</th>\n      <th>X8</th>\n      <th>...</th>\n      <th>X12</th>\n      <th>X13</th>\n      <th>X14</th>\n      <th>X15</th>\n      <th>X16</th>\n      <th>X17</th>\n      <th>X18</th>\n      <th>X19</th>\n      <th>X20</th>\n      <th>X21</th>\n    </tr>\n  </thead>\n  <tbody>\n    <tr>\n      <th>0</th>\n      <td>0</td>\n      <td>1</td>\n      <td>1032217</td>\n      <td>1187</td>\n      <td>1011523</td>\n      <td>1172</td>\n      <td>57</td>\n      <td>100</td>\n      <td>1</td>\n      <td>80</td>\n      <td>...</td>\n      <td>79</td>\n      <td>45</td>\n      <td>18</td>\n      <td>35</td>\n      <td>10</td>\n      <td>80</td>\n      <td>81</td>\n      <td>16</td>\n      <td>0</td>\n      <td>547</td>\n    </tr>\n    <tr>\n      <th>1</th>\n      <td>1</td>\n      <td>2</td>\n      <td>1059033</td>\n      <td>2128</td>\n      <td>505263</td>\n      <td>2104</td>\n      <td>82</td>\n      <td>27</td>\n      <td>87</td>\n      <td>79</td>\n      <td>...</td>\n      <td>74</td>\n      <td>96</td>\n      <td>55</td>\n      <td>54</td>\n      <td>48</td>\n      <td>3</td>\n      <td>92</td>\n      <td>5</td>\n      <td>51</td>\n      <td>656</td>\n    </tr>\n    <tr>\n      <th>2</th>\n      <td>2</td>\n      <td>1</td>\n      <td>207787</td>\n      <td>1017</td>\n      <td>822639</td>\n      <td>1040</td>\n      <td>82</td>\n      <td>48</td>\n      <td>43</td>\n      <td>62</td>\n      <td>...</td>\n      <td>16</td>\n      <td>64</td>\n      <td>35</td>\n      <td>70</td>\n      <td>99</td>\n      <td>60</td>\n      <td>30</td>\n      <td>37</td>\n      <td>45</td>\n      <td>437</td>\n    </tr>\n    <tr>\n      <th>3</th>\n      <td>3</td>\n      <td>1</td>\n      <td>1095582</td>\n      <td>1449</td>\n      <td>32841</td>\n      <td>1424</td>\n      <td>71</td>\n      <td>43</td>\n      <td>11</td>\n      <td>98</td>\n      <td>...</td>\n      <td>1</td>\n      <td>7</td>\n      <td>41</td>\n      <td>94</td>\n      <td>26</td>\n      <td>52</td>\n      <td>45</td>\n      <td>81</td>\n      <td>1</td>\n      <td>589</td>\n    </tr>\n    <tr>\n      <th>4</th>\n      <td>4</td>\n      <td>2</td>\n      <td>963764</td>\n      <td>1202</td>\n      <td>489871</td>\n      <td>1182</td>\n      <td>11</td>\n      <td>62</td>\n      <td>16</td>\n      <td>55</td>\n      <td>...</td>\n      <td>26</td>\n      <td>60</td>\n      <td>37</td>\n      <td>7</td>\n      <td>1</td>\n      <td>80</td>\n      <td>48</td>\n      <td>50</td>\n      <td>52</td>\n      <td>340</td>\n    </tr>\n  </tbody>\n</table>\n<p>5 rows × 23 columns</p>\n</div>"
     },
     "metadata": {},
     "execution_count": 47
    }
   ],
   "source": [
    "data_test = pd.read_csv('test.csv')\n",
    "data_test.head()"
   ]
  },
  {
   "cell_type": "code",
   "execution_count": 50,
   "metadata": {},
   "outputs": [
    {
     "output_type": "stream",
     "name": "stderr",
     "text": [
      "d:\\ozone-games\\.venv\\lib\\site-packages\\pandas\\core\\frame.py:3599: SettingWithCopyWarning: \nA value is trying to be set on a copy of a slice from a DataFrame.\nTry using .loc[row_indexer,col_indexer] = value instead\n\nSee the caveats in the documentation: https://pandas.pydata.org/pandas-docs/stable/user_guide/indexing.html#returning-a-view-versus-a-copy\n  self._set_item_frame_value(key, value)\n"
     ]
    },
    {
     "output_type": "execute_result",
     "data": {
      "text/plain": [
       "        X1    X2       X3    X4  X5   X6  X7  X8  X9  X10  ...  X19  X20  X21  \\\n",
       "0  1032217  1187  1011523  1172  57  100   1  80  25   87  ...   16    0  547   \n",
       "1  1059033  2128   505263  2104  82   27  87  79  80   71  ...    5   51  656   \n",
       "2   207787  1017   822639  1040  82   48  43  62  18   60  ...   37   45  437   \n",
       "3  1095582  1449    32841  1424  71   43  11  98  80   33  ...   81    1  589   \n",
       "4   963764  1202   489871  1182  11   62  16  55  88   92  ...   50   52  340   \n",
       "\n",
       "   1  2  3  4  5  6  8  \n",
       "0  1  0  0  0  0  0  0  \n",
       "1  0  1  0  0  0  0  0  \n",
       "2  1  0  0  0  0  0  0  \n",
       "3  1  0  0  0  0  0  0  \n",
       "4  0  1  0  0  0  0  0  \n",
       "\n",
       "[5 rows x 28 columns]"
      ],
      "text/html": "<div>\n<style scoped>\n    .dataframe tbody tr th:only-of-type {\n        vertical-align: middle;\n    }\n\n    .dataframe tbody tr th {\n        vertical-align: top;\n    }\n\n    .dataframe thead th {\n        text-align: right;\n    }\n</style>\n<table border=\"1\" class=\"dataframe\">\n  <thead>\n    <tr style=\"text-align: right;\">\n      <th></th>\n      <th>X1</th>\n      <th>X2</th>\n      <th>X3</th>\n      <th>X4</th>\n      <th>X5</th>\n      <th>X6</th>\n      <th>X7</th>\n      <th>X8</th>\n      <th>X9</th>\n      <th>X10</th>\n      <th>...</th>\n      <th>X19</th>\n      <th>X20</th>\n      <th>X21</th>\n      <th>1</th>\n      <th>2</th>\n      <th>3</th>\n      <th>4</th>\n      <th>5</th>\n      <th>6</th>\n      <th>8</th>\n    </tr>\n  </thead>\n  <tbody>\n    <tr>\n      <th>0</th>\n      <td>1032217</td>\n      <td>1187</td>\n      <td>1011523</td>\n      <td>1172</td>\n      <td>57</td>\n      <td>100</td>\n      <td>1</td>\n      <td>80</td>\n      <td>25</td>\n      <td>87</td>\n      <td>...</td>\n      <td>16</td>\n      <td>0</td>\n      <td>547</td>\n      <td>1</td>\n      <td>0</td>\n      <td>0</td>\n      <td>0</td>\n      <td>0</td>\n      <td>0</td>\n      <td>0</td>\n    </tr>\n    <tr>\n      <th>1</th>\n      <td>1059033</td>\n      <td>2128</td>\n      <td>505263</td>\n      <td>2104</td>\n      <td>82</td>\n      <td>27</td>\n      <td>87</td>\n      <td>79</td>\n      <td>80</td>\n      <td>71</td>\n      <td>...</td>\n      <td>5</td>\n      <td>51</td>\n      <td>656</td>\n      <td>0</td>\n      <td>1</td>\n      <td>0</td>\n      <td>0</td>\n      <td>0</td>\n      <td>0</td>\n      <td>0</td>\n    </tr>\n    <tr>\n      <th>2</th>\n      <td>207787</td>\n      <td>1017</td>\n      <td>822639</td>\n      <td>1040</td>\n      <td>82</td>\n      <td>48</td>\n      <td>43</td>\n      <td>62</td>\n      <td>18</td>\n      <td>60</td>\n      <td>...</td>\n      <td>37</td>\n      <td>45</td>\n      <td>437</td>\n      <td>1</td>\n      <td>0</td>\n      <td>0</td>\n      <td>0</td>\n      <td>0</td>\n      <td>0</td>\n      <td>0</td>\n    </tr>\n    <tr>\n      <th>3</th>\n      <td>1095582</td>\n      <td>1449</td>\n      <td>32841</td>\n      <td>1424</td>\n      <td>71</td>\n      <td>43</td>\n      <td>11</td>\n      <td>98</td>\n      <td>80</td>\n      <td>33</td>\n      <td>...</td>\n      <td>81</td>\n      <td>1</td>\n      <td>589</td>\n      <td>1</td>\n      <td>0</td>\n      <td>0</td>\n      <td>0</td>\n      <td>0</td>\n      <td>0</td>\n      <td>0</td>\n    </tr>\n    <tr>\n      <th>4</th>\n      <td>963764</td>\n      <td>1202</td>\n      <td>489871</td>\n      <td>1182</td>\n      <td>11</td>\n      <td>62</td>\n      <td>16</td>\n      <td>55</td>\n      <td>88</td>\n      <td>92</td>\n      <td>...</td>\n      <td>50</td>\n      <td>52</td>\n      <td>340</td>\n      <td>0</td>\n      <td>1</td>\n      <td>0</td>\n      <td>0</td>\n      <td>0</td>\n      <td>0</td>\n      <td>0</td>\n    </tr>\n  </tbody>\n</table>\n<p>5 rows × 28 columns</p>\n</div>"
     },
     "metadata": {},
     "execution_count": 50
    }
   ],
   "source": [
    "X_final_test = data_test.loc[:, 'X0':'X21']\n",
    "\n",
    "X_final_test['X2'] = target_encoder_X2.transform(X_final_test['X2'])\n",
    "X_final_test['X4'] = target_encoder_X4.transform(X_final_test['X4'])\n",
    "\n",
    "dummies_X0 = pd.get_dummies(X_final_test['X0'])\n",
    "X_final_test = pd.concat([X_final_test, dummies_X0], axis=1)\n",
    "X_final_test = X_final_test.loc[:, 'X1':]\n",
    "X_final_test.head() "
   ]
  },
  {
   "cell_type": "code",
   "execution_count": 52,
   "metadata": {},
   "outputs": [],
   "source": [
    "y_final_test = cls_rf2.predict_proba(X_final_test)\n",
    "y_final_test = y_final_test[:, 1]"
   ]
  },
  {
   "cell_type": "code",
   "execution_count": 53,
   "metadata": {},
   "outputs": [
    {
     "output_type": "execute_result",
     "data": {
      "text/plain": [
       "   id    target\n",
       "0   0  0.420000\n",
       "1   1  0.386667\n",
       "2   2  0.366667\n",
       "3   3  0.433333\n",
       "4   4  0.466667"
      ],
      "text/html": "<div>\n<style scoped>\n    .dataframe tbody tr th:only-of-type {\n        vertical-align: middle;\n    }\n\n    .dataframe tbody tr th {\n        vertical-align: top;\n    }\n\n    .dataframe thead th {\n        text-align: right;\n    }\n</style>\n<table border=\"1\" class=\"dataframe\">\n  <thead>\n    <tr style=\"text-align: right;\">\n      <th></th>\n      <th>id</th>\n      <th>target</th>\n    </tr>\n  </thead>\n  <tbody>\n    <tr>\n      <th>0</th>\n      <td>0</td>\n      <td>0.420000</td>\n    </tr>\n    <tr>\n      <th>1</th>\n      <td>1</td>\n      <td>0.386667</td>\n    </tr>\n    <tr>\n      <th>2</th>\n      <td>2</td>\n      <td>0.366667</td>\n    </tr>\n    <tr>\n      <th>3</th>\n      <td>3</td>\n      <td>0.433333</td>\n    </tr>\n    <tr>\n      <th>4</th>\n      <td>4</td>\n      <td>0.466667</td>\n    </tr>\n  </tbody>\n</table>\n</div>"
     },
     "metadata": {},
     "execution_count": 53
    }
   ],
   "source": [
    "ans = pd.DataFrame(data=y_final_test, columns=[\"target\"])\n",
    "ans.reset_index(level=0, inplace=True)\n",
    "ans.reset_index(drop=True, inplace=True)\n",
    "ans = ans.rename(columns={'index':'id'})\n",
    "ans.head()"
   ]
  },
  {
   "cell_type": "code",
   "execution_count": 54,
   "metadata": {},
   "outputs": [],
   "source": [
    "ans.to_csv('submission.csv',index=False)"
   ]
  },
  {
   "cell_type": "code",
   "execution_count": null,
   "metadata": {},
   "outputs": [],
   "source": []
  }
 ],
 "metadata": {
  "kernelspec": {
   "display_name": "Python 3 (ipykernel)",
   "language": "python",
   "name": "python3"
  }
 },
 "nbformat": 4,
 "nbformat_minor": 5
}